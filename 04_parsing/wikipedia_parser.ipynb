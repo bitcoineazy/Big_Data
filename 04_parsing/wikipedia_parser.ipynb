{
 "cells": [
  {
   "cell_type": "code",
   "execution_count": 1,
   "metadata": {},
   "outputs": [
    {
     "name": "stdout",
     "output_type": "stream",
     "text": [
      "https://ru.wikipedia.org/wiki/%D0%9A%D0%B0%D1%82%D0%B5%D0%B3%D0%BE%D1%80%D0%B8%D1%8F:%D0%93%D0%BE%D1%80%D0%BE%D0%B4%D0%B0_%D0%BF%D0%BE_%D1%81%D1%83%D0%B1%D1%8A%D0%B5%D0%BA%D1%82%D0%B0%D0%BC_%D0%A0%D0%BE%D1%81%D1%81%D0%B8%D0%B9%D1%81%D0%BA%D0%BE%D0%B9_%D0%A4%D0%B5%D0%B4%D0%B5%D1%80%D0%B0%D1%86%D0%B8%D0%B8\n"
     ]
    }
   ],
   "source": [
    "import urllib\n",
    "import urllib.parse\n",
    "import urllib.request\n",
    "from bs4 import BeautifulSoup\n",
    "import pandas as pd\n",
    "\n",
    "\n",
    "url_wikipedia = 'https://ru.wikipedia.org'\n",
    "url_es = 'https://ru.wikipedia.org/wiki/Категория:Города_по_субъектам_Российской_Федерации'\n",
    "url_es_q  = urllib.parse.quote(url_es, safe='/:')\n",
    "print(url_es_q)"
   ]
  },
  {
   "cell_type": "code",
   "execution_count": 7,
   "metadata": {},
   "outputs": [],
   "source": [
    "es_bs = BeautifulSoup(urllib.request.urlopen(url_es_q), 'lxml')"
   ]
  },
  {
   "cell_type": "code",
   "execution_count": 7,
   "metadata": {},
   "outputs": [],
   "source": []
  },
  {
   "cell_type": "code",
   "execution_count": 8,
   "metadata": {},
   "outputs": [],
   "source": [
    "all_es = []\n",
    "# for i in range(30):\n",
    "for links in es_bs.find_all('div', class_='mw-category-group'):\n",
    "    for l in links.find_all('a'):\n",
    "        all_es.append((l['title'], url_wikipedia+l['href']))"
   ]
  },
  {
   "cell_type": "code",
   "execution_count": 9,
   "metadata": {},
   "outputs": [
    {
     "data": {
      "text/plain": "87"
     },
     "execution_count": 9,
     "metadata": {},
     "output_type": "execute_result"
    }
   ],
   "source": [
    "len(all_es)"
   ]
  },
  {
   "cell_type": "code",
   "execution_count": 10,
   "metadata": {
    "scrolled": true
   },
   "outputs": [],
   "source": [
    "\n",
    "all_es_prop = []\n",
    "\n",
    "for i, (n, lnk) in enumerate(all_es[:30]):\n",
    "    es = BeautifulSoup(urllib.request.urlopen(lnk), 'lxml')\n",
    "    es_pr = {}\n",
    "    city_info = {}\n",
    "    \n",
    "    all_cities_in_group = []\n",
    "    group_cities_links = []\n",
    "    saved_th = []\n",
    "    cities = []\n",
    "\n",
    "    \n",
    "    mw_pages = es.find(\"div\", {\"id\": \"mw-pages\"})\n",
    "    if mw_pages is not None:\n",
    "        group_cities = mw_pages.find_all(\"a\")\n",
    "        for each_a in group_cities:\n",
    "            if \"Городские\" in each_a[\"title\"]:\n",
    "                group_cities_links.append(f\"https://ru.wikipedia.org{each_a['href']}\")\n",
    "                all_cities_in_group.append(each_a[\"title\"])\n",
    "                \n",
    "    for link in group_cities_links:\n",
    "        cs = BeautifulSoup(urllib.request.urlopen(link), 'lxml')\n",
    "        cities_table = cs.find(\"table\", class_=\"standard\")\n",
    "        if cities_table is not None:\n",
    "            for row in cities_table.find_all(\"tr\"):\n",
    "                th = row.find_all(\"th\")\n",
    "                if th:\n",
    "                    for i in range(len(th)):\n",
    "                        saved_th.append(th[i].text.strip())\n",
    "                td = row.find_all('td')\n",
    "                if td:\n",
    "                    for i in range(len(td)):\n",
    "                        es_pr[saved_th[i]] = td[i].text.strip()\n",
    "                        if i == len(td)- 1:\n",
    "                            es_pr[\"Область\"] = n.split(\":\")[1]\n",
    "                            cities.append(es_pr)\n",
    "                            es_pr = {}\n",
    "\n",
    "    if len(cities) > 0:\n",
    "        all_es_prop.append({\"Область\": n.split(\":\")[1], \"Города\": cities})\n",
    "        "
   ]
  },
  {
   "cell_type": "code",
   "execution_count": 11,
   "metadata": {},
   "outputs": [
    {
     "data": {
      "text/plain": "               №         название  \\\nОбласть                             \nГорода Крыма   1           Алупка   \nГорода Крыма   2           Алушта   \nГорода Крыма   3          Армянск   \nГорода Крыма   4       Бахчисарай   \nГорода Крыма   5        Белогорск   \nГорода Крыма   6          Джанкой   \nГорода Крыма   7        Евпатория   \nГорода Крыма   8            Керчь   \nГорода Крыма   9  Красноперекопск   \nГорода Крыма  10             Саки   \nГорода Крыма  11      Симферополь   \nГорода Крыма  12      Старый Крым   \nГорода Крыма  13            Судак   \nГорода Крыма  14         Феодосия   \nГорода Крыма  15          Щёлкино   \nГорода Крыма  16             Ялта   \n\n             район[5] / город   республиканского значения[6] население(чел.)  \\\nОбласть                                                                        \nГорода Крыма                                            Ялта        ↗9063[4]   \nГорода Крыма                                          Алушта      ↗31 364[4]   \nГорода Крыма                                         Армянск      ↘20 692[4]   \nГорода Крыма                            Бахчисарайский район      ↗28 609[4]   \nГорода Крыма                               Белогорский район      ↗17 445[4]   \nГорода Крыма                                         Джанкой      ↘37 014[4]   \nГорода Крыма                                       Евпатория     ↘107 877[4]   \nГорода Крыма                                           Керчь     ↗154 621[4]   \nГорода Крыма                                 Красноперекопск      ↗25 569[4]   \nГорода Крыма                                            Саки      ↘24 285[4]   \nГорода Крыма                                     Симферополь     ↘340 540[4]   \nГорода Крыма                                 Кировский район      ↗10 470[4]   \nГорода Крыма                                           Судак      ↗17 834[4]   \nГорода Крыма                                        Феодосия      ↘66 293[4]   \nГорода Крыма                                 Ленинский район      ↘10 131[4]   \nГорода Крыма                                            Ялта      ↘74 652[4]   \n\n             основание / первое упоминание              статус города герб  \nОбласть                                                                     \nГорода Крыма                           960                       1938       \nГорода Крыма                         VI в.                       1902       \nГорода Крыма                          1736                       1993       \nГорода Крыма                          1389                                  \nГорода Крыма                       XIII в.                                  \nГорода Крыма                          1855                       1917       \nГорода Крыма                  497 до н. э.                                  \nГорода Крыма               VII в. до н. э.                                  \nГорода Крыма                          1932                       1966       \nГорода Крыма                                                     1952       \nГорода Крыма                          1784                                  \nГорода Крыма                      XIII век                                  \nГорода Крыма                           212  до XVIII в., вновь с 1982       \nГорода Крыма                VI в. до н. э.                                  \nГорода Крыма                          1978                       1992       \nГорода Крыма                          1154                       1838       ",
      "text/html": "<div>\n<style scoped>\n    .dataframe tbody tr th:only-of-type {\n        vertical-align: middle;\n    }\n\n    .dataframe tbody tr th {\n        vertical-align: top;\n    }\n\n    .dataframe thead th {\n        text-align: right;\n    }\n</style>\n<table border=\"1\" class=\"dataframe\">\n  <thead>\n    <tr style=\"text-align: right;\">\n      <th></th>\n      <th>№</th>\n      <th>название</th>\n      <th>район[5] / город   республиканского значения[6]</th>\n      <th>население(чел.)</th>\n      <th>основание / первое упоминание</th>\n      <th>статус города</th>\n      <th>герб</th>\n    </tr>\n    <tr>\n      <th>Область</th>\n      <th></th>\n      <th></th>\n      <th></th>\n      <th></th>\n      <th></th>\n      <th></th>\n      <th></th>\n    </tr>\n  </thead>\n  <tbody>\n    <tr>\n      <th>Города Крыма</th>\n      <td>1</td>\n      <td>Алупка</td>\n      <td>Ялта</td>\n      <td>↗9063[4]</td>\n      <td>960</td>\n      <td>1938</td>\n      <td></td>\n    </tr>\n    <tr>\n      <th>Города Крыма</th>\n      <td>2</td>\n      <td>Алушта</td>\n      <td>Алушта</td>\n      <td>↗31 364[4]</td>\n      <td>VI в.</td>\n      <td>1902</td>\n      <td></td>\n    </tr>\n    <tr>\n      <th>Города Крыма</th>\n      <td>3</td>\n      <td>Армянск</td>\n      <td>Армянск</td>\n      <td>↘20 692[4]</td>\n      <td>1736</td>\n      <td>1993</td>\n      <td></td>\n    </tr>\n    <tr>\n      <th>Города Крыма</th>\n      <td>4</td>\n      <td>Бахчисарай</td>\n      <td>Бахчисарайский район</td>\n      <td>↗28 609[4]</td>\n      <td>1389</td>\n      <td></td>\n      <td></td>\n    </tr>\n    <tr>\n      <th>Города Крыма</th>\n      <td>5</td>\n      <td>Белогорск</td>\n      <td>Белогорский район</td>\n      <td>↗17 445[4]</td>\n      <td>XIII в.</td>\n      <td></td>\n      <td></td>\n    </tr>\n    <tr>\n      <th>Города Крыма</th>\n      <td>6</td>\n      <td>Джанкой</td>\n      <td>Джанкой</td>\n      <td>↘37 014[4]</td>\n      <td>1855</td>\n      <td>1917</td>\n      <td></td>\n    </tr>\n    <tr>\n      <th>Города Крыма</th>\n      <td>7</td>\n      <td>Евпатория</td>\n      <td>Евпатория</td>\n      <td>↘107 877[4]</td>\n      <td>497 до н. э.</td>\n      <td></td>\n      <td></td>\n    </tr>\n    <tr>\n      <th>Города Крыма</th>\n      <td>8</td>\n      <td>Керчь</td>\n      <td>Керчь</td>\n      <td>↗154 621[4]</td>\n      <td>VII в. до н. э.</td>\n      <td></td>\n      <td></td>\n    </tr>\n    <tr>\n      <th>Города Крыма</th>\n      <td>9</td>\n      <td>Красноперекопск</td>\n      <td>Красноперекопск</td>\n      <td>↗25 569[4]</td>\n      <td>1932</td>\n      <td>1966</td>\n      <td></td>\n    </tr>\n    <tr>\n      <th>Города Крыма</th>\n      <td>10</td>\n      <td>Саки</td>\n      <td>Саки</td>\n      <td>↘24 285[4]</td>\n      <td></td>\n      <td>1952</td>\n      <td></td>\n    </tr>\n    <tr>\n      <th>Города Крыма</th>\n      <td>11</td>\n      <td>Симферополь</td>\n      <td>Симферополь</td>\n      <td>↘340 540[4]</td>\n      <td>1784</td>\n      <td></td>\n      <td></td>\n    </tr>\n    <tr>\n      <th>Города Крыма</th>\n      <td>12</td>\n      <td>Старый Крым</td>\n      <td>Кировский район</td>\n      <td>↗10 470[4]</td>\n      <td>XIII век</td>\n      <td></td>\n      <td></td>\n    </tr>\n    <tr>\n      <th>Города Крыма</th>\n      <td>13</td>\n      <td>Судак</td>\n      <td>Судак</td>\n      <td>↗17 834[4]</td>\n      <td>212</td>\n      <td>до XVIII в., вновь с 1982</td>\n      <td></td>\n    </tr>\n    <tr>\n      <th>Города Крыма</th>\n      <td>14</td>\n      <td>Феодосия</td>\n      <td>Феодосия</td>\n      <td>↘66 293[4]</td>\n      <td>VI в. до н. э.</td>\n      <td></td>\n      <td></td>\n    </tr>\n    <tr>\n      <th>Города Крыма</th>\n      <td>15</td>\n      <td>Щёлкино</td>\n      <td>Ленинский район</td>\n      <td>↘10 131[4]</td>\n      <td>1978</td>\n      <td>1992</td>\n      <td></td>\n    </tr>\n    <tr>\n      <th>Города Крыма</th>\n      <td>16</td>\n      <td>Ялта</td>\n      <td>Ялта</td>\n      <td>↘74 652[4]</td>\n      <td>1154</td>\n      <td>1838</td>\n      <td></td>\n    </tr>\n  </tbody>\n</table>\n</div>"
     },
     "execution_count": 11,
     "metadata": {},
     "output_type": "execute_result"
    }
   ],
   "source": [
    "pd.json_normalize(all_es_prop[0][\"Города\"]).set_index(\"Область\")"
   ]
  },
  {
   "cell_type": "code",
   "execution_count": 12,
   "metadata": {},
   "outputs": [
    {
     "data": {
      "text/plain": "   №   название район / ЗАТО / город  областного значения[4] население(чел.)  \\\n0  1  Астрахань                                    Астрахань     ↘475 629[3]   \n1  2  Ахтубинск                            Ахтубинский район      ↘35 635[3]   \n2  3   Знаменск                               Знаменск, ЗАТО      ↘24 628[3]   \n3  4    Камызяк                            Камызякский район      ↗16 154[3]   \n4  5  Нариманов                          Наримановский район      ↗11 104[3]   \n5  6   Харабали                          Харабалинский район      ↗18 514[3]   \n\n  основание / первое упоминание статус города герб  \\\n0                          1558          1717        \n1                          1793          1959        \n2                          1948          1962        \n3                          1560          1973        \n4                          1963          1984        \n5                          1789          1974        \n\n                       Область  \n0  Города Астраханской области  \n1  Города Астраханской области  \n2  Города Астраханской области  \n3  Города Астраханской области  \n4  Города Астраханской области  \n5  Города Астраханской области  ",
      "text/html": "<div>\n<style scoped>\n    .dataframe tbody tr th:only-of-type {\n        vertical-align: middle;\n    }\n\n    .dataframe tbody tr th {\n        vertical-align: top;\n    }\n\n    .dataframe thead th {\n        text-align: right;\n    }\n</style>\n<table border=\"1\" class=\"dataframe\">\n  <thead>\n    <tr style=\"text-align: right;\">\n      <th></th>\n      <th>№</th>\n      <th>название</th>\n      <th>район / ЗАТО / город  областного значения[4]</th>\n      <th>население(чел.)</th>\n      <th>основание / первое упоминание</th>\n      <th>статус города</th>\n      <th>герб</th>\n      <th>Область</th>\n    </tr>\n  </thead>\n  <tbody>\n    <tr>\n      <th>0</th>\n      <td>1</td>\n      <td>Астрахань</td>\n      <td>Астрахань</td>\n      <td>↘475 629[3]</td>\n      <td>1558</td>\n      <td>1717</td>\n      <td></td>\n      <td>Города Астраханской области</td>\n    </tr>\n    <tr>\n      <th>1</th>\n      <td>2</td>\n      <td>Ахтубинск</td>\n      <td>Ахтубинский район</td>\n      <td>↘35 635[3]</td>\n      <td>1793</td>\n      <td>1959</td>\n      <td></td>\n      <td>Города Астраханской области</td>\n    </tr>\n    <tr>\n      <th>2</th>\n      <td>3</td>\n      <td>Знаменск</td>\n      <td>Знаменск, ЗАТО</td>\n      <td>↘24 628[3]</td>\n      <td>1948</td>\n      <td>1962</td>\n      <td></td>\n      <td>Города Астраханской области</td>\n    </tr>\n    <tr>\n      <th>3</th>\n      <td>4</td>\n      <td>Камызяк</td>\n      <td>Камызякский район</td>\n      <td>↗16 154[3]</td>\n      <td>1560</td>\n      <td>1973</td>\n      <td></td>\n      <td>Города Астраханской области</td>\n    </tr>\n    <tr>\n      <th>4</th>\n      <td>5</td>\n      <td>Нариманов</td>\n      <td>Наримановский район</td>\n      <td>↗11 104[3]</td>\n      <td>1963</td>\n      <td>1984</td>\n      <td></td>\n      <td>Города Астраханской области</td>\n    </tr>\n    <tr>\n      <th>5</th>\n      <td>6</td>\n      <td>Харабали</td>\n      <td>Харабалинский район</td>\n      <td>↗18 514[3]</td>\n      <td>1789</td>\n      <td>1974</td>\n      <td></td>\n      <td>Города Астраханской области</td>\n    </tr>\n  </tbody>\n</table>\n</div>"
     },
     "execution_count": 12,
     "metadata": {},
     "output_type": "execute_result"
    }
   ],
   "source": [
    "pd.json_normalize(all_es_prop[6][\"Города\"])"
   ]
  },
  {
   "cell_type": "code",
   "execution_count": 13,
   "metadata": {},
   "outputs": [
    {
     "name": "stdout",
     "output_type": "stream",
     "text": [
      "28\n"
     ]
    }
   ],
   "source": [
    "print(len(all_es_prop))"
   ]
  },
  {
   "cell_type": "code",
   "execution_count": 14,
   "metadata": {},
   "outputs": [
    {
     "data": {
      "text/plain": "     №                       название  \\\n0    1                         Алупка   \n1    2                         Алушта   \n2    3                        Армянск   \n3    4                     Бахчисарай   \n4    5                      Белогорск   \n..  ..                            ...   \n8    9  Питкяранта(карел. Pitkyrandu)   \n9   10          Пудож(карел. Puudoži)   \n10  11          Сегежа(карел. Segeža)   \n11  12    Сортавала(карел. Sortavala)   \n12  13       Суоярви(карел. Suojärvi)   \n\n   район[5] / город   республиканского значения[6] население(чел.)  \\\n0                                             Ялта        ↗9063[4]   \n1                                           Алушта      ↗31 364[4]   \n2                                          Армянск      ↘20 692[4]   \n3                             Бахчисарайский район      ↗28 609[4]   \n4                                Белогорский район      ↗17 445[4]   \n..                                             ...             ...   \n8                                              NaN        ↘9818[4]   \n9                                              NaN        ↘8387[4]   \n10                                             NaN      ↘25 334[4]   \n11                                             NaN      ↘18 600[4]   \n12                                             NaN        ↘8339[4]   \n\n   основание / первое упоминание статус города герб  \\\n0                            960          1938        \n1                          VI в.          1902        \n2                           1736          1993        \n3                           1389                      \n4                        XIII в.                      \n..                           ...           ...  ...   \n8                            NaN          1940        \n9                            NaN          1785        \n10                           NaN          1943        \n11                           NaN          1783        \n12                           NaN          1940        \n\n                      Область  \\\n0                Города Крыма   \n1                Города Крыма   \n2                Города Крыма   \n3                Города Крыма   \n4                Города Крыма   \n..                        ...   \n8   Города Республики Карелия   \n9   Города Республики Карелия   \n10  Города Республики Карелия   \n11  Города Республики Карелия   \n12  Города Республики Карелия   \n\n   город республиканского значения (городской округ) основан  ...  \\\n0                                                NaN     NaN  ...   \n1                                                NaN     NaN  ...   \n2                                                NaN     NaN  ...   \n3                                                NaN     NaN  ...   \n4                                                NaN     NaN  ...   \n..                                               ...     ...  ...   \n8                                                NaN     NaN  ...   \n9                                                NaN     NaN  ...   \n10                                               NaN     NaN  ...   \n11                                               NaN     NaN  ...   \n12                                               NaN     NaN  ...   \n\n   площадь  (км²) район  / город областного значения[6]  \\\n0             NaN                                   NaN   \n1             NaN                                   NaN   \n2             NaN                                   NaN   \n3             NaN                                   NaN   \n4             NaN                                   NaN   \n..            ...                                   ...   \n8             NaN                                   NaN   \n9             NaN                                   NaN   \n10            NaN                                   NaN   \n11            NaN                                   NaN   \n12            NaN                                   NaN   \n\n   городской/муниципальный округ[7]  \\\n0                               NaN   \n1                               NaN   \n2                               NaN   \n3                               NaN   \n4                               NaN   \n..                              ...   \n8                               NaN   \n9                               NaN   \n10                              NaN   \n11                              NaN   \n12                              NaN   \n\n   район[4] / город   республиканского значения[5]  \\\n0                                              NaN   \n1                                              NaN   \n2                                              NaN   \n3                                              NaN   \n4                                              NaN   \n..                                             ...   \n8                                              NaN   \n9                                              NaN   \n10                                             NaN   \n11                                             NaN   \n12                                             NaN   \n\n   основание /первое упоминание муниципальный район  / городской округ  \\\n0                           NaN                                    NaN   \n1                           NaN                                    NaN   \n2                           NaN                                    NaN   \n3                           NaN                                    NaN   \n4                           NaN                                    NaN   \n..                          ...                                    ...   \n8                          1499                                    NaN   \n9                          1382                                    NaN   \n10                         1914                                    NaN   \n11                         1468                                    NaN   \n12                      XVI век                                    NaN   \n\n   район/город[3] мун.район  / городской округ[4]  \\\n0             NaN                             NaN   \n1             NaN                             NaN   \n2             NaN                             NaN   \n3             NaN                             NaN   \n4             NaN                             NaN   \n..            ...                             ...   \n8             NaN                             NaN   \n9             NaN                             NaN   \n10            NaN                             NaN   \n11            NaN                             NaN   \n12            NaN                             NaN   \n\n   район / город  республиканского значения[6]  \\\n0                                          NaN   \n1                                          NaN   \n2                                          NaN   \n3                                          NaN   \n4                                          NaN   \n..                                         ...   \n8                          Питкярантский район   \n9                              Пудожский район   \n10                             Сегежский район   \n11                                   Сортавала   \n12                            Суоярвский район   \n\n   мун. район /  городской округ[7]  \n0                               NaN  \n1                               NaN  \n2                               NaN  \n3                               NaN  \n4                               NaN  \n..                              ...  \n8           Питкярантский мун.район  \n9               Пудожский мун.район  \n10              Сегежский мун.район  \n11          Сортавальский мун.район  \n12             Суоярвский мун.район  \n\n[329 rows x 69 columns]",
      "text/html": "<div>\n<style scoped>\n    .dataframe tbody tr th:only-of-type {\n        vertical-align: middle;\n    }\n\n    .dataframe tbody tr th {\n        vertical-align: top;\n    }\n\n    .dataframe thead th {\n        text-align: right;\n    }\n</style>\n<table border=\"1\" class=\"dataframe\">\n  <thead>\n    <tr style=\"text-align: right;\">\n      <th></th>\n      <th>№</th>\n      <th>название</th>\n      <th>район[5] / город   республиканского значения[6]</th>\n      <th>население(чел.)</th>\n      <th>основание / первое упоминание</th>\n      <th>статус города</th>\n      <th>герб</th>\n      <th>Область</th>\n      <th>город республиканского значения (городской округ)</th>\n      <th>основан</th>\n      <th>...</th>\n      <th>площадь  (км²)</th>\n      <th>район  / город областного значения[6]</th>\n      <th>городской/муниципальный округ[7]</th>\n      <th>район[4] / город   республиканского значения[5]</th>\n      <th>основание /первое упоминание</th>\n      <th>муниципальный район  / городской округ</th>\n      <th>район/город[3]</th>\n      <th>мун.район  / городской округ[4]</th>\n      <th>район / город  республиканского значения[6]</th>\n      <th>мун. район /  городской округ[7]</th>\n    </tr>\n  </thead>\n  <tbody>\n    <tr>\n      <th>0</th>\n      <td>1</td>\n      <td>Алупка</td>\n      <td>Ялта</td>\n      <td>↗9063[4]</td>\n      <td>960</td>\n      <td>1938</td>\n      <td></td>\n      <td>Города Крыма</td>\n      <td>NaN</td>\n      <td>NaN</td>\n      <td>...</td>\n      <td>NaN</td>\n      <td>NaN</td>\n      <td>NaN</td>\n      <td>NaN</td>\n      <td>NaN</td>\n      <td>NaN</td>\n      <td>NaN</td>\n      <td>NaN</td>\n      <td>NaN</td>\n      <td>NaN</td>\n    </tr>\n    <tr>\n      <th>1</th>\n      <td>2</td>\n      <td>Алушта</td>\n      <td>Алушта</td>\n      <td>↗31 364[4]</td>\n      <td>VI в.</td>\n      <td>1902</td>\n      <td></td>\n      <td>Города Крыма</td>\n      <td>NaN</td>\n      <td>NaN</td>\n      <td>...</td>\n      <td>NaN</td>\n      <td>NaN</td>\n      <td>NaN</td>\n      <td>NaN</td>\n      <td>NaN</td>\n      <td>NaN</td>\n      <td>NaN</td>\n      <td>NaN</td>\n      <td>NaN</td>\n      <td>NaN</td>\n    </tr>\n    <tr>\n      <th>2</th>\n      <td>3</td>\n      <td>Армянск</td>\n      <td>Армянск</td>\n      <td>↘20 692[4]</td>\n      <td>1736</td>\n      <td>1993</td>\n      <td></td>\n      <td>Города Крыма</td>\n      <td>NaN</td>\n      <td>NaN</td>\n      <td>...</td>\n      <td>NaN</td>\n      <td>NaN</td>\n      <td>NaN</td>\n      <td>NaN</td>\n      <td>NaN</td>\n      <td>NaN</td>\n      <td>NaN</td>\n      <td>NaN</td>\n      <td>NaN</td>\n      <td>NaN</td>\n    </tr>\n    <tr>\n      <th>3</th>\n      <td>4</td>\n      <td>Бахчисарай</td>\n      <td>Бахчисарайский район</td>\n      <td>↗28 609[4]</td>\n      <td>1389</td>\n      <td></td>\n      <td></td>\n      <td>Города Крыма</td>\n      <td>NaN</td>\n      <td>NaN</td>\n      <td>...</td>\n      <td>NaN</td>\n      <td>NaN</td>\n      <td>NaN</td>\n      <td>NaN</td>\n      <td>NaN</td>\n      <td>NaN</td>\n      <td>NaN</td>\n      <td>NaN</td>\n      <td>NaN</td>\n      <td>NaN</td>\n    </tr>\n    <tr>\n      <th>4</th>\n      <td>5</td>\n      <td>Белогорск</td>\n      <td>Белогорский район</td>\n      <td>↗17 445[4]</td>\n      <td>XIII в.</td>\n      <td></td>\n      <td></td>\n      <td>Города Крыма</td>\n      <td>NaN</td>\n      <td>NaN</td>\n      <td>...</td>\n      <td>NaN</td>\n      <td>NaN</td>\n      <td>NaN</td>\n      <td>NaN</td>\n      <td>NaN</td>\n      <td>NaN</td>\n      <td>NaN</td>\n      <td>NaN</td>\n      <td>NaN</td>\n      <td>NaN</td>\n    </tr>\n    <tr>\n      <th>...</th>\n      <td>...</td>\n      <td>...</td>\n      <td>...</td>\n      <td>...</td>\n      <td>...</td>\n      <td>...</td>\n      <td>...</td>\n      <td>...</td>\n      <td>...</td>\n      <td>...</td>\n      <td>...</td>\n      <td>...</td>\n      <td>...</td>\n      <td>...</td>\n      <td>...</td>\n      <td>...</td>\n      <td>...</td>\n      <td>...</td>\n      <td>...</td>\n      <td>...</td>\n      <td>...</td>\n    </tr>\n    <tr>\n      <th>8</th>\n      <td>9</td>\n      <td>Питкяранта(карел. Pitkyrandu)</td>\n      <td>NaN</td>\n      <td>↘9818[4]</td>\n      <td>NaN</td>\n      <td>1940</td>\n      <td></td>\n      <td>Города Республики Карелия</td>\n      <td>NaN</td>\n      <td>NaN</td>\n      <td>...</td>\n      <td>NaN</td>\n      <td>NaN</td>\n      <td>NaN</td>\n      <td>NaN</td>\n      <td>1499</td>\n      <td>NaN</td>\n      <td>NaN</td>\n      <td>NaN</td>\n      <td>Питкярантский район</td>\n      <td>Питкярантский мун.район</td>\n    </tr>\n    <tr>\n      <th>9</th>\n      <td>10</td>\n      <td>Пудож(карел. Puudoži)</td>\n      <td>NaN</td>\n      <td>↘8387[4]</td>\n      <td>NaN</td>\n      <td>1785</td>\n      <td></td>\n      <td>Города Республики Карелия</td>\n      <td>NaN</td>\n      <td>NaN</td>\n      <td>...</td>\n      <td>NaN</td>\n      <td>NaN</td>\n      <td>NaN</td>\n      <td>NaN</td>\n      <td>1382</td>\n      <td>NaN</td>\n      <td>NaN</td>\n      <td>NaN</td>\n      <td>Пудожский район</td>\n      <td>Пудожский мун.район</td>\n    </tr>\n    <tr>\n      <th>10</th>\n      <td>11</td>\n      <td>Сегежа(карел. Segeža)</td>\n      <td>NaN</td>\n      <td>↘25 334[4]</td>\n      <td>NaN</td>\n      <td>1943</td>\n      <td></td>\n      <td>Города Республики Карелия</td>\n      <td>NaN</td>\n      <td>NaN</td>\n      <td>...</td>\n      <td>NaN</td>\n      <td>NaN</td>\n      <td>NaN</td>\n      <td>NaN</td>\n      <td>1914</td>\n      <td>NaN</td>\n      <td>NaN</td>\n      <td>NaN</td>\n      <td>Сегежский район</td>\n      <td>Сегежский мун.район</td>\n    </tr>\n    <tr>\n      <th>11</th>\n      <td>12</td>\n      <td>Сортавала(карел. Sortavala)</td>\n      <td>NaN</td>\n      <td>↘18 600[4]</td>\n      <td>NaN</td>\n      <td>1783</td>\n      <td></td>\n      <td>Города Республики Карелия</td>\n      <td>NaN</td>\n      <td>NaN</td>\n      <td>...</td>\n      <td>NaN</td>\n      <td>NaN</td>\n      <td>NaN</td>\n      <td>NaN</td>\n      <td>1468</td>\n      <td>NaN</td>\n      <td>NaN</td>\n      <td>NaN</td>\n      <td>Сортавала</td>\n      <td>Сортавальский мун.район</td>\n    </tr>\n    <tr>\n      <th>12</th>\n      <td>13</td>\n      <td>Суоярви(карел. Suojärvi)</td>\n      <td>NaN</td>\n      <td>↘8339[4]</td>\n      <td>NaN</td>\n      <td>1940</td>\n      <td></td>\n      <td>Города Республики Карелия</td>\n      <td>NaN</td>\n      <td>NaN</td>\n      <td>...</td>\n      <td>NaN</td>\n      <td>NaN</td>\n      <td>NaN</td>\n      <td>NaN</td>\n      <td>XVI век</td>\n      <td>NaN</td>\n      <td>NaN</td>\n      <td>NaN</td>\n      <td>Суоярвский район</td>\n      <td>Суоярвский мун.район</td>\n    </tr>\n  </tbody>\n</table>\n<p>329 rows × 69 columns</p>\n</div>"
     },
     "execution_count": 14,
     "metadata": {},
     "output_type": "execute_result"
    }
   ],
   "source": [
    "\n",
    "all_df = pd.json_normalize(all_es_prop[0][\"Города\"])\n",
    "\n",
    "\n",
    "for i in range(len(all_es_prop) - 1):\n",
    "    cities = pd.json_normalize(all_es_prop[i+1][\"Города\"])\n",
    "    all_df = pd.concat([all_df, cities], names=[\"123\"])\n",
    "    \n",
    "all_df"
   ]
  },
  {
   "cell_type": "code",
   "execution_count": 15,
   "metadata": {
    "scrolled": true
   },
   "outputs": [
    {
     "data": {
      "text/plain": "Область\nГорода Адыгеи                           2\nГорода Алтайского края                 12\nГорода Амурской области                10\nГорода Архангельской области            0\nГорода Астраханской области             6\nГорода Башкортостана                    0\nГорода Белгородской области            11\nГорода Брянской области                16\nГорода Бурятии                          6\nГорода Владимирской области            23\nГорода Волгоградской области            0\nГорода Вологодской области             15\nГорода Воронежской области             15\nГорода Дагестана                       10\nГорода Еврейской автономной области     0\nГорода Забайкальского края              0\nГорода Ивановской области              17\nГорода Ингушетии                        5\nГорода Иркутской области                0\nГорода Кабардино-Балкарии               0\nГорода Калининградской области         22\nГорода Калмыкии                         3\nГорода Калужской области               22\nГорода Камчатского края                 3\nГорода Карачаево-Черкесии               4\nГорода Крыма                           16\nГорода Республики Алтай                 1\nГорода Республики Карелия              13\nName: название, dtype: int64"
     },
     "execution_count": 15,
     "metadata": {},
     "output_type": "execute_result"
    }
   ],
   "source": [
    "#Сколько городов в каждой области\n",
    "all_df.groupby(\"Область\")[\"название\"].count()"
   ]
  },
  {
   "cell_type": "code",
   "execution_count": 16,
   "metadata": {},
   "outputs": [
    {
     "data": {
      "text/plain": "№                                                  329\nназвание                                           232\nрайон[5] / город   республиканского значения[6]     16\nнаселение(чел.)                                    240\nоснование / первое упоминание                      191\n                                                  ... \nмуниципальный район  / городской округ              22\nрайон/город[3]                                       3\nмун.район  / городской округ[4]                      3\nрайон / город  республиканского значения[6]         13\nмун. район /  городской округ[7]                    13\nLength: 69, dtype: int64"
     },
     "execution_count": 16,
     "metadata": {},
     "output_type": "execute_result"
    }
   ],
   "source": [
    "all_df.count()"
   ]
  },
  {
   "cell_type": "code",
   "execution_count": 17,
   "metadata": {},
   "outputs": [
    {
     "data": {
      "text/plain": "№                                                  object\nназвание                                           object\nрайон[5] / город   республиканского значения[6]    object\nнаселение(чел.)                                    object\nоснование / первое упоминание                      object\n                                                    ...  \nмуниципальный район  / городской округ             object\nрайон/город[3]                                     object\nмун.район  / городской округ[4]                    object\nрайон / город  республиканского значения[6]        object\nмун. район /  городской округ[7]                   object\nLength: 69, dtype: object"
     },
     "execution_count": 17,
     "metadata": {},
     "output_type": "execute_result"
    }
   ],
   "source": [
    "all_df.dtypes"
   ]
  },
  {
   "cell_type": "code",
   "execution_count": 18,
   "metadata": {},
   "outputs": [],
   "source": [
    "import re\n",
    "\n",
    "all_df[\"население(чел.)\"] = all_df[\"население(чел.)\"].astype(str).apply(lambda x: \"\".join(re.findall('[0-9]+', x)[:-1]))"
   ]
  },
  {
   "cell_type": "code",
   "execution_count": 19,
   "metadata": {},
   "outputs": [],
   "source": [
    "all_df[\"население(чел.)\"] = pd.to_numeric(all_df[\"население(чел.)\"], downcast=\"integer\")"
   ]
  },
  {
   "cell_type": "code",
   "execution_count": 20,
   "metadata": {},
   "outputs": [
    {
     "data": {
      "text/plain": "     №                       название  \\\n0    1                         Алупка   \n1    2                         Алушта   \n2    3                        Армянск   \n3    4                     Бахчисарай   \n4    5                      Белогорск   \n..  ..                            ...   \n8    9  Питкяранта(карел. Pitkyrandu)   \n9   10          Пудож(карел. Puudoži)   \n10  11          Сегежа(карел. Segeža)   \n11  12    Сортавала(карел. Sortavala)   \n12  13       Суоярви(карел. Suojärvi)   \n\n   район[5] / город   республиканского значения[6]  население(чел.)  \\\n0                                             Ялта           9063.0   \n1                                           Алушта          31364.0   \n2                                          Армянск          20692.0   \n3                             Бахчисарайский район          28609.0   \n4                                Белогорский район          17445.0   \n..                                             ...              ...   \n8                                              NaN           9818.0   \n9                                              NaN           8387.0   \n10                                             NaN          25334.0   \n11                                             NaN          18600.0   \n12                                             NaN           8339.0   \n\n   основание / первое упоминание статус города герб  \\\n0                            960          1938        \n1                          VI в.          1902        \n2                           1736          1993        \n3                           1389                      \n4                        XIII в.                      \n..                           ...           ...  ...   \n8                            NaN          1940        \n9                            NaN          1785        \n10                           NaN          1943        \n11                           NaN          1783        \n12                           NaN          1940        \n\n                      Область  \\\n0                Города Крыма   \n1                Города Крыма   \n2                Города Крыма   \n3                Города Крыма   \n4                Города Крыма   \n..                        ...   \n8   Города Республики Карелия   \n9   Города Республики Карелия   \n10  Города Республики Карелия   \n11  Города Республики Карелия   \n12  Города Республики Карелия   \n\n   город республиканского значения (городской округ) основан  ...  \\\n0                                                NaN     NaN  ...   \n1                                                NaN     NaN  ...   \n2                                                NaN     NaN  ...   \n3                                                NaN     NaN  ...   \n4                                                NaN     NaN  ...   \n..                                               ...     ...  ...   \n8                                                NaN     NaN  ...   \n9                                                NaN     NaN  ...   \n10                                               NaN     NaN  ...   \n11                                               NaN     NaN  ...   \n12                                               NaN     NaN  ...   \n\n   площадь  (км²) район  / город областного значения[6]  \\\n0             NaN                                   NaN   \n1             NaN                                   NaN   \n2             NaN                                   NaN   \n3             NaN                                   NaN   \n4             NaN                                   NaN   \n..            ...                                   ...   \n8             NaN                                   NaN   \n9             NaN                                   NaN   \n10            NaN                                   NaN   \n11            NaN                                   NaN   \n12            NaN                                   NaN   \n\n   городской/муниципальный округ[7]  \\\n0                               NaN   \n1                               NaN   \n2                               NaN   \n3                               NaN   \n4                               NaN   \n..                              ...   \n8                               NaN   \n9                               NaN   \n10                              NaN   \n11                              NaN   \n12                              NaN   \n\n   район[4] / город   республиканского значения[5]  \\\n0                                              NaN   \n1                                              NaN   \n2                                              NaN   \n3                                              NaN   \n4                                              NaN   \n..                                             ...   \n8                                              NaN   \n9                                              NaN   \n10                                             NaN   \n11                                             NaN   \n12                                             NaN   \n\n   основание /первое упоминание муниципальный район  / городской округ  \\\n0                           NaN                                    NaN   \n1                           NaN                                    NaN   \n2                           NaN                                    NaN   \n3                           NaN                                    NaN   \n4                           NaN                                    NaN   \n..                          ...                                    ...   \n8                          1499                                    NaN   \n9                          1382                                    NaN   \n10                         1914                                    NaN   \n11                         1468                                    NaN   \n12                      XVI век                                    NaN   \n\n   район/город[3] мун.район  / городской округ[4]  \\\n0             NaN                             NaN   \n1             NaN                             NaN   \n2             NaN                             NaN   \n3             NaN                             NaN   \n4             NaN                             NaN   \n..            ...                             ...   \n8             NaN                             NaN   \n9             NaN                             NaN   \n10            NaN                             NaN   \n11            NaN                             NaN   \n12            NaN                             NaN   \n\n   район / город  республиканского значения[6]  \\\n0                                          NaN   \n1                                          NaN   \n2                                          NaN   \n3                                          NaN   \n4                                          NaN   \n..                                         ...   \n8                          Питкярантский район   \n9                              Пудожский район   \n10                             Сегежский район   \n11                                   Сортавала   \n12                            Суоярвский район   \n\n   мун. район /  городской округ[7]  \n0                               NaN  \n1                               NaN  \n2                               NaN  \n3                               NaN  \n4                               NaN  \n..                              ...  \n8           Питкярантский мун.район  \n9               Пудожский мун.район  \n10              Сегежский мун.район  \n11          Сортавальский мун.район  \n12             Суоярвский мун.район  \n\n[329 rows x 69 columns]",
      "text/html": "<div>\n<style scoped>\n    .dataframe tbody tr th:only-of-type {\n        vertical-align: middle;\n    }\n\n    .dataframe tbody tr th {\n        vertical-align: top;\n    }\n\n    .dataframe thead th {\n        text-align: right;\n    }\n</style>\n<table border=\"1\" class=\"dataframe\">\n  <thead>\n    <tr style=\"text-align: right;\">\n      <th></th>\n      <th>№</th>\n      <th>название</th>\n      <th>район[5] / город   республиканского значения[6]</th>\n      <th>население(чел.)</th>\n      <th>основание / первое упоминание</th>\n      <th>статус города</th>\n      <th>герб</th>\n      <th>Область</th>\n      <th>город республиканского значения (городской округ)</th>\n      <th>основан</th>\n      <th>...</th>\n      <th>площадь  (км²)</th>\n      <th>район  / город областного значения[6]</th>\n      <th>городской/муниципальный округ[7]</th>\n      <th>район[4] / город   республиканского значения[5]</th>\n      <th>основание /первое упоминание</th>\n      <th>муниципальный район  / городской округ</th>\n      <th>район/город[3]</th>\n      <th>мун.район  / городской округ[4]</th>\n      <th>район / город  республиканского значения[6]</th>\n      <th>мун. район /  городской округ[7]</th>\n    </tr>\n  </thead>\n  <tbody>\n    <tr>\n      <th>0</th>\n      <td>1</td>\n      <td>Алупка</td>\n      <td>Ялта</td>\n      <td>9063.0</td>\n      <td>960</td>\n      <td>1938</td>\n      <td></td>\n      <td>Города Крыма</td>\n      <td>NaN</td>\n      <td>NaN</td>\n      <td>...</td>\n      <td>NaN</td>\n      <td>NaN</td>\n      <td>NaN</td>\n      <td>NaN</td>\n      <td>NaN</td>\n      <td>NaN</td>\n      <td>NaN</td>\n      <td>NaN</td>\n      <td>NaN</td>\n      <td>NaN</td>\n    </tr>\n    <tr>\n      <th>1</th>\n      <td>2</td>\n      <td>Алушта</td>\n      <td>Алушта</td>\n      <td>31364.0</td>\n      <td>VI в.</td>\n      <td>1902</td>\n      <td></td>\n      <td>Города Крыма</td>\n      <td>NaN</td>\n      <td>NaN</td>\n      <td>...</td>\n      <td>NaN</td>\n      <td>NaN</td>\n      <td>NaN</td>\n      <td>NaN</td>\n      <td>NaN</td>\n      <td>NaN</td>\n      <td>NaN</td>\n      <td>NaN</td>\n      <td>NaN</td>\n      <td>NaN</td>\n    </tr>\n    <tr>\n      <th>2</th>\n      <td>3</td>\n      <td>Армянск</td>\n      <td>Армянск</td>\n      <td>20692.0</td>\n      <td>1736</td>\n      <td>1993</td>\n      <td></td>\n      <td>Города Крыма</td>\n      <td>NaN</td>\n      <td>NaN</td>\n      <td>...</td>\n      <td>NaN</td>\n      <td>NaN</td>\n      <td>NaN</td>\n      <td>NaN</td>\n      <td>NaN</td>\n      <td>NaN</td>\n      <td>NaN</td>\n      <td>NaN</td>\n      <td>NaN</td>\n      <td>NaN</td>\n    </tr>\n    <tr>\n      <th>3</th>\n      <td>4</td>\n      <td>Бахчисарай</td>\n      <td>Бахчисарайский район</td>\n      <td>28609.0</td>\n      <td>1389</td>\n      <td></td>\n      <td></td>\n      <td>Города Крыма</td>\n      <td>NaN</td>\n      <td>NaN</td>\n      <td>...</td>\n      <td>NaN</td>\n      <td>NaN</td>\n      <td>NaN</td>\n      <td>NaN</td>\n      <td>NaN</td>\n      <td>NaN</td>\n      <td>NaN</td>\n      <td>NaN</td>\n      <td>NaN</td>\n      <td>NaN</td>\n    </tr>\n    <tr>\n      <th>4</th>\n      <td>5</td>\n      <td>Белогорск</td>\n      <td>Белогорский район</td>\n      <td>17445.0</td>\n      <td>XIII в.</td>\n      <td></td>\n      <td></td>\n      <td>Города Крыма</td>\n      <td>NaN</td>\n      <td>NaN</td>\n      <td>...</td>\n      <td>NaN</td>\n      <td>NaN</td>\n      <td>NaN</td>\n      <td>NaN</td>\n      <td>NaN</td>\n      <td>NaN</td>\n      <td>NaN</td>\n      <td>NaN</td>\n      <td>NaN</td>\n      <td>NaN</td>\n    </tr>\n    <tr>\n      <th>...</th>\n      <td>...</td>\n      <td>...</td>\n      <td>...</td>\n      <td>...</td>\n      <td>...</td>\n      <td>...</td>\n      <td>...</td>\n      <td>...</td>\n      <td>...</td>\n      <td>...</td>\n      <td>...</td>\n      <td>...</td>\n      <td>...</td>\n      <td>...</td>\n      <td>...</td>\n      <td>...</td>\n      <td>...</td>\n      <td>...</td>\n      <td>...</td>\n      <td>...</td>\n      <td>...</td>\n    </tr>\n    <tr>\n      <th>8</th>\n      <td>9</td>\n      <td>Питкяранта(карел. Pitkyrandu)</td>\n      <td>NaN</td>\n      <td>9818.0</td>\n      <td>NaN</td>\n      <td>1940</td>\n      <td></td>\n      <td>Города Республики Карелия</td>\n      <td>NaN</td>\n      <td>NaN</td>\n      <td>...</td>\n      <td>NaN</td>\n      <td>NaN</td>\n      <td>NaN</td>\n      <td>NaN</td>\n      <td>1499</td>\n      <td>NaN</td>\n      <td>NaN</td>\n      <td>NaN</td>\n      <td>Питкярантский район</td>\n      <td>Питкярантский мун.район</td>\n    </tr>\n    <tr>\n      <th>9</th>\n      <td>10</td>\n      <td>Пудож(карел. Puudoži)</td>\n      <td>NaN</td>\n      <td>8387.0</td>\n      <td>NaN</td>\n      <td>1785</td>\n      <td></td>\n      <td>Города Республики Карелия</td>\n      <td>NaN</td>\n      <td>NaN</td>\n      <td>...</td>\n      <td>NaN</td>\n      <td>NaN</td>\n      <td>NaN</td>\n      <td>NaN</td>\n      <td>1382</td>\n      <td>NaN</td>\n      <td>NaN</td>\n      <td>NaN</td>\n      <td>Пудожский район</td>\n      <td>Пудожский мун.район</td>\n    </tr>\n    <tr>\n      <th>10</th>\n      <td>11</td>\n      <td>Сегежа(карел. Segeža)</td>\n      <td>NaN</td>\n      <td>25334.0</td>\n      <td>NaN</td>\n      <td>1943</td>\n      <td></td>\n      <td>Города Республики Карелия</td>\n      <td>NaN</td>\n      <td>NaN</td>\n      <td>...</td>\n      <td>NaN</td>\n      <td>NaN</td>\n      <td>NaN</td>\n      <td>NaN</td>\n      <td>1914</td>\n      <td>NaN</td>\n      <td>NaN</td>\n      <td>NaN</td>\n      <td>Сегежский район</td>\n      <td>Сегежский мун.район</td>\n    </tr>\n    <tr>\n      <th>11</th>\n      <td>12</td>\n      <td>Сортавала(карел. Sortavala)</td>\n      <td>NaN</td>\n      <td>18600.0</td>\n      <td>NaN</td>\n      <td>1783</td>\n      <td></td>\n      <td>Города Республики Карелия</td>\n      <td>NaN</td>\n      <td>NaN</td>\n      <td>...</td>\n      <td>NaN</td>\n      <td>NaN</td>\n      <td>NaN</td>\n      <td>NaN</td>\n      <td>1468</td>\n      <td>NaN</td>\n      <td>NaN</td>\n      <td>NaN</td>\n      <td>Сортавала</td>\n      <td>Сортавальский мун.район</td>\n    </tr>\n    <tr>\n      <th>12</th>\n      <td>13</td>\n      <td>Суоярви(карел. Suojärvi)</td>\n      <td>NaN</td>\n      <td>8339.0</td>\n      <td>NaN</td>\n      <td>1940</td>\n      <td></td>\n      <td>Города Республики Карелия</td>\n      <td>NaN</td>\n      <td>NaN</td>\n      <td>...</td>\n      <td>NaN</td>\n      <td>NaN</td>\n      <td>NaN</td>\n      <td>NaN</td>\n      <td>XVI век</td>\n      <td>NaN</td>\n      <td>NaN</td>\n      <td>NaN</td>\n      <td>Суоярвский район</td>\n      <td>Суоярвский мун.район</td>\n    </tr>\n  </tbody>\n</table>\n<p>329 rows × 69 columns</p>\n</div>"
     },
     "execution_count": 20,
     "metadata": {},
     "output_type": "execute_result"
    }
   ],
   "source": [
    "all_df"
   ]
  },
  {
   "cell_type": "code",
   "execution_count": 21,
   "metadata": {},
   "outputs": [
    {
     "data": {
      "text/plain": "                                     count           mean            std  \\\nОбласть                                                                    \nГорода Адыгеи                          2.0   78280.000000   92072.373978   \nГорода Алтайского края                12.0  103476.666667  175824.227535   \nГорода Амурской области               10.0   45558.400000   71162.268589   \nГорода Архангельской области           0.0            NaN            NaN   \nГорода Астраханской области            6.0   96944.000000  185708.115688   \nГорода Башкортостана                   0.0            NaN            NaN   \nГорода Белгородской области           11.0   74293.636364  107842.562612   \nГорода Брянской области               16.0   41822.250000   91070.276278   \nГорода Бурятии                         6.0   86643.166667  172089.406247   \nГорода Владимирской области           23.0   43245.826087   74097.255842   \nГорода Волгоградской области           0.0            NaN            NaN   \nГорода Вологодской области            15.0   52677.133333  106078.242819   \nГорода Воронежской области            15.0   96946.466667  266357.110903   \nГорода Дагестана                      10.0  129087.300000  179882.935321   \nГорода Еврейской автономной области    0.0            NaN            NaN   \nГорода Забайкальского края             0.0            NaN            NaN   \nГорода Ивановской области             17.0   42583.529412   84736.494328   \nГорода Ингушетии                       5.0   58447.000000   41667.600021   \nГорода Иркутской области               0.0            NaN            NaN   \nГорода Кабардино-Балкарии              8.0   57512.750000   77730.158157   \nГорода Калининградской области        22.0   35619.818182  102215.861651   \nГорода Калмыкии                        3.0   41567.333333   52913.906814   \nГорода Калужской области              22.0   33262.000000   72190.785716   \nГорода Камчатского края                3.0   74304.666667   78790.558478   \nГорода Карачаево-Черкесии              4.0   43401.000000   47442.476966   \nГорода Крыма                          16.0   61028.687500   84714.794139   \nГорода Республики Алтай                1.0   65342.000000            NaN   \nГорода Республики Карелия             13.0   31574.538462   61637.946350   \n\n                                         min       25%      50%        75%  \\\nОбласть                                                                      \nГорода Адыгеи                        13175.0  45727.50  78280.0  110832.50   \nГорода Алтайского края               10187.0  17236.25  34525.5   90830.75   \nГорода Амурской области               7057.0  11160.50  17951.0   43544.00   \nГорода Архангельской области             NaN       NaN      NaN        NaN   \nГорода Астраханской области          11104.0  16744.00  21571.0   32883.25   \nГорода Башкортостана                     NaN       NaN      NaN        NaN   \nГорода Белгородской области           5629.0  12736.50  33032.0   62452.50   \nГорода Брянской области               5270.0  12042.50  16829.0   23237.50   \nГорода Бурятии                        4368.0  12993.00  21055.0   24396.50   \nГорода Владимирской области           5639.0  12391.50  16542.0   37569.00   \nГорода Волгоградской области             NaN       NaN      NaN        NaN   \nГорода Вологодской области            4440.0   8122.00   9652.0   22937.50   \nГорода Воронежской области            5855.0  17461.50  24453.0   42666.50   \nГорода Дагестана                     10861.0  41050.75  64720.0  132065.25   \nГорода Еврейской автономной области      NaN       NaN      NaN        NaN   \nГорода Забайкальского края               NaN       NaN      NaN        NaN   \nГорода Ивановской области             1734.0   7978.00  15085.0   32855.00   \nГорода Ингушетии                     15271.0  39794.00  44731.0   67142.00   \nГорода Иркутской области                 NaN       NaN      NaN        NaN   \nГорода Кабардино-Балкарии            18726.0  20442.50  28218.5   43781.75   \nГорода Калининградской области        1921.0   3984.25  11669.0   20998.25   \nГорода Калмыкии                       8285.0  11059.50  13834.0   58208.50   \nГорода Калужской области              3674.0   8741.75  10918.0   24185.75   \nГорода Камчатского края              21774.0  29007.00  36240.0  100570.00   \nГорода Карачаево-Черкесии             8667.0  17636.25  25855.5   51620.25   \nГорода Крыма                          9063.0  17736.75  27089.0   68382.75   \nГорода Республики Алтай              65342.0  65342.00  65342.0   65342.00   \nГорода Республики Карелия             6809.0   8387.00  10222.0   25334.00   \n\n                                           max  \nОбласть                                         \nГорода Адыгеи                         143385.0  \nГорода Алтайского края                630877.0  \nГорода Амурской области               241437.0  \nГорода Архангельской области               NaN  \nГорода Астраханской области           475629.0  \nГорода Башкортостана                       NaN  \nГорода Белгородской области           339978.0  \nГорода Брянской области               379152.0  \nГорода Бурятии                        437565.0  \nГорода Владимирской области           349951.0  \nГорода Волгоградской области               NaN  \nГорода Вологодской области            313944.0  \nГорода Воронежской области           1057681.0  \nГорода Дагестана                      623254.0  \nГорода Еврейской автономной области        NaN  \nГорода Забайкальского края                 NaN  \nГорода Ивановской области             361644.0  \nГорода Ингушетии                      125297.0  \nГорода Иркутской области                   NaN  \nГорода Кабардино-Балкарии             247054.0  \nГорода Калининградской области        490449.0  \nГорода Калмыкии                       102583.0  \nГорода Калужской области              337058.0  \nГорода Камчатского края               164900.0  \nГорода Карачаево-Черкесии             113226.0  \nГорода Крыма                          340540.0  \nГорода Республики Алтай                65342.0  \nГорода Республики Карелия             234897.0  ",
      "text/html": "<div>\n<style scoped>\n    .dataframe tbody tr th:only-of-type {\n        vertical-align: middle;\n    }\n\n    .dataframe tbody tr th {\n        vertical-align: top;\n    }\n\n    .dataframe thead th {\n        text-align: right;\n    }\n</style>\n<table border=\"1\" class=\"dataframe\">\n  <thead>\n    <tr style=\"text-align: right;\">\n      <th></th>\n      <th>count</th>\n      <th>mean</th>\n      <th>std</th>\n      <th>min</th>\n      <th>25%</th>\n      <th>50%</th>\n      <th>75%</th>\n      <th>max</th>\n    </tr>\n    <tr>\n      <th>Область</th>\n      <th></th>\n      <th></th>\n      <th></th>\n      <th></th>\n      <th></th>\n      <th></th>\n      <th></th>\n      <th></th>\n    </tr>\n  </thead>\n  <tbody>\n    <tr>\n      <th>Города Адыгеи</th>\n      <td>2.0</td>\n      <td>78280.000000</td>\n      <td>92072.373978</td>\n      <td>13175.0</td>\n      <td>45727.50</td>\n      <td>78280.0</td>\n      <td>110832.50</td>\n      <td>143385.0</td>\n    </tr>\n    <tr>\n      <th>Города Алтайского края</th>\n      <td>12.0</td>\n      <td>103476.666667</td>\n      <td>175824.227535</td>\n      <td>10187.0</td>\n      <td>17236.25</td>\n      <td>34525.5</td>\n      <td>90830.75</td>\n      <td>630877.0</td>\n    </tr>\n    <tr>\n      <th>Города Амурской области</th>\n      <td>10.0</td>\n      <td>45558.400000</td>\n      <td>71162.268589</td>\n      <td>7057.0</td>\n      <td>11160.50</td>\n      <td>17951.0</td>\n      <td>43544.00</td>\n      <td>241437.0</td>\n    </tr>\n    <tr>\n      <th>Города Архангельской области</th>\n      <td>0.0</td>\n      <td>NaN</td>\n      <td>NaN</td>\n      <td>NaN</td>\n      <td>NaN</td>\n      <td>NaN</td>\n      <td>NaN</td>\n      <td>NaN</td>\n    </tr>\n    <tr>\n      <th>Города Астраханской области</th>\n      <td>6.0</td>\n      <td>96944.000000</td>\n      <td>185708.115688</td>\n      <td>11104.0</td>\n      <td>16744.00</td>\n      <td>21571.0</td>\n      <td>32883.25</td>\n      <td>475629.0</td>\n    </tr>\n    <tr>\n      <th>Города Башкортостана</th>\n      <td>0.0</td>\n      <td>NaN</td>\n      <td>NaN</td>\n      <td>NaN</td>\n      <td>NaN</td>\n      <td>NaN</td>\n      <td>NaN</td>\n      <td>NaN</td>\n    </tr>\n    <tr>\n      <th>Города Белгородской области</th>\n      <td>11.0</td>\n      <td>74293.636364</td>\n      <td>107842.562612</td>\n      <td>5629.0</td>\n      <td>12736.50</td>\n      <td>33032.0</td>\n      <td>62452.50</td>\n      <td>339978.0</td>\n    </tr>\n    <tr>\n      <th>Города Брянской области</th>\n      <td>16.0</td>\n      <td>41822.250000</td>\n      <td>91070.276278</td>\n      <td>5270.0</td>\n      <td>12042.50</td>\n      <td>16829.0</td>\n      <td>23237.50</td>\n      <td>379152.0</td>\n    </tr>\n    <tr>\n      <th>Города Бурятии</th>\n      <td>6.0</td>\n      <td>86643.166667</td>\n      <td>172089.406247</td>\n      <td>4368.0</td>\n      <td>12993.00</td>\n      <td>21055.0</td>\n      <td>24396.50</td>\n      <td>437565.0</td>\n    </tr>\n    <tr>\n      <th>Города Владимирской области</th>\n      <td>23.0</td>\n      <td>43245.826087</td>\n      <td>74097.255842</td>\n      <td>5639.0</td>\n      <td>12391.50</td>\n      <td>16542.0</td>\n      <td>37569.00</td>\n      <td>349951.0</td>\n    </tr>\n    <tr>\n      <th>Города Волгоградской области</th>\n      <td>0.0</td>\n      <td>NaN</td>\n      <td>NaN</td>\n      <td>NaN</td>\n      <td>NaN</td>\n      <td>NaN</td>\n      <td>NaN</td>\n      <td>NaN</td>\n    </tr>\n    <tr>\n      <th>Города Вологодской области</th>\n      <td>15.0</td>\n      <td>52677.133333</td>\n      <td>106078.242819</td>\n      <td>4440.0</td>\n      <td>8122.00</td>\n      <td>9652.0</td>\n      <td>22937.50</td>\n      <td>313944.0</td>\n    </tr>\n    <tr>\n      <th>Города Воронежской области</th>\n      <td>15.0</td>\n      <td>96946.466667</td>\n      <td>266357.110903</td>\n      <td>5855.0</td>\n      <td>17461.50</td>\n      <td>24453.0</td>\n      <td>42666.50</td>\n      <td>1057681.0</td>\n    </tr>\n    <tr>\n      <th>Города Дагестана</th>\n      <td>10.0</td>\n      <td>129087.300000</td>\n      <td>179882.935321</td>\n      <td>10861.0</td>\n      <td>41050.75</td>\n      <td>64720.0</td>\n      <td>132065.25</td>\n      <td>623254.0</td>\n    </tr>\n    <tr>\n      <th>Города Еврейской автономной области</th>\n      <td>0.0</td>\n      <td>NaN</td>\n      <td>NaN</td>\n      <td>NaN</td>\n      <td>NaN</td>\n      <td>NaN</td>\n      <td>NaN</td>\n      <td>NaN</td>\n    </tr>\n    <tr>\n      <th>Города Забайкальского края</th>\n      <td>0.0</td>\n      <td>NaN</td>\n      <td>NaN</td>\n      <td>NaN</td>\n      <td>NaN</td>\n      <td>NaN</td>\n      <td>NaN</td>\n      <td>NaN</td>\n    </tr>\n    <tr>\n      <th>Города Ивановской области</th>\n      <td>17.0</td>\n      <td>42583.529412</td>\n      <td>84736.494328</td>\n      <td>1734.0</td>\n      <td>7978.00</td>\n      <td>15085.0</td>\n      <td>32855.00</td>\n      <td>361644.0</td>\n    </tr>\n    <tr>\n      <th>Города Ингушетии</th>\n      <td>5.0</td>\n      <td>58447.000000</td>\n      <td>41667.600021</td>\n      <td>15271.0</td>\n      <td>39794.00</td>\n      <td>44731.0</td>\n      <td>67142.00</td>\n      <td>125297.0</td>\n    </tr>\n    <tr>\n      <th>Города Иркутской области</th>\n      <td>0.0</td>\n      <td>NaN</td>\n      <td>NaN</td>\n      <td>NaN</td>\n      <td>NaN</td>\n      <td>NaN</td>\n      <td>NaN</td>\n      <td>NaN</td>\n    </tr>\n    <tr>\n      <th>Города Кабардино-Балкарии</th>\n      <td>8.0</td>\n      <td>57512.750000</td>\n      <td>77730.158157</td>\n      <td>18726.0</td>\n      <td>20442.50</td>\n      <td>28218.5</td>\n      <td>43781.75</td>\n      <td>247054.0</td>\n    </tr>\n    <tr>\n      <th>Города Калининградской области</th>\n      <td>22.0</td>\n      <td>35619.818182</td>\n      <td>102215.861651</td>\n      <td>1921.0</td>\n      <td>3984.25</td>\n      <td>11669.0</td>\n      <td>20998.25</td>\n      <td>490449.0</td>\n    </tr>\n    <tr>\n      <th>Города Калмыкии</th>\n      <td>3.0</td>\n      <td>41567.333333</td>\n      <td>52913.906814</td>\n      <td>8285.0</td>\n      <td>11059.50</td>\n      <td>13834.0</td>\n      <td>58208.50</td>\n      <td>102583.0</td>\n    </tr>\n    <tr>\n      <th>Города Калужской области</th>\n      <td>22.0</td>\n      <td>33262.000000</td>\n      <td>72190.785716</td>\n      <td>3674.0</td>\n      <td>8741.75</td>\n      <td>10918.0</td>\n      <td>24185.75</td>\n      <td>337058.0</td>\n    </tr>\n    <tr>\n      <th>Города Камчатского края</th>\n      <td>3.0</td>\n      <td>74304.666667</td>\n      <td>78790.558478</td>\n      <td>21774.0</td>\n      <td>29007.00</td>\n      <td>36240.0</td>\n      <td>100570.00</td>\n      <td>164900.0</td>\n    </tr>\n    <tr>\n      <th>Города Карачаево-Черкесии</th>\n      <td>4.0</td>\n      <td>43401.000000</td>\n      <td>47442.476966</td>\n      <td>8667.0</td>\n      <td>17636.25</td>\n      <td>25855.5</td>\n      <td>51620.25</td>\n      <td>113226.0</td>\n    </tr>\n    <tr>\n      <th>Города Крыма</th>\n      <td>16.0</td>\n      <td>61028.687500</td>\n      <td>84714.794139</td>\n      <td>9063.0</td>\n      <td>17736.75</td>\n      <td>27089.0</td>\n      <td>68382.75</td>\n      <td>340540.0</td>\n    </tr>\n    <tr>\n      <th>Города Республики Алтай</th>\n      <td>1.0</td>\n      <td>65342.000000</td>\n      <td>NaN</td>\n      <td>65342.0</td>\n      <td>65342.00</td>\n      <td>65342.0</td>\n      <td>65342.00</td>\n      <td>65342.0</td>\n    </tr>\n    <tr>\n      <th>Города Республики Карелия</th>\n      <td>13.0</td>\n      <td>31574.538462</td>\n      <td>61637.946350</td>\n      <td>6809.0</td>\n      <td>8387.00</td>\n      <td>10222.0</td>\n      <td>25334.00</td>\n      <td>234897.0</td>\n    </tr>\n  </tbody>\n</table>\n</div>"
     },
     "execution_count": 21,
     "metadata": {},
     "output_type": "execute_result"
    }
   ],
   "source": [
    "all_df.groupby(\"Область\")[\"население(чел.)\"].describe()"
   ]
  },
  {
   "cell_type": "code",
   "execution_count": 67,
   "metadata": {},
   "outputs": [
    {
     "data": {
      "text/plain": "0          Адыгейск\n1            Майкоп\n0            Алейск\n1           Барнаул\n2        Белокуриха\n3             Бийск\n4            Горняк\n5           Заринск\n6       Змеиногорск\n7     Камень-на-Оби\n8       Новоалтайск\n9          Рубцовск\n10        Славгород\n11           Яровое\n0         Белогорск\n1      Благовещенск\n2         Завитинск\n3               Зея\n4        Райчихинск\n5         Свободный\n6       Сковородино\n7             Тында\n8       Циолковский\n9         Шимановск\n0               NaN\n1               NaN\n2               NaN\n3               NaN\n4               NaN\n5               NaN\n6               NaN\n7               NaN\n8               NaN\n9               NaN\n10              NaN\n11              NaN\n12              NaN\n0         Астрахань\n1         Ахтубинск\n2          Знаменск\n3           Камызяк\n4         Нариманов\n5          Харабали\nName: название, dtype: object"
     },
     "execution_count": 67,
     "metadata": {},
     "output_type": "execute_result"
    }
   ],
   "source": [
    "all_df[all_df[\"Область\"].str.startswith(\"Города А\") == True][\"название\"]"
   ]
  },
  {
   "cell_type": "code",
   "execution_count": 65,
   "outputs": [
    {
     "data": {
      "text/plain": "0                  Города Крыма\n1                  Города Крыма\n2                  Города Крыма\n3                  Города Крыма\n4                  Города Крыма\n                ...            \n8     Города Республики Карелия\n9     Города Республики Карелия\n10    Города Республики Карелия\n11    Города Республики Карелия\n12    Города Республики Карелия\nName: Область, Length: 329, dtype: object"
     },
     "execution_count": 65,
     "metadata": {},
     "output_type": "execute_result"
    }
   ],
   "source": [
    "all_df[\"Область\"]"
   ],
   "metadata": {
    "collapsed": false
   }
  },
  {
   "cell_type": "code",
   "execution_count": 29,
   "outputs": [],
   "source": [],
   "metadata": {
    "collapsed": false
   }
  }
 ],
 "metadata": {
  "kernelspec": {
   "display_name": "Python 3 (ipykernel)",
   "language": "python",
   "name": "python3"
  },
  "language_info": {
   "codemirror_mode": {
    "name": "ipython",
    "version": 3
   },
   "file_extension": ".py",
   "mimetype": "text/x-python",
   "name": "python",
   "nbconvert_exporter": "python",
   "pygments_lexer": "ipython3",
   "version": "3.9.12"
  }
 },
 "nbformat": 4,
 "nbformat_minor": 4
}
