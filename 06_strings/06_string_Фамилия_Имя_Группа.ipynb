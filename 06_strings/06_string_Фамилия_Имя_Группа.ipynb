{
 "cells": [
  {
   "cell_type": "markdown",
   "metadata": {},
   "source": [
    "# Работа со строковыми значениями"
   ]
  },
  {
   "cell_type": "markdown",
   "metadata": {},
   "source": [
    "__Автор задач: Блохин Н.В. (NVBlokhin@fa.ru)__\n",
    "\n",
    "Материалы:\n",
    "* Макрушин С.В. Лекция \"Работа со строковыми значениям\"\n",
    "* https://pyformat.info/\n",
    "* https://docs.python.org/3/library/re.html\n",
    "    * https://docs.python.org/3/library/re.html#flags\n",
    "    * https://docs.python.org/3/library/re.html#functions\n",
    "* https://pythonru.com/primery/primery-primeneniya-regulyarnyh-vyrazheniy-v-python\n",
    "* https://kanoki.org/2019/11/12/how-to-use-regex-in-pandas/\n",
    "* https://realpython.com/nltk-nlp-python/"
   ]
  },
  {
   "cell_type": "markdown",
   "metadata": {},
   "source": [
    "## Задачи для совместного разбора"
   ]
  },
  {
   "cell_type": "code",
   "execution_count": 2,
   "outputs": [],
   "source": [
    "import pandas as pd\n",
    "import re\n",
    "import nltk\n",
    "from bs4 import BeautifulSoup"
   ],
   "metadata": {
    "collapsed": false
   }
  },
  {
   "cell_type": "markdown",
   "metadata": {},
   "source": [
    "1. Вывести на экран данные из словаря `obj` построчно в виде `k = v`, задав формат таким образом, чтобы знак равенства оказался на одной и той же позиции во всех строках. Строковые литералы обернуть в кавычки."
   ]
  },
  {
   "cell_type": "code",
   "execution_count": 1,
   "metadata": {},
   "outputs": [],
   "source": [
    "obj = {\n",
    "    \"home_page\": \"https://github.com/pypa/sampleproject\",\n",
    "    \"keywords\": \"sample setuptools development\",\n",
    "    \"license\": \"MIT\",\n",
    "}"
   ]
  },
  {
   "cell_type": "markdown",
   "metadata": {},
   "source": [
    "2. Написать регулярное выражение,которое позволит найти номера групп студентов."
   ]
  },
  {
   "cell_type": "code",
   "execution_count": 4,
   "metadata": {},
   "outputs": [
    {
     "data": {
      "text/plain": [
       "0    Евгения гр.ПМ19-1\n",
       "1         Илья пм 20-4\n",
       "2            Анна 20-3\n",
       "dtype: object"
      ]
     },
     "execution_count": 4,
     "metadata": {},
     "output_type": "execute_result"
    }
   ],
   "source": [
    "obj = pd.Series([\"Евгения гр.ПМ19-1\", \"Илья пм 20-4\", \"Анна 20-3\"])\n",
    "obj"
   ]
  },
  {
   "cell_type": "markdown",
   "metadata": {},
   "source": [
    "3. Разбейте текст формулировки задачи 2 на слова."
   ]
  },
  {
   "cell_type": "markdown",
   "metadata": {},
   "source": [
    "## Лабораторная работа 6"
   ]
  },
  {
   "cell_type": "markdown",
   "metadata": {},
   "source": [
    "### Форматирование строк"
   ]
  },
  {
   "cell_type": "markdown",
   "metadata": {},
   "source": [
    "1\\. Загрузите данные из файла `recipes_sample.csv` (__ЛР2__) в виде `pd.DataFrame` `recipes` При помощи форматирования строк выведите информацию об id рецепта и времени выполнения 5 случайных рецептов в виде таблицы следующего вида:\n",
    "\n",
    "    \n",
    "    |      id      |  minutes  |\n",
    "    |--------------------------|\n",
    "    |    61178     |    65     |\n",
    "    |    202352    |    80     |\n",
    "    |    364322    |    150    |\n",
    "    |    26177     |    20     |\n",
    "    |    224785    |    35     |\n",
    "    \n",
    "Обратите внимание, что ширина столбцов заранее неизвестна и должна рассчитываться динамически, в зависимости от тех данных, которые были выбраны."
   ]
  },
  {
   "cell_type": "code",
   "execution_count": 3,
   "outputs": [
    {
     "data": {
      "text/plain": "                                               name      id  minutes  \\\n0             george s at the cove  black bean soup   44123       90   \n1                healthy for them  yogurt popsicles   67664       10   \n2                      i can t believe it s spinach   38798       30   \n3                              italian  gut busters   35173       45   \n4          love is in the air  beef fondue   sauces   84797       25   \n...                                             ...     ...      ...   \n29995  zurie s holey rustic olive and cheddar bread  267661       80   \n29996          zwetschgenkuchen  bavarian plum cake  386977      240   \n29997   zwiebelkuchen   southwest german onion cake  103312       75   \n29998                                   zydeco soup  486161       60   \n29999        cookies by design   cookies on a stick  298512       29   \n\n       contributor_id   submitted  n_steps  \\\n0               35193  2002-10-25      NaN   \n1               91970  2003-07-26      NaN   \n2                1533  2002-08-29      NaN   \n3               22724  2002-07-27      NaN   \n4                4470  2004-02-23      4.0   \n...               ...         ...      ...   \n29995          200862  2007-11-25     16.0   \n29996          177443  2009-08-24      NaN   \n29997          161745  2004-11-03      NaN   \n29998          227978  2012-08-29      NaN   \n29999          506822  2008-04-15      9.0   \n\n                                             description  n_ingredients  \n0      an original recipe created by chef scott meska...           18.0  \n1      my children and their friends ask for my homem...            NaN  \n2                these were so go, it surprised even me.            8.0  \n3      my sister-in-law made these for us at a family...            NaN  \n4      i think a fondue is a very romantic casual din...            NaN  \n...                                                  ...            ...  \n29995  this is based on a french recipe but i changed...           10.0  \n29996  this is a traditional fresh plum cake, thought...           11.0  \n29997  this is a traditional late summer early fall s...            NaN  \n29998  this is a delicious soup that i originally fou...            NaN  \n29999  i've heard of the 'cookies by design' company,...           10.0  \n\n[30000 rows x 8 columns]",
      "text/html": "<div>\n<style scoped>\n    .dataframe tbody tr th:only-of-type {\n        vertical-align: middle;\n    }\n\n    .dataframe tbody tr th {\n        vertical-align: top;\n    }\n\n    .dataframe thead th {\n        text-align: right;\n    }\n</style>\n<table border=\"1\" class=\"dataframe\">\n  <thead>\n    <tr style=\"text-align: right;\">\n      <th></th>\n      <th>name</th>\n      <th>id</th>\n      <th>minutes</th>\n      <th>contributor_id</th>\n      <th>submitted</th>\n      <th>n_steps</th>\n      <th>description</th>\n      <th>n_ingredients</th>\n    </tr>\n  </thead>\n  <tbody>\n    <tr>\n      <th>0</th>\n      <td>george s at the cove  black bean soup</td>\n      <td>44123</td>\n      <td>90</td>\n      <td>35193</td>\n      <td>2002-10-25</td>\n      <td>NaN</td>\n      <td>an original recipe created by chef scott meska...</td>\n      <td>18.0</td>\n    </tr>\n    <tr>\n      <th>1</th>\n      <td>healthy for them  yogurt popsicles</td>\n      <td>67664</td>\n      <td>10</td>\n      <td>91970</td>\n      <td>2003-07-26</td>\n      <td>NaN</td>\n      <td>my children and their friends ask for my homem...</td>\n      <td>NaN</td>\n    </tr>\n    <tr>\n      <th>2</th>\n      <td>i can t believe it s spinach</td>\n      <td>38798</td>\n      <td>30</td>\n      <td>1533</td>\n      <td>2002-08-29</td>\n      <td>NaN</td>\n      <td>these were so go, it surprised even me.</td>\n      <td>8.0</td>\n    </tr>\n    <tr>\n      <th>3</th>\n      <td>italian  gut busters</td>\n      <td>35173</td>\n      <td>45</td>\n      <td>22724</td>\n      <td>2002-07-27</td>\n      <td>NaN</td>\n      <td>my sister-in-law made these for us at a family...</td>\n      <td>NaN</td>\n    </tr>\n    <tr>\n      <th>4</th>\n      <td>love is in the air  beef fondue   sauces</td>\n      <td>84797</td>\n      <td>25</td>\n      <td>4470</td>\n      <td>2004-02-23</td>\n      <td>4.0</td>\n      <td>i think a fondue is a very romantic casual din...</td>\n      <td>NaN</td>\n    </tr>\n    <tr>\n      <th>...</th>\n      <td>...</td>\n      <td>...</td>\n      <td>...</td>\n      <td>...</td>\n      <td>...</td>\n      <td>...</td>\n      <td>...</td>\n      <td>...</td>\n    </tr>\n    <tr>\n      <th>29995</th>\n      <td>zurie s holey rustic olive and cheddar bread</td>\n      <td>267661</td>\n      <td>80</td>\n      <td>200862</td>\n      <td>2007-11-25</td>\n      <td>16.0</td>\n      <td>this is based on a french recipe but i changed...</td>\n      <td>10.0</td>\n    </tr>\n    <tr>\n      <th>29996</th>\n      <td>zwetschgenkuchen  bavarian plum cake</td>\n      <td>386977</td>\n      <td>240</td>\n      <td>177443</td>\n      <td>2009-08-24</td>\n      <td>NaN</td>\n      <td>this is a traditional fresh plum cake, thought...</td>\n      <td>11.0</td>\n    </tr>\n    <tr>\n      <th>29997</th>\n      <td>zwiebelkuchen   southwest german onion cake</td>\n      <td>103312</td>\n      <td>75</td>\n      <td>161745</td>\n      <td>2004-11-03</td>\n      <td>NaN</td>\n      <td>this is a traditional late summer early fall s...</td>\n      <td>NaN</td>\n    </tr>\n    <tr>\n      <th>29998</th>\n      <td>zydeco soup</td>\n      <td>486161</td>\n      <td>60</td>\n      <td>227978</td>\n      <td>2012-08-29</td>\n      <td>NaN</td>\n      <td>this is a delicious soup that i originally fou...</td>\n      <td>NaN</td>\n    </tr>\n    <tr>\n      <th>29999</th>\n      <td>cookies by design   cookies on a stick</td>\n      <td>298512</td>\n      <td>29</td>\n      <td>506822</td>\n      <td>2008-04-15</td>\n      <td>9.0</td>\n      <td>i've heard of the 'cookies by design' company,...</td>\n      <td>10.0</td>\n    </tr>\n  </tbody>\n</table>\n<p>30000 rows × 8 columns</p>\n</div>"
     },
     "execution_count": 3,
     "metadata": {},
     "output_type": "execute_result"
    }
   ],
   "source": [
    "df = pd.read_csv(\"data/recipes_sample.csv\")\n",
    "\n",
    "df"
   ],
   "metadata": {
    "collapsed": false
   }
  },
  {
   "cell_type": "code",
   "execution_count": 136,
   "outputs": [
    {
     "name": "stdout",
     "output_type": "stream",
     "text": [
      "|    id     |   minutes  |\n",
      "|------------------------|\n",
      "|  217996   |     30     |\n",
      "|  156100   |     30     |\n",
      "|   42603   |     60     |\n",
      "|   40707   |     35     |\n",
      "|   80438   |     20     |\n"
     ]
    }
   ],
   "source": [
    "random_recipes = df.sample(n=5)\n",
    "\n",
    "print(\"|{0:^11}| {1:^11}|\\n|{2}|\".format(\"id\", \"minutes\",\"-\"*24))\n",
    "for index, row in random_recipes.iterrows():\n",
    "    print(\"|{0:^11}| {1:^11}|\".format(row['id'], row['minutes']))"
   ],
   "metadata": {
    "collapsed": false
   }
  },
  {
   "cell_type": "markdown",
   "metadata": {},
   "source": [
    "2\\. Напишите функцию `show_info`, которая по данным о рецепте создает строку (в смысле объекта python) с описанием следующего вида:\n",
    "\n",
    "```\n",
    "\"Название Из Нескольких Слов\"\n",
    "\n",
    "1. Шаг 1\n",
    "2. Шаг 2\n",
    "----------\n",
    "Автор: contributor_id\n",
    "Среднее время приготовления: minutes минут\n",
    "```\n",
    "\n",
    "    \n",
    "Данные для создания строки получите из файлов `recipes_sample.csv` (__ЛР2__) и `steps_sample.xml` (__ЛР3__). \n",
    "Вызовите данную функцию для рецепта с id `170895` и выведите (через `print`) полученную строку на экран."
   ]
  },
  {
   "cell_type": "code",
   "execution_count": 42,
   "outputs": [],
   "source": [
    "steps_data = BeautifulSoup(open(\"data/steps_sample.xml\", \"r\").read(), \"xml\")"
   ],
   "metadata": {
    "collapsed": false
   }
  },
  {
   "cell_type": "code",
   "execution_count": 137,
   "outputs": [
    {
     "name": "stdout",
     "output_type": "stream",
     "text": [
      "\"Leeks And Parsnips  Sauteed Or Creamed\"\n",
      "\n",
      "1. Clean the leeks and discard the dark green portions.\n",
      "2. Cut the leeks lengthwise then into one-inch pieces.\n",
      "3. Melt the butter in a medium skillet , med.\n",
      "4. Heat.\n",
      "5. Add the garlic and fry 'til fragrant.\n",
      "6. Add leeks and fry until the leeks are tender , about 6-minutes.\n",
      "7. Meanwhile , peel and chunk the parsnips into one-inch pieces.\n",
      "8. Place in a steaming basket and steam 'til they are as tender as you prefer.\n",
      "9. I like them fork-tender.\n",
      "10. Drain parsnips and add to the skillet with the leeks.\n",
      "11. Add salt and pepper.\n",
      "12. Gently sautee together for 5-minutes.\n",
      "13. At this point you can serve it , or continue on and cream it:.\n",
      "14. In a jar with a screw top , add the half-n-half and arrowroot.\n",
      "15. Shake 'til blended.\n",
      "16. Turn heat to low under the leeks and parsnips.\n",
      "17. Pour in the arrowroot mixture , stirring gently as you pour.\n",
      "18. If too thick , gradually add the water.\n",
      "19. Let simmer for a couple of minutes.\n",
      "20. Taste to adjust seasoning , probably an additional 1 / 2 teaspoon salt.\n",
      "21. Serve warm.\n",
      "----------\n",
      "Автор: 8377\n",
      "Среднее время приготовления: 27 минут\n"
     ]
    }
   ],
   "source": [
    "\n",
    "def show_info(recipe_id=44123, name=\"\", steps=[], minutes=0, author_id=0):\n",
    "    recipe = df[df['id'] == recipe_id]\n",
    "    recipe_steps = []\n",
    "    recipe_author = recipe[\"contributor_id\"].item()\n",
    "    recipe_name = f'\"{recipe[\"name\"].item().title()}\"'\n",
    "    recipe_time = recipe[\"minutes\"].item()\n",
    "\n",
    "    for recipe in steps_data.find_all('recipe'):\n",
    "            recipe_id_ = int(recipe.find(\"id\").get_text())\n",
    "            if recipe_id_ == recipe_id:\n",
    "                recipe_steps = [recipe_step.get_text() for recipe_step in recipe.find_all(\"step\")]\n",
    "\n",
    "    steps_str = \"\\n\".join(map(lambda x: f\"{x[0]}. {x[1].capitalize()}.\",enumerate(recipe_steps, 1)))\n",
    "\n",
    "    return recipe_name + \"\\n\\n\" + steps_str + \"\\n\" + 10 * \"-\" + \"\\nАвтор: \" + str(recipe_author) + '\\nСреднее время приготовления: ' + str(recipe_time) + \" минут\"\n",
    "\n",
    "print(show_info(170895))"
   ],
   "metadata": {
    "collapsed": false
   }
  },
  {
   "cell_type": "code",
   "execution_count": 141,
   "outputs": [],
   "source": [
    "assert (\n",
    "    show_info(\n",
    "        name=\"george s at the cove black bean soup\",\n",
    "        steps=[\n",
    "            \"clean the leeks and discard the dark green portions\",\n",
    "            \"cut the leeks lengthwise then into one-inch pieces\",\n",
    "            \"melt the butter in a medium skillet , med\",\n",
    "        ],\n",
    "        minutes=90,\n",
    "        author_id=35193,\n",
    "    )\n",
    "    == '\"George S At The Cove Black Bean Soup\"\\n\\n1. Clean the leeks and discard the dark green portions\\n2. Cut the leeks lengthwise then into one-inch pieces\\n3. Melt the butter in a medium skillet , med\\n----------\\nАвтор: 35193\\nСреднее время приготовления: 90 минут\\n'\n",
    ")"
   ],
   "metadata": {
    "collapsed": false
   }
  },
  {
   "cell_type": "markdown",
   "metadata": {},
   "source": [
    "## Работа с регулярными выражениями"
   ]
  },
  {
   "cell_type": "markdown",
   "metadata": {},
   "source": [
    "3\\. Напишите регулярное выражение, которое ищет следующий паттерн в строке: число (1 цифра или более), затем пробел, затем слова: hour или hours или minute или minutes. Произведите поиск по данному регулярному выражению в каждом шаге рецепта с id 25082. Выведите на экран все непустые результаты, найденные по данному шаблону."
   ]
  },
  {
   "cell_type": "code",
   "execution_count": 112,
   "outputs": [
    {
     "data": {
      "text/plain": "[('20 minutes', 'minutes'),\n ('10 minutes', 'minutes'),\n ('2 hours', 'hours'),\n ('10 minutes', 'minutes'),\n ('20 minutes', 'minutes'),\n ('30 minutes', 'minutes')]"
     },
     "execution_count": 112,
     "metadata": {},
     "output_type": "execute_result"
    }
   ],
   "source": [
    "pattern = re.compile(r\"([\\d]+ (hour[s]*|minute[s]*))\")\n",
    "pattern.findall(show_info(25082))"
   ],
   "metadata": {
    "collapsed": false
   }
  },
  {
   "cell_type": "markdown",
   "metadata": {},
   "source": [
    "4\\. Напишите регулярное выражение, которое ищет шаблон вида \"this..., but\" _в начале строки_ . Между словом \"this\" и частью \", but\" может находиться произвольное число букв, цифр, знаков подчеркивания и пробелов. Никаких других символов вместо многоточия быть не может. Пробел между запятой и словом \"but\" может присутствовать или отсутствовать.\n",
    "\n",
    "Используя строковые методы `pd.Series`, выясните, для каких рецептов данный шаблон содержится в тексте описания. Выведите на экран количество таких рецептов и 3 примера подходящих описаний (текст описания должен быть виден на экране полностью)."
   ]
  },
  {
   "cell_type": "code",
   "execution_count": 107,
   "outputs": [
    {
     "name": "stdout",
     "output_type": "stream",
     "text": [
      "Кол-во рецептов: 865\n"
     ]
    }
   ],
   "source": [
    "search_pattern = re.compile(r\"^this.*[,] ?but\")\n",
    "descriptions = pd.Series(df.description).dropna()\n",
    "descriptions_pattern = descriptions.str.match(search_pattern)\n",
    "\n",
    "print(f\"Кол-во рецептов: {descriptions_pattern.sum()}\")"
   ],
   "metadata": {
    "collapsed": false
   }
  },
  {
   "cell_type": "code",
   "execution_count": 111,
   "outputs": [
    {
     "data": {
      "text/plain": "76    this is a great meal eaten the same day ,but e...\n87    this is it. the real deal. very time consuming...\n92    this is fantastic served with grilled seafood ...\nName: description, dtype: object"
     },
     "execution_count": 111,
     "metadata": {},
     "output_type": "execute_result"
    }
   ],
   "source": [
    "descriptions[descriptions_pattern][:3]"
   ],
   "metadata": {
    "collapsed": false
   }
  },
  {
   "cell_type": "markdown",
   "metadata": {},
   "source": [
    "5\\. В текстах шагов рецептов обыкновенные дроби имеют вид \"a / b\". Используя регулярные выражения, уберите в тексте шагов рецепта с id 72367 пробелы до и после символа дроби. Выведите на экран шаги этого рецепта после их изменения."
   ]
  },
  {
   "cell_type": "code",
   "execution_count": 69,
   "outputs": [
    {
     "name": "stdout",
     "output_type": "stream",
     "text": [
      "\"Bavarian Apple Cheese Cake Tart\"\n",
      "\n",
      "1. Mix butter , flour , 1/3 c.\n",
      "2. Sugar and 1-1/4 t.\n",
      "3. Vanilla.\n",
      "4. Press into greased 9\" springform pan.\n",
      "5. Mix cream cheese , 1/4 c.\n",
      "6. Sugar , eggs and 1/2 t.\n",
      "7. Vanilla beating until fluffy.\n",
      "8. Pour over dough.\n",
      "9. Combine apples , 1/3 c.\n",
      "10. Sugar and cinnamon.\n",
      "11. Arrange on top of cream cheese mixture and sprinkle with almonds.\n",
      "12. Bake at 350 for 45-55 minutes , or until tester comes out clean.\n",
      "----------\n",
      "Автор: 93006\n",
      "Среднее время приготовления: 65 минут\n"
     ]
    }
   ],
   "source": [
    "print(re.sub(r' / ', '/', show_info(72367)))"
   ],
   "metadata": {
    "collapsed": false
   }
  },
  {
   "cell_type": "markdown",
   "metadata": {},
   "source": [
    "### Сегментация текста"
   ]
  },
  {
   "cell_type": "markdown",
   "metadata": {},
   "source": [
    "6\\. Разбейте тексты шагов рецептов на слова при помощи пакета `nltk`. Посчитайте и выведите на экран кол-во уникальных слов среди всех рецептов. Словом называется любая последовательность алфавитных символов (для проверки можно воспользоваться `str.isalpha`). При подсчете количества уникальных слов не учитывайте регистр."
   ]
  },
  {
   "cell_type": "markdown",
   "source": [],
   "metadata": {
    "collapsed": false
   }
  },
  {
   "cell_type": "code",
   "execution_count": 99,
   "outputs": [
    {
     "data": {
      "text/plain": "19604"
     },
     "execution_count": 99,
     "metadata": {},
     "output_type": "execute_result"
    }
   ],
   "source": [
    "recipes = BeautifulSoup(open('data/steps_sample.xml', 'r').read(), 'xml').find_all('recipe')\n",
    "\n",
    "unique_words = set()\n",
    "for word in recipes:\n",
    "    unique_words.update(nltk.word_tokenize(word.steps.text.strip()))\n",
    "\n",
    "len(unique_words)"
   ],
   "metadata": {
    "collapsed": false
   }
  },
  {
   "cell_type": "markdown",
   "metadata": {},
   "source": [
    "7\\. Разбейте описания рецептов из `recipes` на предложения при помощи пакета `nltk`. Найдите 5 самых длинных описаний (по количеству _предложений_) рецептов в датасете и выведите строки фрейма, соответствующие этим рецептами, в порядке убывания длины."
   ]
  },
  {
   "cell_type": "code",
   "execution_count": 97,
   "outputs": [],
   "source": [
    "df['description'] = df['description'].fillna(\"---\")\n",
    "descriptions = df[\"description\"].apply(nltk.sent_tokenize)\n",
    "data = descriptions.to_dict()"
   ],
   "metadata": {
    "collapsed": false
   }
  },
  {
   "cell_type": "code",
   "execution_count": 98,
   "outputs": [
    {
     "data": {
      "text/plain": "                                                    name      id  minutes  \\\n18408       my favorite buttercream icing for decorating  334113       30   \n481    alligator claws  avocado fritters  with chipot...  287008       45   \n22566                          rich barley mushroom soup  328708       60   \n6779                                       chocolate tea  205348        6   \n16296  little bunny foo foo cake  carrot cake  with c...  316000       68   \n\n       contributor_id   submitted  n_steps  \\\n18408          681465  2008-10-30     12.0   \n481            765354  2008-02-19      NaN   \n22566          221776  2008-10-03      NaN   \n6779           428824  2007-01-14      NaN   \n16296          689540  2008-07-27     14.0   \n\n                                             description  n_ingredients  \n18408  this wonderful icing is used for icing cakes a...            NaN  \n481    a translucent golden-brown crust allows the gr...            9.0  \n22566  this is one of the best soups i've ever made a...           10.0  \n6779   i wrote this because there are an astounding l...            NaN  \n16296  the first time i made this cake i grated a mil...            NaN  ",
      "text/html": "<div>\n<style scoped>\n    .dataframe tbody tr th:only-of-type {\n        vertical-align: middle;\n    }\n\n    .dataframe tbody tr th {\n        vertical-align: top;\n    }\n\n    .dataframe thead th {\n        text-align: right;\n    }\n</style>\n<table border=\"1\" class=\"dataframe\">\n  <thead>\n    <tr style=\"text-align: right;\">\n      <th></th>\n      <th>name</th>\n      <th>id</th>\n      <th>minutes</th>\n      <th>contributor_id</th>\n      <th>submitted</th>\n      <th>n_steps</th>\n      <th>description</th>\n      <th>n_ingredients</th>\n    </tr>\n  </thead>\n  <tbody>\n    <tr>\n      <th>18408</th>\n      <td>my favorite buttercream icing for decorating</td>\n      <td>334113</td>\n      <td>30</td>\n      <td>681465</td>\n      <td>2008-10-30</td>\n      <td>12.0</td>\n      <td>this wonderful icing is used for icing cakes a...</td>\n      <td>NaN</td>\n    </tr>\n    <tr>\n      <th>481</th>\n      <td>alligator claws  avocado fritters  with chipot...</td>\n      <td>287008</td>\n      <td>45</td>\n      <td>765354</td>\n      <td>2008-02-19</td>\n      <td>NaN</td>\n      <td>a translucent golden-brown crust allows the gr...</td>\n      <td>9.0</td>\n    </tr>\n    <tr>\n      <th>22566</th>\n      <td>rich barley mushroom soup</td>\n      <td>328708</td>\n      <td>60</td>\n      <td>221776</td>\n      <td>2008-10-03</td>\n      <td>NaN</td>\n      <td>this is one of the best soups i've ever made a...</td>\n      <td>10.0</td>\n    </tr>\n    <tr>\n      <th>6779</th>\n      <td>chocolate tea</td>\n      <td>205348</td>\n      <td>6</td>\n      <td>428824</td>\n      <td>2007-01-14</td>\n      <td>NaN</td>\n      <td>i wrote this because there are an astounding l...</td>\n      <td>NaN</td>\n    </tr>\n    <tr>\n      <th>16296</th>\n      <td>little bunny foo foo cake  carrot cake  with c...</td>\n      <td>316000</td>\n      <td>68</td>\n      <td>689540</td>\n      <td>2008-07-27</td>\n      <td>14.0</td>\n      <td>the first time i made this cake i grated a mil...</td>\n      <td>NaN</td>\n    </tr>\n  </tbody>\n</table>\n</div>"
     },
     "execution_count": 98,
     "metadata": {},
     "output_type": "execute_result"
    }
   ],
   "source": [
    "df.iloc[sorted(data, key=lambda x: len(data[x]), reverse=True)[:5]]"
   ],
   "metadata": {
    "collapsed": false
   }
  },
  {
   "cell_type": "markdown",
   "metadata": {},
   "source": [
    "8\\. Напишите функцию, которая для заданного предложения выводит информацию о частях речи слов, входящих в предложение, в следующем виде:\n",
    "```\n",
    "PRP   VBD   DT      NNS     CC   VBD      NNS        RB   \n",
    " I  omitted the raspberries and added strawberries instead\n",
    "``` \n",
    "Для определения части речи слова можно воспользоваться `nltk.pos_tag`.\n",
    "\n",
    "Проверьте работоспособность функции на названии рецепта с id 241106.\n",
    "\n",
    "Обратите внимание, что часть речи должна находиться ровно посередине над соотвествующим словом, а между самими словами должен быть ровно один пробел.\n"
   ]
  },
  {
   "cell_type": "code",
   "execution_count": 90,
   "outputs": [
    {
     "name": "stderr",
     "output_type": "stream",
     "text": [
      "[nltk_data] Downloading package averaged_perceptron_tagger to\n",
      "[nltk_data]     /home/noble6/nltk_data...\n",
      "[nltk_data]   Package averaged_perceptron_tagger is already up-to-\n",
      "[nltk_data]       date!\n"
     ]
    },
    {
     "data": {
      "text/plain": "True"
     },
     "execution_count": 90,
     "metadata": {},
     "output_type": "execute_result"
    }
   ],
   "source": [
    "nltk.download('averaged_perceptron_tagger')"
   ],
   "metadata": {
    "collapsed": false
   }
  },
  {
   "cell_type": "code",
   "execution_count": 94,
   "metadata": {},
   "outputs": [
    {
     "data": {
      "text/plain": "[('eggplant', 'JJ'),\n ('steaks', 'NNS'),\n ('with', 'IN'),\n ('chickpeas', 'NNS'),\n ('feta', 'VBP'),\n ('cheese', 'JJ'),\n ('and', 'CC'),\n ('black', 'JJ'),\n ('olives', 'NNS')]"
     },
     "execution_count": 94,
     "metadata": {},
     "output_type": "execute_result"
    }
   ],
   "source": [
    "pos_tag_values = nltk.pos_tag(nltk.word_tokenize(df[df['id'] == 241106].name.values[0]))\n",
    "pos_tag_values"
   ]
  },
  {
   "cell_type": "code",
   "execution_count": 95,
   "outputs": [
    {
     "data": {
      "text/plain": "[('JJ', 'eggplant', 8),\n ('NNS', 'steaks', 6),\n ('IN', 'with', 4),\n ('NNS', 'chickpeas', 9),\n ('VBP', 'feta', 4),\n ('JJ', 'cheese', 6),\n ('CC', 'and', 3),\n ('JJ', 'black', 5),\n ('NNS', 'olives', 6)]"
     },
     "execution_count": 95,
     "metadata": {},
     "output_type": "execute_result"
    }
   ],
   "source": [
    "# Определение максимальной длины для вывода\n",
    "formatted_values = [(value[-1], value[-2], max(len(value[0]), len(value[1]))) for value in pos_tag_values]\n",
    "formatted_values"
   ],
   "metadata": {
    "collapsed": false
   }
  },
  {
   "cell_type": "code",
   "execution_count": 96,
   "outputs": [
    {
     "name": "stdout",
     "output_type": "stream",
     "text": [
      "   JJ      NNS   IN     NNS     VBP   JJ    CC   JJ    NNS  \n",
      "eggplant steaks with chickpeas feta cheese and black olives \n"
     ]
    }
   ],
   "source": [
    "print(''.join([f\"{ind[0]:^{ind[2] + 1}}\" for ind in formatted_values]) + '\\n' + ''.join([f\"{ind[1]:^{ind[2] + 1}}\" for ind in formatted_values]))"
   ],
   "metadata": {
    "collapsed": false
   }
  },
  {
   "cell_type": "code",
   "execution_count": null,
   "outputs": [],
   "source": [],
   "metadata": {
    "collapsed": false
   }
  }
 ],
 "metadata": {
  "kernelspec": {
   "display_name": "Python 3 (ipykernel)",
   "language": "python",
   "name": "python3"
  },
  "language_info": {
   "codemirror_mode": {
    "name": "ipython",
    "version": 3
   },
   "file_extension": ".py",
   "mimetype": "text/x-python",
   "name": "python",
   "nbconvert_exporter": "python",
   "pygments_lexer": "ipython3",
   "version": "3.9.7"
  }
 },
 "nbformat": 4,
 "nbformat_minor": 4
}
