{
 "cells": [
  {
   "cell_type": "code",
   "execution_count": 1,
   "metadata": {
    "collapsed": true,
    "id": "cbCIUaUWh7QL"
   },
   "outputs": [],
   "source": [
    "import pandas as pd\n",
    "import numpy as np\n",
    "\n"
   ]
  },
  {
   "cell_type": "markdown",
   "metadata": {
    "id": "VOON4n8ah7QP"
   },
   "source": [
    "1) Задание: загрузить данные из файлов (приложены к письму):\n",
    "* excel-comp-data.xlsx\n",
    "* sp500hst.txt "
   ]
  },
  {
   "cell_type": "markdown",
   "metadata": {
    "id": "AGOBvnNXh7QR"
   },
   "source": [
    "2) Загрузить данные из файла sp500hst.txt, обозначить столбцы (в соответствии с содержимым). \\"
   ]
  },
  {
   "cell_type": "code",
   "execution_count": 2,
   "outputs": [
    {
     "data": {
      "text/plain": "            Date Ticker   Open     High     Low  Close  Volume\n0       20090821      A  25.60  25.6100  25.220  25.55   34758\n1       20090824      A  25.64  25.7400  25.330  25.50   22247\n2       20090825      A  25.50  25.7000  25.225  25.34   30891\n3       20090826      A  25.32  25.6425  25.145  25.48   33334\n4       20090827      A  25.50  25.5700  25.230  25.54   70176\n...          ...    ...    ...      ...     ...    ...     ...\n122569  20100813    ZMH  51.72  51.9000  51.380  51.44   14561\n122570  20100816    ZMH  51.13  51.4700  50.600  51.00   13489\n122571  20100817    ZMH  51.14  51.6000  50.890  51.21   20498\n122572  20100819    ZMH  51.63  51.6300  50.170  50.22   18259\n122573  20100820    ZMH  50.03  50.5500  49.480  49.82   17792\n\n[122574 rows x 7 columns]",
      "text/html": "<div>\n<style scoped>\n    .dataframe tbody tr th:only-of-type {\n        vertical-align: middle;\n    }\n\n    .dataframe tbody tr th {\n        vertical-align: top;\n    }\n\n    .dataframe thead th {\n        text-align: right;\n    }\n</style>\n<table border=\"1\" class=\"dataframe\">\n  <thead>\n    <tr style=\"text-align: right;\">\n      <th></th>\n      <th>Date</th>\n      <th>Ticker</th>\n      <th>Open</th>\n      <th>High</th>\n      <th>Low</th>\n      <th>Close</th>\n      <th>Volume</th>\n    </tr>\n  </thead>\n  <tbody>\n    <tr>\n      <th>0</th>\n      <td>20090821</td>\n      <td>A</td>\n      <td>25.60</td>\n      <td>25.6100</td>\n      <td>25.220</td>\n      <td>25.55</td>\n      <td>34758</td>\n    </tr>\n    <tr>\n      <th>1</th>\n      <td>20090824</td>\n      <td>A</td>\n      <td>25.64</td>\n      <td>25.7400</td>\n      <td>25.330</td>\n      <td>25.50</td>\n      <td>22247</td>\n    </tr>\n    <tr>\n      <th>2</th>\n      <td>20090825</td>\n      <td>A</td>\n      <td>25.50</td>\n      <td>25.7000</td>\n      <td>25.225</td>\n      <td>25.34</td>\n      <td>30891</td>\n    </tr>\n    <tr>\n      <th>3</th>\n      <td>20090826</td>\n      <td>A</td>\n      <td>25.32</td>\n      <td>25.6425</td>\n      <td>25.145</td>\n      <td>25.48</td>\n      <td>33334</td>\n    </tr>\n    <tr>\n      <th>4</th>\n      <td>20090827</td>\n      <td>A</td>\n      <td>25.50</td>\n      <td>25.5700</td>\n      <td>25.230</td>\n      <td>25.54</td>\n      <td>70176</td>\n    </tr>\n    <tr>\n      <th>...</th>\n      <td>...</td>\n      <td>...</td>\n      <td>...</td>\n      <td>...</td>\n      <td>...</td>\n      <td>...</td>\n      <td>...</td>\n    </tr>\n    <tr>\n      <th>122569</th>\n      <td>20100813</td>\n      <td>ZMH</td>\n      <td>51.72</td>\n      <td>51.9000</td>\n      <td>51.380</td>\n      <td>51.44</td>\n      <td>14561</td>\n    </tr>\n    <tr>\n      <th>122570</th>\n      <td>20100816</td>\n      <td>ZMH</td>\n      <td>51.13</td>\n      <td>51.4700</td>\n      <td>50.600</td>\n      <td>51.00</td>\n      <td>13489</td>\n    </tr>\n    <tr>\n      <th>122571</th>\n      <td>20100817</td>\n      <td>ZMH</td>\n      <td>51.14</td>\n      <td>51.6000</td>\n      <td>50.890</td>\n      <td>51.21</td>\n      <td>20498</td>\n    </tr>\n    <tr>\n      <th>122572</th>\n      <td>20100819</td>\n      <td>ZMH</td>\n      <td>51.63</td>\n      <td>51.6300</td>\n      <td>50.170</td>\n      <td>50.22</td>\n      <td>18259</td>\n    </tr>\n    <tr>\n      <th>122573</th>\n      <td>20100820</td>\n      <td>ZMH</td>\n      <td>50.03</td>\n      <td>50.5500</td>\n      <td>49.480</td>\n      <td>49.82</td>\n      <td>17792</td>\n    </tr>\n  </tbody>\n</table>\n<p>122574 rows × 7 columns</p>\n</div>"
     },
     "execution_count": 2,
     "metadata": {},
     "output_type": "execute_result"
    }
   ],
   "source": [
    "dataframe = pd.read_csv(\"./data/sp500hst.txt\", delimiter=\",\", names=[\"Date\", \"Ticker\", \"Open\", \"High\", \"Low\", \"Close\", \"Volume\"])\n",
    "\n",
    "dataframe"
   ],
   "metadata": {
    "collapsed": false
   }
  },
  {
   "cell_type": "markdown",
   "metadata": {
    "id": "fDM24acJh7QS"
   },
   "source": [
    "3.1) Создать столбец со значеними средними, между значением дневного минимума и максимума."
   ]
  },
  {
   "cell_type": "code",
   "execution_count": 3,
   "outputs": [],
   "source": [
    "dataframe[\"Date_normal\"] = pd.to_datetime(dataframe[\"Date\"].astype(str), format=\"%Y%m%d\")"
   ],
   "metadata": {
    "collapsed": false
   }
  },
  {
   "cell_type": "code",
   "execution_count": 4,
   "outputs": [],
   "source": [
    "dataframe[\"Daily_Mean\"] = dataframe[[\"High\", \"Low\"]].mean(axis=1)"
   ],
   "metadata": {
    "collapsed": false
   }
  },
  {
   "cell_type": "code",
   "execution_count": 5,
   "outputs": [
    {
     "data": {
      "text/plain": "            Date Ticker   Open     High     Low  Close  Volume Date_normal  \\\n0       20090821      A  25.60  25.6100  25.220  25.55   34758  2009-08-21   \n1       20090824      A  25.64  25.7400  25.330  25.50   22247  2009-08-24   \n2       20090825      A  25.50  25.7000  25.225  25.34   30891  2009-08-25   \n3       20090826      A  25.32  25.6425  25.145  25.48   33334  2009-08-26   \n4       20090827      A  25.50  25.5700  25.230  25.54   70176  2009-08-27   \n...          ...    ...    ...      ...     ...    ...     ...         ...   \n122569  20100813    ZMH  51.72  51.9000  51.380  51.44   14561  2010-08-13   \n122570  20100816    ZMH  51.13  51.4700  50.600  51.00   13489  2010-08-16   \n122571  20100817    ZMH  51.14  51.6000  50.890  51.21   20498  2010-08-17   \n122572  20100819    ZMH  51.63  51.6300  50.170  50.22   18259  2010-08-19   \n122573  20100820    ZMH  50.03  50.5500  49.480  49.82   17792  2010-08-20   \n\n        Daily_Mean  \n0         25.41500  \n1         25.53500  \n2         25.46250  \n3         25.39375  \n4         25.40000  \n...            ...  \n122569    51.64000  \n122570    51.03500  \n122571    51.24500  \n122572    50.90000  \n122573    50.01500  \n\n[122574 rows x 9 columns]",
      "text/html": "<div>\n<style scoped>\n    .dataframe tbody tr th:only-of-type {\n        vertical-align: middle;\n    }\n\n    .dataframe tbody tr th {\n        vertical-align: top;\n    }\n\n    .dataframe thead th {\n        text-align: right;\n    }\n</style>\n<table border=\"1\" class=\"dataframe\">\n  <thead>\n    <tr style=\"text-align: right;\">\n      <th></th>\n      <th>Date</th>\n      <th>Ticker</th>\n      <th>Open</th>\n      <th>High</th>\n      <th>Low</th>\n      <th>Close</th>\n      <th>Volume</th>\n      <th>Date_normal</th>\n      <th>Daily_Mean</th>\n    </tr>\n  </thead>\n  <tbody>\n    <tr>\n      <th>0</th>\n      <td>20090821</td>\n      <td>A</td>\n      <td>25.60</td>\n      <td>25.6100</td>\n      <td>25.220</td>\n      <td>25.55</td>\n      <td>34758</td>\n      <td>2009-08-21</td>\n      <td>25.41500</td>\n    </tr>\n    <tr>\n      <th>1</th>\n      <td>20090824</td>\n      <td>A</td>\n      <td>25.64</td>\n      <td>25.7400</td>\n      <td>25.330</td>\n      <td>25.50</td>\n      <td>22247</td>\n      <td>2009-08-24</td>\n      <td>25.53500</td>\n    </tr>\n    <tr>\n      <th>2</th>\n      <td>20090825</td>\n      <td>A</td>\n      <td>25.50</td>\n      <td>25.7000</td>\n      <td>25.225</td>\n      <td>25.34</td>\n      <td>30891</td>\n      <td>2009-08-25</td>\n      <td>25.46250</td>\n    </tr>\n    <tr>\n      <th>3</th>\n      <td>20090826</td>\n      <td>A</td>\n      <td>25.32</td>\n      <td>25.6425</td>\n      <td>25.145</td>\n      <td>25.48</td>\n      <td>33334</td>\n      <td>2009-08-26</td>\n      <td>25.39375</td>\n    </tr>\n    <tr>\n      <th>4</th>\n      <td>20090827</td>\n      <td>A</td>\n      <td>25.50</td>\n      <td>25.5700</td>\n      <td>25.230</td>\n      <td>25.54</td>\n      <td>70176</td>\n      <td>2009-08-27</td>\n      <td>25.40000</td>\n    </tr>\n    <tr>\n      <th>...</th>\n      <td>...</td>\n      <td>...</td>\n      <td>...</td>\n      <td>...</td>\n      <td>...</td>\n      <td>...</td>\n      <td>...</td>\n      <td>...</td>\n      <td>...</td>\n    </tr>\n    <tr>\n      <th>122569</th>\n      <td>20100813</td>\n      <td>ZMH</td>\n      <td>51.72</td>\n      <td>51.9000</td>\n      <td>51.380</td>\n      <td>51.44</td>\n      <td>14561</td>\n      <td>2010-08-13</td>\n      <td>51.64000</td>\n    </tr>\n    <tr>\n      <th>122570</th>\n      <td>20100816</td>\n      <td>ZMH</td>\n      <td>51.13</td>\n      <td>51.4700</td>\n      <td>50.600</td>\n      <td>51.00</td>\n      <td>13489</td>\n      <td>2010-08-16</td>\n      <td>51.03500</td>\n    </tr>\n    <tr>\n      <th>122571</th>\n      <td>20100817</td>\n      <td>ZMH</td>\n      <td>51.14</td>\n      <td>51.6000</td>\n      <td>50.890</td>\n      <td>51.21</td>\n      <td>20498</td>\n      <td>2010-08-17</td>\n      <td>51.24500</td>\n    </tr>\n    <tr>\n      <th>122572</th>\n      <td>20100819</td>\n      <td>ZMH</td>\n      <td>51.63</td>\n      <td>51.6300</td>\n      <td>50.170</td>\n      <td>50.22</td>\n      <td>18259</td>\n      <td>2010-08-19</td>\n      <td>50.90000</td>\n    </tr>\n    <tr>\n      <th>122573</th>\n      <td>20100820</td>\n      <td>ZMH</td>\n      <td>50.03</td>\n      <td>50.5500</td>\n      <td>49.480</td>\n      <td>49.82</td>\n      <td>17792</td>\n      <td>2010-08-20</td>\n      <td>50.01500</td>\n    </tr>\n  </tbody>\n</table>\n<p>122574 rows × 9 columns</p>\n</div>"
     },
     "execution_count": 5,
     "metadata": {},
     "output_type": "execute_result"
    }
   ],
   "source": [
    "dataframe"
   ],
   "metadata": {
    "collapsed": false
   }
  },
  {
   "cell_type": "markdown",
   "metadata": {
    "id": "WAm_yXD2h7QS"
   },
   "source": [
    "3.2) Рассчитать среднее значение показателей для каждого из столбцов 3-6."
   ]
  },
  {
   "cell_type": "code",
   "execution_count": 6,
   "outputs": [
    {
     "name": "stdout",
     "output_type": "stream",
     "text": [
      "42.59545765904678\n",
      "43.102243387667855\n",
      "42.05446366521448\n",
      "42.60186484817335\n"
     ]
    }
   ],
   "source": [
    "open_mean = dataframe[\"Open\"].mean()\n",
    "print(open_mean)\n",
    "high_mean = dataframe[\"High\"].mean()\n",
    "print(high_mean)\n",
    "low_mean = dataframe[\"Low\"].mean()\n",
    "print(low_mean)\n",
    "close_mean = dataframe[\"Close\"].mean()\n",
    "print(close_mean)"
   ],
   "metadata": {
    "collapsed": false
   }
  },
  {
   "cell_type": "markdown",
   "metadata": {
    "id": "9TMJkAjdh7QT"
   },
   "source": [
    "4.1) Создать DataFrame состоящий из строк относящихся только к 13 августа 2010 года."
   ]
  },
  {
   "cell_type": "code",
   "execution_count": 7,
   "outputs": [
    {
     "data": {
      "text/plain": "            Date Ticker    Open      High      Low   Close  Volume  \\\n240     20100813      A   27.39   27.8500   27.300   27.35   24469   \n485     20100813     AA   10.70   10.7900   10.575   10.64  154397   \n726     20100813   AAPL  251.03  251.8800  249.090  249.10  126738   \n971     20100813    ABC   29.01   29.1300   28.690   29.04   16196   \n1216    20100813    ABT   50.13   50.2600   49.910   50.06   50879   \n...          ...    ...     ...       ...      ...     ...     ...   \n121385  20100813    XRX    9.05    9.2200    8.980    9.01   89064   \n121835  20100813   YHOO   13.82   13.9550   13.760   13.83   78455   \n122080  20100813    YUM   40.80   41.0399   40.620   40.85   20055   \n122324  20100813   ZION   20.17   20.4300   19.840   19.89   25193   \n122569  20100813    ZMH   51.72   51.9000   51.380   51.44   14561   \n\n       Date_normal  Daily_Mean  \n240     2010-08-13    27.57500  \n485     2010-08-13    10.68250  \n726     2010-08-13   250.48500  \n971     2010-08-13    28.91000  \n1216    2010-08-13    50.08500  \n...            ...         ...  \n121385  2010-08-13     9.10000  \n121835  2010-08-13    13.85750  \n122080  2010-08-13    40.82995  \n122324  2010-08-13    20.13500  \n122569  2010-08-13    51.64000  \n\n[499 rows x 9 columns]",
      "text/html": "<div>\n<style scoped>\n    .dataframe tbody tr th:only-of-type {\n        vertical-align: middle;\n    }\n\n    .dataframe tbody tr th {\n        vertical-align: top;\n    }\n\n    .dataframe thead th {\n        text-align: right;\n    }\n</style>\n<table border=\"1\" class=\"dataframe\">\n  <thead>\n    <tr style=\"text-align: right;\">\n      <th></th>\n      <th>Date</th>\n      <th>Ticker</th>\n      <th>Open</th>\n      <th>High</th>\n      <th>Low</th>\n      <th>Close</th>\n      <th>Volume</th>\n      <th>Date_normal</th>\n      <th>Daily_Mean</th>\n    </tr>\n  </thead>\n  <tbody>\n    <tr>\n      <th>240</th>\n      <td>20100813</td>\n      <td>A</td>\n      <td>27.39</td>\n      <td>27.8500</td>\n      <td>27.300</td>\n      <td>27.35</td>\n      <td>24469</td>\n      <td>2010-08-13</td>\n      <td>27.57500</td>\n    </tr>\n    <tr>\n      <th>485</th>\n      <td>20100813</td>\n      <td>AA</td>\n      <td>10.70</td>\n      <td>10.7900</td>\n      <td>10.575</td>\n      <td>10.64</td>\n      <td>154397</td>\n      <td>2010-08-13</td>\n      <td>10.68250</td>\n    </tr>\n    <tr>\n      <th>726</th>\n      <td>20100813</td>\n      <td>AAPL</td>\n      <td>251.03</td>\n      <td>251.8800</td>\n      <td>249.090</td>\n      <td>249.10</td>\n      <td>126738</td>\n      <td>2010-08-13</td>\n      <td>250.48500</td>\n    </tr>\n    <tr>\n      <th>971</th>\n      <td>20100813</td>\n      <td>ABC</td>\n      <td>29.01</td>\n      <td>29.1300</td>\n      <td>28.690</td>\n      <td>29.04</td>\n      <td>16196</td>\n      <td>2010-08-13</td>\n      <td>28.91000</td>\n    </tr>\n    <tr>\n      <th>1216</th>\n      <td>20100813</td>\n      <td>ABT</td>\n      <td>50.13</td>\n      <td>50.2600</td>\n      <td>49.910</td>\n      <td>50.06</td>\n      <td>50879</td>\n      <td>2010-08-13</td>\n      <td>50.08500</td>\n    </tr>\n    <tr>\n      <th>...</th>\n      <td>...</td>\n      <td>...</td>\n      <td>...</td>\n      <td>...</td>\n      <td>...</td>\n      <td>...</td>\n      <td>...</td>\n      <td>...</td>\n      <td>...</td>\n    </tr>\n    <tr>\n      <th>121385</th>\n      <td>20100813</td>\n      <td>XRX</td>\n      <td>9.05</td>\n      <td>9.2200</td>\n      <td>8.980</td>\n      <td>9.01</td>\n      <td>89064</td>\n      <td>2010-08-13</td>\n      <td>9.10000</td>\n    </tr>\n    <tr>\n      <th>121835</th>\n      <td>20100813</td>\n      <td>YHOO</td>\n      <td>13.82</td>\n      <td>13.9550</td>\n      <td>13.760</td>\n      <td>13.83</td>\n      <td>78455</td>\n      <td>2010-08-13</td>\n      <td>13.85750</td>\n    </tr>\n    <tr>\n      <th>122080</th>\n      <td>20100813</td>\n      <td>YUM</td>\n      <td>40.80</td>\n      <td>41.0399</td>\n      <td>40.620</td>\n      <td>40.85</td>\n      <td>20055</td>\n      <td>2010-08-13</td>\n      <td>40.82995</td>\n    </tr>\n    <tr>\n      <th>122324</th>\n      <td>20100813</td>\n      <td>ZION</td>\n      <td>20.17</td>\n      <td>20.4300</td>\n      <td>19.840</td>\n      <td>19.89</td>\n      <td>25193</td>\n      <td>2010-08-13</td>\n      <td>20.13500</td>\n    </tr>\n    <tr>\n      <th>122569</th>\n      <td>20100813</td>\n      <td>ZMH</td>\n      <td>51.72</td>\n      <td>51.9000</td>\n      <td>51.380</td>\n      <td>51.44</td>\n      <td>14561</td>\n      <td>2010-08-13</td>\n      <td>51.64000</td>\n    </tr>\n  </tbody>\n</table>\n<p>499 rows × 9 columns</p>\n</div>"
     },
     "execution_count": 7,
     "metadata": {},
     "output_type": "execute_result"
    }
   ],
   "source": [
    "#new_dataframe = dataframe.where(dataframe[\"Date_normal\"] == \"2010-08-13\", other=None)\n",
    "\n",
    "#new_dataframe\n",
    "\n",
    "new_dataframe = dataframe[dataframe[\"Date_normal\"]  == \"2010-08-13\"]\n",
    "\n",
    "new_dataframe"
   ],
   "metadata": {
    "collapsed": false
   }
  },
  {
   "cell_type": "markdown",
   "metadata": {
    "id": "AUQFpwE6h7QT"
   },
   "source": [
    "4.1.2) Из DataFrame, созданного в 4.1, cоздать серию из 30 первых имен"
   ]
  },
  {
   "cell_type": "code",
   "execution_count": 8,
   "outputs": [
    {
     "name": "stdout",
     "output_type": "stream",
     "text": [
      "240        A\n",
      "485       AA\n",
      "726     AAPL\n",
      "971      ABC\n",
      "1216     ABT\n",
      "1273     ACE\n",
      "1626    ADBE\n",
      "1871     ADI\n",
      "2116     ADM\n",
      "2359     ADP\n",
      "2601    ADSK\n",
      "2846     AEE\n",
      "3091     AEP\n",
      "3336     AES\n",
      "3581     AET\n",
      "3826     AFL\n",
      "4071     AGN\n",
      "4316     AIG\n",
      "4561     AIV\n",
      "4806     AIZ\n",
      "5049    AKAM\n",
      "5294     AKS\n",
      "5539     ALL\n",
      "5782    ALTR\n",
      "6025    AMAT\n",
      "6270     AMD\n",
      "6514    AMGN\n",
      "6758     AMP\n",
      "7003     AMT\n",
      "7246    AMZN\n",
      "Name: Ticker, dtype: object\n"
     ]
    }
   ],
   "source": [
    "names_series = pd.Series(new_dataframe[\"Ticker\"][:30])\n",
    "\n",
    "print(names_series)"
   ],
   "metadata": {
    "collapsed": false
   }
  },
  {
   "cell_type": "markdown",
   "metadata": {
    "id": "vJV9_2RQh7QU"
   },
   "source": [
    "4.2) Из DataFrame, созданного в 4.1, создать новый DataFrame индексом в котором являются имена тикеров."
   ]
  },
  {
   "cell_type": "code",
   "execution_count": 9,
   "outputs": [
    {
     "data": {
      "text/plain": "            Date Ticker    Open      High      Low   Close  Volume  \\\nTicker                                                               \nA       20100813      A   27.39   27.8500   27.300   27.35   24469   \nAA      20100813     AA   10.70   10.7900   10.575   10.64  154397   \nAAPL    20100813   AAPL  251.03  251.8800  249.090  249.10  126738   \nABC     20100813    ABC   29.01   29.1300   28.690   29.04   16196   \nABT     20100813    ABT   50.13   50.2600   49.910   50.06   50879   \n...          ...    ...     ...       ...      ...     ...     ...   \nXRX     20100813    XRX    9.05    9.2200    8.980    9.01   89064   \nYHOO    20100813   YHOO   13.82   13.9550   13.760   13.83   78455   \nYUM     20100813    YUM   40.80   41.0399   40.620   40.85   20055   \nZION    20100813   ZION   20.17   20.4300   19.840   19.89   25193   \nZMH     20100813    ZMH   51.72   51.9000   51.380   51.44   14561   \n\n       Date_normal  Daily_Mean  \nTicker                          \nA       2010-08-13    27.57500  \nAA      2010-08-13    10.68250  \nAAPL    2010-08-13   250.48500  \nABC     2010-08-13    28.91000  \nABT     2010-08-13    50.08500  \n...            ...         ...  \nXRX     2010-08-13     9.10000  \nYHOO    2010-08-13    13.85750  \nYUM     2010-08-13    40.82995  \nZION    2010-08-13    20.13500  \nZMH     2010-08-13    51.64000  \n\n[499 rows x 9 columns]",
      "text/html": "<div>\n<style scoped>\n    .dataframe tbody tr th:only-of-type {\n        vertical-align: middle;\n    }\n\n    .dataframe tbody tr th {\n        vertical-align: top;\n    }\n\n    .dataframe thead th {\n        text-align: right;\n    }\n</style>\n<table border=\"1\" class=\"dataframe\">\n  <thead>\n    <tr style=\"text-align: right;\">\n      <th></th>\n      <th>Date</th>\n      <th>Ticker</th>\n      <th>Open</th>\n      <th>High</th>\n      <th>Low</th>\n      <th>Close</th>\n      <th>Volume</th>\n      <th>Date_normal</th>\n      <th>Daily_Mean</th>\n    </tr>\n    <tr>\n      <th>Ticker</th>\n      <th></th>\n      <th></th>\n      <th></th>\n      <th></th>\n      <th></th>\n      <th></th>\n      <th></th>\n      <th></th>\n      <th></th>\n    </tr>\n  </thead>\n  <tbody>\n    <tr>\n      <th>A</th>\n      <td>20100813</td>\n      <td>A</td>\n      <td>27.39</td>\n      <td>27.8500</td>\n      <td>27.300</td>\n      <td>27.35</td>\n      <td>24469</td>\n      <td>2010-08-13</td>\n      <td>27.57500</td>\n    </tr>\n    <tr>\n      <th>AA</th>\n      <td>20100813</td>\n      <td>AA</td>\n      <td>10.70</td>\n      <td>10.7900</td>\n      <td>10.575</td>\n      <td>10.64</td>\n      <td>154397</td>\n      <td>2010-08-13</td>\n      <td>10.68250</td>\n    </tr>\n    <tr>\n      <th>AAPL</th>\n      <td>20100813</td>\n      <td>AAPL</td>\n      <td>251.03</td>\n      <td>251.8800</td>\n      <td>249.090</td>\n      <td>249.10</td>\n      <td>126738</td>\n      <td>2010-08-13</td>\n      <td>250.48500</td>\n    </tr>\n    <tr>\n      <th>ABC</th>\n      <td>20100813</td>\n      <td>ABC</td>\n      <td>29.01</td>\n      <td>29.1300</td>\n      <td>28.690</td>\n      <td>29.04</td>\n      <td>16196</td>\n      <td>2010-08-13</td>\n      <td>28.91000</td>\n    </tr>\n    <tr>\n      <th>ABT</th>\n      <td>20100813</td>\n      <td>ABT</td>\n      <td>50.13</td>\n      <td>50.2600</td>\n      <td>49.910</td>\n      <td>50.06</td>\n      <td>50879</td>\n      <td>2010-08-13</td>\n      <td>50.08500</td>\n    </tr>\n    <tr>\n      <th>...</th>\n      <td>...</td>\n      <td>...</td>\n      <td>...</td>\n      <td>...</td>\n      <td>...</td>\n      <td>...</td>\n      <td>...</td>\n      <td>...</td>\n      <td>...</td>\n    </tr>\n    <tr>\n      <th>XRX</th>\n      <td>20100813</td>\n      <td>XRX</td>\n      <td>9.05</td>\n      <td>9.2200</td>\n      <td>8.980</td>\n      <td>9.01</td>\n      <td>89064</td>\n      <td>2010-08-13</td>\n      <td>9.10000</td>\n    </tr>\n    <tr>\n      <th>YHOO</th>\n      <td>20100813</td>\n      <td>YHOO</td>\n      <td>13.82</td>\n      <td>13.9550</td>\n      <td>13.760</td>\n      <td>13.83</td>\n      <td>78455</td>\n      <td>2010-08-13</td>\n      <td>13.85750</td>\n    </tr>\n    <tr>\n      <th>YUM</th>\n      <td>20100813</td>\n      <td>YUM</td>\n      <td>40.80</td>\n      <td>41.0399</td>\n      <td>40.620</td>\n      <td>40.85</td>\n      <td>20055</td>\n      <td>2010-08-13</td>\n      <td>40.82995</td>\n    </tr>\n    <tr>\n      <th>ZION</th>\n      <td>20100813</td>\n      <td>ZION</td>\n      <td>20.17</td>\n      <td>20.4300</td>\n      <td>19.840</td>\n      <td>19.89</td>\n      <td>25193</td>\n      <td>2010-08-13</td>\n      <td>20.13500</td>\n    </tr>\n    <tr>\n      <th>ZMH</th>\n      <td>20100813</td>\n      <td>ZMH</td>\n      <td>51.72</td>\n      <td>51.9000</td>\n      <td>51.380</td>\n      <td>51.44</td>\n      <td>14561</td>\n      <td>2010-08-13</td>\n      <td>51.64000</td>\n    </tr>\n  </tbody>\n</table>\n<p>499 rows × 9 columns</p>\n</div>"
     },
     "execution_count": 9,
     "metadata": {},
     "output_type": "execute_result"
    }
   ],
   "source": [
    "new_new_dataframe = new_dataframe.set_index(new_dataframe[\"Ticker\"])\n",
    "\n",
    "new_new_dataframe"
   ],
   "metadata": {
    "collapsed": false
   }
  },
  {
   "cell_type": "markdown",
   "metadata": {
    "id": "TYJKCnu5h7QU"
   },
   "source": [
    "4.3) Создать DataFrame состоящий из строк относящихся только тикеру ALTR."
   ]
  },
  {
   "cell_type": "code",
   "execution_count": 10,
   "outputs": [],
   "source": [
    "ALTR_dataframe = dataframe[dataframe[\"Ticker\"] == \"ALTR\"]"
   ],
   "metadata": {
    "collapsed": false
   }
  },
  {
   "cell_type": "code",
   "execution_count": 11,
   "outputs": [
    {
     "data": {
      "text/plain": "          Date Ticker   Open   High    Low  Close  Volume Date_normal  \\\n5544  20090821   ALTR  19.36  19.50  19.15  19.48   54580  2009-08-21   \n5545  20090824   ALTR  19.51  19.72  19.04  19.13   42059  2009-08-24   \n5546  20090825   ALTR  19.13  19.39  18.95  19.05   48539  2009-08-25   \n5547  20090826   ALTR  19.11  19.41  18.99  19.28   42058  2009-08-26   \n5548  20090827   ALTR  19.23  19.32  18.88  19.08   63271  2009-08-27   \n...        ...    ...    ...    ...    ...    ...     ...         ...   \n5782  20100813   ALTR  25.30  25.50  24.94  24.94   69416  2010-08-13   \n5783  20100816   ALTR  24.82  25.31  24.53  25.11   60276  2010-08-16   \n5784  20100817   ALTR  25.22  25.88  25.04  25.54   89329  2010-08-17   \n5785  20100819   ALTR  25.61  25.96  25.24  25.50   61815  2010-08-19   \n5786  20100820   ALTR  25.44  25.83  25.32  25.60   54383  2010-08-20   \n\n      Daily_Mean  \n5544      19.325  \n5545      19.380  \n5546      19.170  \n5547      19.200  \n5548      19.100  \n...          ...  \n5782      25.220  \n5783      24.920  \n5784      25.460  \n5785      25.600  \n5786      25.575  \n\n[243 rows x 9 columns]",
      "text/html": "<div>\n<style scoped>\n    .dataframe tbody tr th:only-of-type {\n        vertical-align: middle;\n    }\n\n    .dataframe tbody tr th {\n        vertical-align: top;\n    }\n\n    .dataframe thead th {\n        text-align: right;\n    }\n</style>\n<table border=\"1\" class=\"dataframe\">\n  <thead>\n    <tr style=\"text-align: right;\">\n      <th></th>\n      <th>Date</th>\n      <th>Ticker</th>\n      <th>Open</th>\n      <th>High</th>\n      <th>Low</th>\n      <th>Close</th>\n      <th>Volume</th>\n      <th>Date_normal</th>\n      <th>Daily_Mean</th>\n    </tr>\n  </thead>\n  <tbody>\n    <tr>\n      <th>5544</th>\n      <td>20090821</td>\n      <td>ALTR</td>\n      <td>19.36</td>\n      <td>19.50</td>\n      <td>19.15</td>\n      <td>19.48</td>\n      <td>54580</td>\n      <td>2009-08-21</td>\n      <td>19.325</td>\n    </tr>\n    <tr>\n      <th>5545</th>\n      <td>20090824</td>\n      <td>ALTR</td>\n      <td>19.51</td>\n      <td>19.72</td>\n      <td>19.04</td>\n      <td>19.13</td>\n      <td>42059</td>\n      <td>2009-08-24</td>\n      <td>19.380</td>\n    </tr>\n    <tr>\n      <th>5546</th>\n      <td>20090825</td>\n      <td>ALTR</td>\n      <td>19.13</td>\n      <td>19.39</td>\n      <td>18.95</td>\n      <td>19.05</td>\n      <td>48539</td>\n      <td>2009-08-25</td>\n      <td>19.170</td>\n    </tr>\n    <tr>\n      <th>5547</th>\n      <td>20090826</td>\n      <td>ALTR</td>\n      <td>19.11</td>\n      <td>19.41</td>\n      <td>18.99</td>\n      <td>19.28</td>\n      <td>42058</td>\n      <td>2009-08-26</td>\n      <td>19.200</td>\n    </tr>\n    <tr>\n      <th>5548</th>\n      <td>20090827</td>\n      <td>ALTR</td>\n      <td>19.23</td>\n      <td>19.32</td>\n      <td>18.88</td>\n      <td>19.08</td>\n      <td>63271</td>\n      <td>2009-08-27</td>\n      <td>19.100</td>\n    </tr>\n    <tr>\n      <th>...</th>\n      <td>...</td>\n      <td>...</td>\n      <td>...</td>\n      <td>...</td>\n      <td>...</td>\n      <td>...</td>\n      <td>...</td>\n      <td>...</td>\n      <td>...</td>\n    </tr>\n    <tr>\n      <th>5782</th>\n      <td>20100813</td>\n      <td>ALTR</td>\n      <td>25.30</td>\n      <td>25.50</td>\n      <td>24.94</td>\n      <td>24.94</td>\n      <td>69416</td>\n      <td>2010-08-13</td>\n      <td>25.220</td>\n    </tr>\n    <tr>\n      <th>5783</th>\n      <td>20100816</td>\n      <td>ALTR</td>\n      <td>24.82</td>\n      <td>25.31</td>\n      <td>24.53</td>\n      <td>25.11</td>\n      <td>60276</td>\n      <td>2010-08-16</td>\n      <td>24.920</td>\n    </tr>\n    <tr>\n      <th>5784</th>\n      <td>20100817</td>\n      <td>ALTR</td>\n      <td>25.22</td>\n      <td>25.88</td>\n      <td>25.04</td>\n      <td>25.54</td>\n      <td>89329</td>\n      <td>2010-08-17</td>\n      <td>25.460</td>\n    </tr>\n    <tr>\n      <th>5785</th>\n      <td>20100819</td>\n      <td>ALTR</td>\n      <td>25.61</td>\n      <td>25.96</td>\n      <td>25.24</td>\n      <td>25.50</td>\n      <td>61815</td>\n      <td>2010-08-19</td>\n      <td>25.600</td>\n    </tr>\n    <tr>\n      <th>5786</th>\n      <td>20100820</td>\n      <td>ALTR</td>\n      <td>25.44</td>\n      <td>25.83</td>\n      <td>25.32</td>\n      <td>25.60</td>\n      <td>54383</td>\n      <td>2010-08-20</td>\n      <td>25.575</td>\n    </tr>\n  </tbody>\n</table>\n<p>243 rows × 9 columns</p>\n</div>"
     },
     "execution_count": 11,
     "metadata": {},
     "output_type": "execute_result"
    }
   ],
   "source": [
    "ALTR_dataframe"
   ],
   "metadata": {
    "collapsed": false
   }
  },
  {
   "cell_type": "markdown",
   "metadata": {
    "id": "rweRygrjh7QV"
   },
   "source": [
    "4.4) Из DataFrame, созданного в 4.3, создать DataFrame индексом в котором являются даты.\n"
   ]
  },
  {
   "cell_type": "code",
   "execution_count": 12,
   "outputs": [
    {
     "data": {
      "text/plain": "                 Date Ticker   Open   High    Low  Close  Volume Date_normal  \\\nDate_normal                                                                    \n2009-08-21   20090821   ALTR  19.36  19.50  19.15  19.48   54580  2009-08-21   \n2009-08-24   20090824   ALTR  19.51  19.72  19.04  19.13   42059  2009-08-24   \n2009-08-25   20090825   ALTR  19.13  19.39  18.95  19.05   48539  2009-08-25   \n2009-08-26   20090826   ALTR  19.11  19.41  18.99  19.28   42058  2009-08-26   \n2009-08-27   20090827   ALTR  19.23  19.32  18.88  19.08   63271  2009-08-27   \n...               ...    ...    ...    ...    ...    ...     ...         ...   \n2010-08-13   20100813   ALTR  25.30  25.50  24.94  24.94   69416  2010-08-13   \n2010-08-16   20100816   ALTR  24.82  25.31  24.53  25.11   60276  2010-08-16   \n2010-08-17   20100817   ALTR  25.22  25.88  25.04  25.54   89329  2010-08-17   \n2010-08-19   20100819   ALTR  25.61  25.96  25.24  25.50   61815  2010-08-19   \n2010-08-20   20100820   ALTR  25.44  25.83  25.32  25.60   54383  2010-08-20   \n\n             Daily_Mean  \nDate_normal              \n2009-08-21       19.325  \n2009-08-24       19.380  \n2009-08-25       19.170  \n2009-08-26       19.200  \n2009-08-27       19.100  \n...                 ...  \n2010-08-13       25.220  \n2010-08-16       24.920  \n2010-08-17       25.460  \n2010-08-19       25.600  \n2010-08-20       25.575  \n\n[243 rows x 9 columns]",
      "text/html": "<div>\n<style scoped>\n    .dataframe tbody tr th:only-of-type {\n        vertical-align: middle;\n    }\n\n    .dataframe tbody tr th {\n        vertical-align: top;\n    }\n\n    .dataframe thead th {\n        text-align: right;\n    }\n</style>\n<table border=\"1\" class=\"dataframe\">\n  <thead>\n    <tr style=\"text-align: right;\">\n      <th></th>\n      <th>Date</th>\n      <th>Ticker</th>\n      <th>Open</th>\n      <th>High</th>\n      <th>Low</th>\n      <th>Close</th>\n      <th>Volume</th>\n      <th>Date_normal</th>\n      <th>Daily_Mean</th>\n    </tr>\n    <tr>\n      <th>Date_normal</th>\n      <th></th>\n      <th></th>\n      <th></th>\n      <th></th>\n      <th></th>\n      <th></th>\n      <th></th>\n      <th></th>\n      <th></th>\n    </tr>\n  </thead>\n  <tbody>\n    <tr>\n      <th>2009-08-21</th>\n      <td>20090821</td>\n      <td>ALTR</td>\n      <td>19.36</td>\n      <td>19.50</td>\n      <td>19.15</td>\n      <td>19.48</td>\n      <td>54580</td>\n      <td>2009-08-21</td>\n      <td>19.325</td>\n    </tr>\n    <tr>\n      <th>2009-08-24</th>\n      <td>20090824</td>\n      <td>ALTR</td>\n      <td>19.51</td>\n      <td>19.72</td>\n      <td>19.04</td>\n      <td>19.13</td>\n      <td>42059</td>\n      <td>2009-08-24</td>\n      <td>19.380</td>\n    </tr>\n    <tr>\n      <th>2009-08-25</th>\n      <td>20090825</td>\n      <td>ALTR</td>\n      <td>19.13</td>\n      <td>19.39</td>\n      <td>18.95</td>\n      <td>19.05</td>\n      <td>48539</td>\n      <td>2009-08-25</td>\n      <td>19.170</td>\n    </tr>\n    <tr>\n      <th>2009-08-26</th>\n      <td>20090826</td>\n      <td>ALTR</td>\n      <td>19.11</td>\n      <td>19.41</td>\n      <td>18.99</td>\n      <td>19.28</td>\n      <td>42058</td>\n      <td>2009-08-26</td>\n      <td>19.200</td>\n    </tr>\n    <tr>\n      <th>2009-08-27</th>\n      <td>20090827</td>\n      <td>ALTR</td>\n      <td>19.23</td>\n      <td>19.32</td>\n      <td>18.88</td>\n      <td>19.08</td>\n      <td>63271</td>\n      <td>2009-08-27</td>\n      <td>19.100</td>\n    </tr>\n    <tr>\n      <th>...</th>\n      <td>...</td>\n      <td>...</td>\n      <td>...</td>\n      <td>...</td>\n      <td>...</td>\n      <td>...</td>\n      <td>...</td>\n      <td>...</td>\n      <td>...</td>\n    </tr>\n    <tr>\n      <th>2010-08-13</th>\n      <td>20100813</td>\n      <td>ALTR</td>\n      <td>25.30</td>\n      <td>25.50</td>\n      <td>24.94</td>\n      <td>24.94</td>\n      <td>69416</td>\n      <td>2010-08-13</td>\n      <td>25.220</td>\n    </tr>\n    <tr>\n      <th>2010-08-16</th>\n      <td>20100816</td>\n      <td>ALTR</td>\n      <td>24.82</td>\n      <td>25.31</td>\n      <td>24.53</td>\n      <td>25.11</td>\n      <td>60276</td>\n      <td>2010-08-16</td>\n      <td>24.920</td>\n    </tr>\n    <tr>\n      <th>2010-08-17</th>\n      <td>20100817</td>\n      <td>ALTR</td>\n      <td>25.22</td>\n      <td>25.88</td>\n      <td>25.04</td>\n      <td>25.54</td>\n      <td>89329</td>\n      <td>2010-08-17</td>\n      <td>25.460</td>\n    </tr>\n    <tr>\n      <th>2010-08-19</th>\n      <td>20100819</td>\n      <td>ALTR</td>\n      <td>25.61</td>\n      <td>25.96</td>\n      <td>25.24</td>\n      <td>25.50</td>\n      <td>61815</td>\n      <td>2010-08-19</td>\n      <td>25.600</td>\n    </tr>\n    <tr>\n      <th>2010-08-20</th>\n      <td>20100820</td>\n      <td>ALTR</td>\n      <td>25.44</td>\n      <td>25.83</td>\n      <td>25.32</td>\n      <td>25.60</td>\n      <td>54383</td>\n      <td>2010-08-20</td>\n      <td>25.575</td>\n    </tr>\n  </tbody>\n</table>\n<p>243 rows × 9 columns</p>\n</div>"
     },
     "execution_count": 12,
     "metadata": {},
     "output_type": "execute_result"
    }
   ],
   "source": [
    "ALTR_dataframe.set_index(ALTR_dataframe[\"Date_normal\"])"
   ],
   "metadata": {
    "collapsed": false
   }
  },
  {
   "cell_type": "markdown",
   "source": [
    "4.5) В DataFrame, созданном в 4.3, добавить столбец, содержащий только число месяца, к которому относится дата."
   ],
   "metadata": {
    "collapsed": false
   }
  },
  {
   "cell_type": "code",
   "execution_count": 13,
   "outputs": [
    {
     "name": "stderr",
     "output_type": "stream",
     "text": [
      "/tmp/ipykernel_459516/1924313722.py:1: SettingWithCopyWarning: \n",
      "A value is trying to be set on a copy of a slice from a DataFrame.\n",
      "Try using .loc[row_indexer,col_indexer] = value instead\n",
      "\n",
      "See the caveats in the documentation: https://pandas.pydata.org/pandas-docs/stable/user_guide/indexing.html#returning-a-view-versus-a-copy\n",
      "  ALTR_dataframe[\"Month_date\"] = ALTR_dataframe[\"Date_normal\"].dt.month\n"
     ]
    },
    {
     "data": {
      "text/plain": "          Date Ticker   Open   High    Low  Close  Volume Date_normal  \\\n5544  20090821   ALTR  19.36  19.50  19.15  19.48   54580  2009-08-21   \n5545  20090824   ALTR  19.51  19.72  19.04  19.13   42059  2009-08-24   \n5546  20090825   ALTR  19.13  19.39  18.95  19.05   48539  2009-08-25   \n5547  20090826   ALTR  19.11  19.41  18.99  19.28   42058  2009-08-26   \n5548  20090827   ALTR  19.23  19.32  18.88  19.08   63271  2009-08-27   \n...        ...    ...    ...    ...    ...    ...     ...         ...   \n5782  20100813   ALTR  25.30  25.50  24.94  24.94   69416  2010-08-13   \n5783  20100816   ALTR  24.82  25.31  24.53  25.11   60276  2010-08-16   \n5784  20100817   ALTR  25.22  25.88  25.04  25.54   89329  2010-08-17   \n5785  20100819   ALTR  25.61  25.96  25.24  25.50   61815  2010-08-19   \n5786  20100820   ALTR  25.44  25.83  25.32  25.60   54383  2010-08-20   \n\n      Daily_Mean  Month_date  \n5544      19.325           8  \n5545      19.380           8  \n5546      19.170           8  \n5547      19.200           8  \n5548      19.100           8  \n...          ...         ...  \n5782      25.220           8  \n5783      24.920           8  \n5784      25.460           8  \n5785      25.600           8  \n5786      25.575           8  \n\n[243 rows x 10 columns]",
      "text/html": "<div>\n<style scoped>\n    .dataframe tbody tr th:only-of-type {\n        vertical-align: middle;\n    }\n\n    .dataframe tbody tr th {\n        vertical-align: top;\n    }\n\n    .dataframe thead th {\n        text-align: right;\n    }\n</style>\n<table border=\"1\" class=\"dataframe\">\n  <thead>\n    <tr style=\"text-align: right;\">\n      <th></th>\n      <th>Date</th>\n      <th>Ticker</th>\n      <th>Open</th>\n      <th>High</th>\n      <th>Low</th>\n      <th>Close</th>\n      <th>Volume</th>\n      <th>Date_normal</th>\n      <th>Daily_Mean</th>\n      <th>Month_date</th>\n    </tr>\n  </thead>\n  <tbody>\n    <tr>\n      <th>5544</th>\n      <td>20090821</td>\n      <td>ALTR</td>\n      <td>19.36</td>\n      <td>19.50</td>\n      <td>19.15</td>\n      <td>19.48</td>\n      <td>54580</td>\n      <td>2009-08-21</td>\n      <td>19.325</td>\n      <td>8</td>\n    </tr>\n    <tr>\n      <th>5545</th>\n      <td>20090824</td>\n      <td>ALTR</td>\n      <td>19.51</td>\n      <td>19.72</td>\n      <td>19.04</td>\n      <td>19.13</td>\n      <td>42059</td>\n      <td>2009-08-24</td>\n      <td>19.380</td>\n      <td>8</td>\n    </tr>\n    <tr>\n      <th>5546</th>\n      <td>20090825</td>\n      <td>ALTR</td>\n      <td>19.13</td>\n      <td>19.39</td>\n      <td>18.95</td>\n      <td>19.05</td>\n      <td>48539</td>\n      <td>2009-08-25</td>\n      <td>19.170</td>\n      <td>8</td>\n    </tr>\n    <tr>\n      <th>5547</th>\n      <td>20090826</td>\n      <td>ALTR</td>\n      <td>19.11</td>\n      <td>19.41</td>\n      <td>18.99</td>\n      <td>19.28</td>\n      <td>42058</td>\n      <td>2009-08-26</td>\n      <td>19.200</td>\n      <td>8</td>\n    </tr>\n    <tr>\n      <th>5548</th>\n      <td>20090827</td>\n      <td>ALTR</td>\n      <td>19.23</td>\n      <td>19.32</td>\n      <td>18.88</td>\n      <td>19.08</td>\n      <td>63271</td>\n      <td>2009-08-27</td>\n      <td>19.100</td>\n      <td>8</td>\n    </tr>\n    <tr>\n      <th>...</th>\n      <td>...</td>\n      <td>...</td>\n      <td>...</td>\n      <td>...</td>\n      <td>...</td>\n      <td>...</td>\n      <td>...</td>\n      <td>...</td>\n      <td>...</td>\n      <td>...</td>\n    </tr>\n    <tr>\n      <th>5782</th>\n      <td>20100813</td>\n      <td>ALTR</td>\n      <td>25.30</td>\n      <td>25.50</td>\n      <td>24.94</td>\n      <td>24.94</td>\n      <td>69416</td>\n      <td>2010-08-13</td>\n      <td>25.220</td>\n      <td>8</td>\n    </tr>\n    <tr>\n      <th>5783</th>\n      <td>20100816</td>\n      <td>ALTR</td>\n      <td>24.82</td>\n      <td>25.31</td>\n      <td>24.53</td>\n      <td>25.11</td>\n      <td>60276</td>\n      <td>2010-08-16</td>\n      <td>24.920</td>\n      <td>8</td>\n    </tr>\n    <tr>\n      <th>5784</th>\n      <td>20100817</td>\n      <td>ALTR</td>\n      <td>25.22</td>\n      <td>25.88</td>\n      <td>25.04</td>\n      <td>25.54</td>\n      <td>89329</td>\n      <td>2010-08-17</td>\n      <td>25.460</td>\n      <td>8</td>\n    </tr>\n    <tr>\n      <th>5785</th>\n      <td>20100819</td>\n      <td>ALTR</td>\n      <td>25.61</td>\n      <td>25.96</td>\n      <td>25.24</td>\n      <td>25.50</td>\n      <td>61815</td>\n      <td>2010-08-19</td>\n      <td>25.600</td>\n      <td>8</td>\n    </tr>\n    <tr>\n      <th>5786</th>\n      <td>20100820</td>\n      <td>ALTR</td>\n      <td>25.44</td>\n      <td>25.83</td>\n      <td>25.32</td>\n      <td>25.60</td>\n      <td>54383</td>\n      <td>2010-08-20</td>\n      <td>25.575</td>\n      <td>8</td>\n    </tr>\n  </tbody>\n</table>\n<p>243 rows × 10 columns</p>\n</div>"
     },
     "execution_count": 13,
     "metadata": {},
     "output_type": "execute_result"
    }
   ],
   "source": [
    "ALTR_dataframe[\"Month_date\"] = ALTR_dataframe[\"Date_normal\"].dt.month\n",
    "\n",
    "ALTR_dataframe\n"
   ],
   "metadata": {
    "collapsed": false
   }
  },
  {
   "cell_type": "markdown",
   "source": [
    "4.5.1) Создать DataFrame состоящий из строк относящихся только тикеру WAT и объединить его с DataFrame для ALTR."
   ],
   "metadata": {
    "collapsed": false
   }
  },
  {
   "cell_type": "code",
   "execution_count": 14,
   "outputs": [
    {
     "data": {
      "text/plain": "         Date Ticker_x  Open_x  High_x  Low_x  Close_x  Volume_x  \\\n0    20090821     ALTR   19.36   19.50  19.15    19.48     54580   \n1    20090824     ALTR   19.51   19.72  19.04    19.13     42059   \n2    20090825     ALTR   19.13   19.39  18.95    19.05     48539   \n3    20090826     ALTR   19.11   19.41  18.99    19.28     42058   \n4    20090827     ALTR   19.23   19.32  18.88    19.08     63271   \n..        ...      ...     ...     ...    ...      ...       ...   \n238  20100813     ALTR   25.30   25.50  24.94    24.94     69416   \n239  20100816     ALTR   24.82   25.31  24.53    25.11     60276   \n240  20100817     ALTR   25.22   25.88  25.04    25.54     89329   \n241  20100819     ALTR   25.61   25.96  25.24    25.50     61815   \n242  20100820     ALTR   25.44   25.83  25.32    25.60     54383   \n\n    Date_normal_x  Daily_Mean_x  Month_date Ticker_y  Open_y  High_y  Low_y  \\\n0      2009-08-21        19.325           8      WAT   50.77  52.144  50.33   \n1      2009-08-24        19.380           8      WAT   52.02  52.020  51.38   \n2      2009-08-25        19.170           8      WAT   51.61  52.740  51.50   \n3      2009-08-26        19.200           8      WAT   51.94  52.860  51.93   \n4      2009-08-27        19.100           8      WAT   52.09  52.220  51.33   \n..            ...           ...         ...      ...     ...     ...    ...   \n238    2010-08-13        25.220           8      WAT   62.84  63.320  62.35   \n239    2010-08-16        24.920           8      WAT   62.00  62.360  61.46   \n240    2010-08-17        25.460           8      WAT   62.74  64.790  62.56   \n241    2010-08-19        25.600           8      WAT   64.10  64.380  62.43   \n242    2010-08-20        25.575           8      WAT   61.99  62.730  61.44   \n\n     Close_y  Volume_y Date_normal_y  Daily_Mean_y  \n0      51.80      9785    2009-08-21        51.237  \n1      51.48      5866    2009-08-24        51.700  \n2      52.23      9567    2009-08-25        52.120  \n3      52.17      4202    2009-08-26        52.395  \n4      51.73      6473    2009-08-27        51.775  \n..       ...       ...           ...           ...  \n238    62.39     11458    2010-08-13        62.835  \n239    61.95     12828    2010-08-16        61.910  \n240    64.43      9557    2010-08-17        63.675  \n241    62.53      8350    2010-08-19        63.405  \n242    62.68      9270    2010-08-20        62.085  \n\n[243 rows x 18 columns]",
      "text/html": "<div>\n<style scoped>\n    .dataframe tbody tr th:only-of-type {\n        vertical-align: middle;\n    }\n\n    .dataframe tbody tr th {\n        vertical-align: top;\n    }\n\n    .dataframe thead th {\n        text-align: right;\n    }\n</style>\n<table border=\"1\" class=\"dataframe\">\n  <thead>\n    <tr style=\"text-align: right;\">\n      <th></th>\n      <th>Date</th>\n      <th>Ticker_x</th>\n      <th>Open_x</th>\n      <th>High_x</th>\n      <th>Low_x</th>\n      <th>Close_x</th>\n      <th>Volume_x</th>\n      <th>Date_normal_x</th>\n      <th>Daily_Mean_x</th>\n      <th>Month_date</th>\n      <th>Ticker_y</th>\n      <th>Open_y</th>\n      <th>High_y</th>\n      <th>Low_y</th>\n      <th>Close_y</th>\n      <th>Volume_y</th>\n      <th>Date_normal_y</th>\n      <th>Daily_Mean_y</th>\n    </tr>\n  </thead>\n  <tbody>\n    <tr>\n      <th>0</th>\n      <td>20090821</td>\n      <td>ALTR</td>\n      <td>19.36</td>\n      <td>19.50</td>\n      <td>19.15</td>\n      <td>19.48</td>\n      <td>54580</td>\n      <td>2009-08-21</td>\n      <td>19.325</td>\n      <td>8</td>\n      <td>WAT</td>\n      <td>50.77</td>\n      <td>52.144</td>\n      <td>50.33</td>\n      <td>51.80</td>\n      <td>9785</td>\n      <td>2009-08-21</td>\n      <td>51.237</td>\n    </tr>\n    <tr>\n      <th>1</th>\n      <td>20090824</td>\n      <td>ALTR</td>\n      <td>19.51</td>\n      <td>19.72</td>\n      <td>19.04</td>\n      <td>19.13</td>\n      <td>42059</td>\n      <td>2009-08-24</td>\n      <td>19.380</td>\n      <td>8</td>\n      <td>WAT</td>\n      <td>52.02</td>\n      <td>52.020</td>\n      <td>51.38</td>\n      <td>51.48</td>\n      <td>5866</td>\n      <td>2009-08-24</td>\n      <td>51.700</td>\n    </tr>\n    <tr>\n      <th>2</th>\n      <td>20090825</td>\n      <td>ALTR</td>\n      <td>19.13</td>\n      <td>19.39</td>\n      <td>18.95</td>\n      <td>19.05</td>\n      <td>48539</td>\n      <td>2009-08-25</td>\n      <td>19.170</td>\n      <td>8</td>\n      <td>WAT</td>\n      <td>51.61</td>\n      <td>52.740</td>\n      <td>51.50</td>\n      <td>52.23</td>\n      <td>9567</td>\n      <td>2009-08-25</td>\n      <td>52.120</td>\n    </tr>\n    <tr>\n      <th>3</th>\n      <td>20090826</td>\n      <td>ALTR</td>\n      <td>19.11</td>\n      <td>19.41</td>\n      <td>18.99</td>\n      <td>19.28</td>\n      <td>42058</td>\n      <td>2009-08-26</td>\n      <td>19.200</td>\n      <td>8</td>\n      <td>WAT</td>\n      <td>51.94</td>\n      <td>52.860</td>\n      <td>51.93</td>\n      <td>52.17</td>\n      <td>4202</td>\n      <td>2009-08-26</td>\n      <td>52.395</td>\n    </tr>\n    <tr>\n      <th>4</th>\n      <td>20090827</td>\n      <td>ALTR</td>\n      <td>19.23</td>\n      <td>19.32</td>\n      <td>18.88</td>\n      <td>19.08</td>\n      <td>63271</td>\n      <td>2009-08-27</td>\n      <td>19.100</td>\n      <td>8</td>\n      <td>WAT</td>\n      <td>52.09</td>\n      <td>52.220</td>\n      <td>51.33</td>\n      <td>51.73</td>\n      <td>6473</td>\n      <td>2009-08-27</td>\n      <td>51.775</td>\n    </tr>\n    <tr>\n      <th>...</th>\n      <td>...</td>\n      <td>...</td>\n      <td>...</td>\n      <td>...</td>\n      <td>...</td>\n      <td>...</td>\n      <td>...</td>\n      <td>...</td>\n      <td>...</td>\n      <td>...</td>\n      <td>...</td>\n      <td>...</td>\n      <td>...</td>\n      <td>...</td>\n      <td>...</td>\n      <td>...</td>\n      <td>...</td>\n      <td>...</td>\n    </tr>\n    <tr>\n      <th>238</th>\n      <td>20100813</td>\n      <td>ALTR</td>\n      <td>25.30</td>\n      <td>25.50</td>\n      <td>24.94</td>\n      <td>24.94</td>\n      <td>69416</td>\n      <td>2010-08-13</td>\n      <td>25.220</td>\n      <td>8</td>\n      <td>WAT</td>\n      <td>62.84</td>\n      <td>63.320</td>\n      <td>62.35</td>\n      <td>62.39</td>\n      <td>11458</td>\n      <td>2010-08-13</td>\n      <td>62.835</td>\n    </tr>\n    <tr>\n      <th>239</th>\n      <td>20100816</td>\n      <td>ALTR</td>\n      <td>24.82</td>\n      <td>25.31</td>\n      <td>24.53</td>\n      <td>25.11</td>\n      <td>60276</td>\n      <td>2010-08-16</td>\n      <td>24.920</td>\n      <td>8</td>\n      <td>WAT</td>\n      <td>62.00</td>\n      <td>62.360</td>\n      <td>61.46</td>\n      <td>61.95</td>\n      <td>12828</td>\n      <td>2010-08-16</td>\n      <td>61.910</td>\n    </tr>\n    <tr>\n      <th>240</th>\n      <td>20100817</td>\n      <td>ALTR</td>\n      <td>25.22</td>\n      <td>25.88</td>\n      <td>25.04</td>\n      <td>25.54</td>\n      <td>89329</td>\n      <td>2010-08-17</td>\n      <td>25.460</td>\n      <td>8</td>\n      <td>WAT</td>\n      <td>62.74</td>\n      <td>64.790</td>\n      <td>62.56</td>\n      <td>64.43</td>\n      <td>9557</td>\n      <td>2010-08-17</td>\n      <td>63.675</td>\n    </tr>\n    <tr>\n      <th>241</th>\n      <td>20100819</td>\n      <td>ALTR</td>\n      <td>25.61</td>\n      <td>25.96</td>\n      <td>25.24</td>\n      <td>25.50</td>\n      <td>61815</td>\n      <td>2010-08-19</td>\n      <td>25.600</td>\n      <td>8</td>\n      <td>WAT</td>\n      <td>64.10</td>\n      <td>64.380</td>\n      <td>62.43</td>\n      <td>62.53</td>\n      <td>8350</td>\n      <td>2010-08-19</td>\n      <td>63.405</td>\n    </tr>\n    <tr>\n      <th>242</th>\n      <td>20100820</td>\n      <td>ALTR</td>\n      <td>25.44</td>\n      <td>25.83</td>\n      <td>25.32</td>\n      <td>25.60</td>\n      <td>54383</td>\n      <td>2010-08-20</td>\n      <td>25.575</td>\n      <td>8</td>\n      <td>WAT</td>\n      <td>61.99</td>\n      <td>62.730</td>\n      <td>61.44</td>\n      <td>62.68</td>\n      <td>9270</td>\n      <td>2010-08-20</td>\n      <td>62.085</td>\n    </tr>\n  </tbody>\n</table>\n<p>243 rows × 18 columns</p>\n</div>"
     },
     "execution_count": 14,
     "metadata": {},
     "output_type": "execute_result"
    }
   ],
   "source": [
    "WAT_dataframe = dataframe[dataframe[\"Ticker\"] == \"WAT\"]\n",
    "\n",
    "WAT_ALTR_dataframe = pd.merge(left=ALTR_dataframe, right=WAT_dataframe, left_on=\"Date\", right_on=\"Date\")\n",
    "\n",
    "WAT_ALTR_dataframe"
   ],
   "metadata": {
    "collapsed": false
   }
  },
  {
   "cell_type": "markdown",
   "source": [
    "4.5.2) Создать DataFrame в котором присутствует столбец, отражающий разницу в объемах торгов по WAT и ALTR в одинаковые дни и содержит исходные данны об объеме трогов этими акциями."
   ],
   "metadata": {
    "collapsed": false
   }
  },
  {
   "cell_type": "code",
   "execution_count": 15,
   "outputs": [
    {
     "data": {
      "text/plain": "    Ticker_x Ticker_y Date_normal_x  Volume_x  Volume_y  Volume_diff\n0       ALTR      WAT    2009-08-21     54580      9785        44795\n1       ALTR      WAT    2009-08-24     42059      5866        36193\n2       ALTR      WAT    2009-08-25     48539      9567        38972\n3       ALTR      WAT    2009-08-26     42058      4202        37856\n4       ALTR      WAT    2009-08-27     63271      6473        56798\n..       ...      ...           ...       ...       ...          ...\n238     ALTR      WAT    2010-08-13     69416     11458        57958\n239     ALTR      WAT    2010-08-16     60276     12828        47448\n240     ALTR      WAT    2010-08-17     89329      9557        79772\n241     ALTR      WAT    2010-08-19     61815      8350        53465\n242     ALTR      WAT    2010-08-20     54383      9270        45113\n\n[243 rows x 6 columns]",
      "text/html": "<div>\n<style scoped>\n    .dataframe tbody tr th:only-of-type {\n        vertical-align: middle;\n    }\n\n    .dataframe tbody tr th {\n        vertical-align: top;\n    }\n\n    .dataframe thead th {\n        text-align: right;\n    }\n</style>\n<table border=\"1\" class=\"dataframe\">\n  <thead>\n    <tr style=\"text-align: right;\">\n      <th></th>\n      <th>Ticker_x</th>\n      <th>Ticker_y</th>\n      <th>Date_normal_x</th>\n      <th>Volume_x</th>\n      <th>Volume_y</th>\n      <th>Volume_diff</th>\n    </tr>\n  </thead>\n  <tbody>\n    <tr>\n      <th>0</th>\n      <td>ALTR</td>\n      <td>WAT</td>\n      <td>2009-08-21</td>\n      <td>54580</td>\n      <td>9785</td>\n      <td>44795</td>\n    </tr>\n    <tr>\n      <th>1</th>\n      <td>ALTR</td>\n      <td>WAT</td>\n      <td>2009-08-24</td>\n      <td>42059</td>\n      <td>5866</td>\n      <td>36193</td>\n    </tr>\n    <tr>\n      <th>2</th>\n      <td>ALTR</td>\n      <td>WAT</td>\n      <td>2009-08-25</td>\n      <td>48539</td>\n      <td>9567</td>\n      <td>38972</td>\n    </tr>\n    <tr>\n      <th>3</th>\n      <td>ALTR</td>\n      <td>WAT</td>\n      <td>2009-08-26</td>\n      <td>42058</td>\n      <td>4202</td>\n      <td>37856</td>\n    </tr>\n    <tr>\n      <th>4</th>\n      <td>ALTR</td>\n      <td>WAT</td>\n      <td>2009-08-27</td>\n      <td>63271</td>\n      <td>6473</td>\n      <td>56798</td>\n    </tr>\n    <tr>\n      <th>...</th>\n      <td>...</td>\n      <td>...</td>\n      <td>...</td>\n      <td>...</td>\n      <td>...</td>\n      <td>...</td>\n    </tr>\n    <tr>\n      <th>238</th>\n      <td>ALTR</td>\n      <td>WAT</td>\n      <td>2010-08-13</td>\n      <td>69416</td>\n      <td>11458</td>\n      <td>57958</td>\n    </tr>\n    <tr>\n      <th>239</th>\n      <td>ALTR</td>\n      <td>WAT</td>\n      <td>2010-08-16</td>\n      <td>60276</td>\n      <td>12828</td>\n      <td>47448</td>\n    </tr>\n    <tr>\n      <th>240</th>\n      <td>ALTR</td>\n      <td>WAT</td>\n      <td>2010-08-17</td>\n      <td>89329</td>\n      <td>9557</td>\n      <td>79772</td>\n    </tr>\n    <tr>\n      <th>241</th>\n      <td>ALTR</td>\n      <td>WAT</td>\n      <td>2010-08-19</td>\n      <td>61815</td>\n      <td>8350</td>\n      <td>53465</td>\n    </tr>\n    <tr>\n      <th>242</th>\n      <td>ALTR</td>\n      <td>WAT</td>\n      <td>2010-08-20</td>\n      <td>54383</td>\n      <td>9270</td>\n      <td>45113</td>\n    </tr>\n  </tbody>\n</table>\n<p>243 rows × 6 columns</p>\n</div>"
     },
     "execution_count": 15,
     "metadata": {},
     "output_type": "execute_result"
    }
   ],
   "source": [
    "#Volume_dataframe = dataframe[(dataframe[\"Ticker\"] == \"ALTR\") + (dataframe[\"Ticker\"] == \"WAT\")]\n",
    "\n",
    "Volume_dataframe = WAT_ALTR_dataframe\n",
    "\n",
    "Volume_dataframe[\"Volume_diff\"] = Volume_dataframe[\"Volume_x\"] - Volume_dataframe[\"Volume_y\"]\n",
    "\n",
    "Volume_dataframe[[\"Ticker_x\", \"Ticker_y\", \"Date_normal_x\", \"Volume_x\", \"Volume_y\", \"Volume_diff\"]]"
   ],
   "metadata": {
    "collapsed": false
   }
  },
  {
   "cell_type": "markdown",
   "metadata": {
    "id": "3eTth_Mmh7QY"
   },
   "source": [
    "4.6) В DataFrame добавить столбец, содержащий только число месяца, к которому относится дата.\n",
    "\n"
   ]
  },
  {
   "cell_type": "code",
   "execution_count": 16,
   "outputs": [
    {
     "data": {
      "text/plain": "            Date Ticker   Open     High     Low  Close  Volume Date_normal  \\\n0       20090821      A  25.60  25.6100  25.220  25.55   34758  2009-08-21   \n1       20090824      A  25.64  25.7400  25.330  25.50   22247  2009-08-24   \n2       20090825      A  25.50  25.7000  25.225  25.34   30891  2009-08-25   \n3       20090826      A  25.32  25.6425  25.145  25.48   33334  2009-08-26   \n4       20090827      A  25.50  25.5700  25.230  25.54   70176  2009-08-27   \n...          ...    ...    ...      ...     ...    ...     ...         ...   \n122569  20100813    ZMH  51.72  51.9000  51.380  51.44   14561  2010-08-13   \n122570  20100816    ZMH  51.13  51.4700  50.600  51.00   13489  2010-08-16   \n122571  20100817    ZMH  51.14  51.6000  50.890  51.21   20498  2010-08-17   \n122572  20100819    ZMH  51.63  51.6300  50.170  50.22   18259  2010-08-19   \n122573  20100820    ZMH  50.03  50.5500  49.480  49.82   17792  2010-08-20   \n\n        Daily_Mean  Month_date  \n0         25.41500           8  \n1         25.53500           8  \n2         25.46250           8  \n3         25.39375           8  \n4         25.40000           8  \n...            ...         ...  \n122569    51.64000           8  \n122570    51.03500           8  \n122571    51.24500           8  \n122572    50.90000           8  \n122573    50.01500           8  \n\n[122574 rows x 10 columns]",
      "text/html": "<div>\n<style scoped>\n    .dataframe tbody tr th:only-of-type {\n        vertical-align: middle;\n    }\n\n    .dataframe tbody tr th {\n        vertical-align: top;\n    }\n\n    .dataframe thead th {\n        text-align: right;\n    }\n</style>\n<table border=\"1\" class=\"dataframe\">\n  <thead>\n    <tr style=\"text-align: right;\">\n      <th></th>\n      <th>Date</th>\n      <th>Ticker</th>\n      <th>Open</th>\n      <th>High</th>\n      <th>Low</th>\n      <th>Close</th>\n      <th>Volume</th>\n      <th>Date_normal</th>\n      <th>Daily_Mean</th>\n      <th>Month_date</th>\n    </tr>\n  </thead>\n  <tbody>\n    <tr>\n      <th>0</th>\n      <td>20090821</td>\n      <td>A</td>\n      <td>25.60</td>\n      <td>25.6100</td>\n      <td>25.220</td>\n      <td>25.55</td>\n      <td>34758</td>\n      <td>2009-08-21</td>\n      <td>25.41500</td>\n      <td>8</td>\n    </tr>\n    <tr>\n      <th>1</th>\n      <td>20090824</td>\n      <td>A</td>\n      <td>25.64</td>\n      <td>25.7400</td>\n      <td>25.330</td>\n      <td>25.50</td>\n      <td>22247</td>\n      <td>2009-08-24</td>\n      <td>25.53500</td>\n      <td>8</td>\n    </tr>\n    <tr>\n      <th>2</th>\n      <td>20090825</td>\n      <td>A</td>\n      <td>25.50</td>\n      <td>25.7000</td>\n      <td>25.225</td>\n      <td>25.34</td>\n      <td>30891</td>\n      <td>2009-08-25</td>\n      <td>25.46250</td>\n      <td>8</td>\n    </tr>\n    <tr>\n      <th>3</th>\n      <td>20090826</td>\n      <td>A</td>\n      <td>25.32</td>\n      <td>25.6425</td>\n      <td>25.145</td>\n      <td>25.48</td>\n      <td>33334</td>\n      <td>2009-08-26</td>\n      <td>25.39375</td>\n      <td>8</td>\n    </tr>\n    <tr>\n      <th>4</th>\n      <td>20090827</td>\n      <td>A</td>\n      <td>25.50</td>\n      <td>25.5700</td>\n      <td>25.230</td>\n      <td>25.54</td>\n      <td>70176</td>\n      <td>2009-08-27</td>\n      <td>25.40000</td>\n      <td>8</td>\n    </tr>\n    <tr>\n      <th>...</th>\n      <td>...</td>\n      <td>...</td>\n      <td>...</td>\n      <td>...</td>\n      <td>...</td>\n      <td>...</td>\n      <td>...</td>\n      <td>...</td>\n      <td>...</td>\n      <td>...</td>\n    </tr>\n    <tr>\n      <th>122569</th>\n      <td>20100813</td>\n      <td>ZMH</td>\n      <td>51.72</td>\n      <td>51.9000</td>\n      <td>51.380</td>\n      <td>51.44</td>\n      <td>14561</td>\n      <td>2010-08-13</td>\n      <td>51.64000</td>\n      <td>8</td>\n    </tr>\n    <tr>\n      <th>122570</th>\n      <td>20100816</td>\n      <td>ZMH</td>\n      <td>51.13</td>\n      <td>51.4700</td>\n      <td>50.600</td>\n      <td>51.00</td>\n      <td>13489</td>\n      <td>2010-08-16</td>\n      <td>51.03500</td>\n      <td>8</td>\n    </tr>\n    <tr>\n      <th>122571</th>\n      <td>20100817</td>\n      <td>ZMH</td>\n      <td>51.14</td>\n      <td>51.6000</td>\n      <td>50.890</td>\n      <td>51.21</td>\n      <td>20498</td>\n      <td>2010-08-17</td>\n      <td>51.24500</td>\n      <td>8</td>\n    </tr>\n    <tr>\n      <th>122572</th>\n      <td>20100819</td>\n      <td>ZMH</td>\n      <td>51.63</td>\n      <td>51.6300</td>\n      <td>50.170</td>\n      <td>50.22</td>\n      <td>18259</td>\n      <td>2010-08-19</td>\n      <td>50.90000</td>\n      <td>8</td>\n    </tr>\n    <tr>\n      <th>122573</th>\n      <td>20100820</td>\n      <td>ZMH</td>\n      <td>50.03</td>\n      <td>50.5500</td>\n      <td>49.480</td>\n      <td>49.82</td>\n      <td>17792</td>\n      <td>2010-08-20</td>\n      <td>50.01500</td>\n      <td>8</td>\n    </tr>\n  </tbody>\n</table>\n<p>122574 rows × 10 columns</p>\n</div>"
     },
     "execution_count": 16,
     "metadata": {},
     "output_type": "execute_result"
    }
   ],
   "source": [
    "dataframe[\"Month_date\"] = dataframe[\"Date_normal\"].dt.month\n",
    "\n",
    "dataframe"
   ],
   "metadata": {
    "collapsed": false
   }
  },
  {
   "cell_type": "markdown",
   "source": [
    "4.7) Из DataFrame выбрать только строки, относящиеся к 13 числу месяца."
   ],
   "metadata": {
    "collapsed": false
   }
  },
  {
   "cell_type": "code",
   "execution_count": 17,
   "outputs": [
    {
     "data": {
      "text/plain": "            Date Ticker   Open   High     Low  Close  Volume Date_normal  \\\n35      20091013      A  27.41  27.53  27.150  27.29   14226  2009-10-13   \n53      20091113      A  27.97  28.89  27.750  28.61   62633  2009-11-13   \n93      20100113      A  30.47  30.78  30.050  30.69   24455  2010-01-13   \n154     20100413      A  34.15  34.23  33.880  33.90   25868  2010-04-13   \n176     20100513      A  34.83  35.29  34.430  34.78   43992  2010-05-13   \n...          ...    ...    ...    ...     ...    ...     ...         ...   \n122422  20100113    ZMH  62.26  62.79  61.732  62.55    7663  2010-01-13   \n122483  20100413    ZMH  59.27  60.15  59.060  60.09   13177  2010-04-13   \n122505  20100513    ZMH  60.97  61.20  60.650  60.65   10647  2010-05-13   \n122546  20100713    ZMH  56.38  57.57  56.380  56.92   21035  2010-07-13   \n122569  20100813    ZMH  51.72  51.90  51.380  51.44   14561  2010-08-13   \n\n        Daily_Mean  Month_date  Day_date  \n35          27.340          10        13  \n53          28.320          11        13  \n93          30.415           1        13  \n154         34.055           4        13  \n176         34.860           5        13  \n...            ...         ...       ...  \n122422      62.261           1        13  \n122483      59.605           4        13  \n122505      60.925           5        13  \n122546      56.975           7        13  \n122569      51.640           8        13  \n\n[3510 rows x 11 columns]",
      "text/html": "<div>\n<style scoped>\n    .dataframe tbody tr th:only-of-type {\n        vertical-align: middle;\n    }\n\n    .dataframe tbody tr th {\n        vertical-align: top;\n    }\n\n    .dataframe thead th {\n        text-align: right;\n    }\n</style>\n<table border=\"1\" class=\"dataframe\">\n  <thead>\n    <tr style=\"text-align: right;\">\n      <th></th>\n      <th>Date</th>\n      <th>Ticker</th>\n      <th>Open</th>\n      <th>High</th>\n      <th>Low</th>\n      <th>Close</th>\n      <th>Volume</th>\n      <th>Date_normal</th>\n      <th>Daily_Mean</th>\n      <th>Month_date</th>\n      <th>Day_date</th>\n    </tr>\n  </thead>\n  <tbody>\n    <tr>\n      <th>35</th>\n      <td>20091013</td>\n      <td>A</td>\n      <td>27.41</td>\n      <td>27.53</td>\n      <td>27.150</td>\n      <td>27.29</td>\n      <td>14226</td>\n      <td>2009-10-13</td>\n      <td>27.340</td>\n      <td>10</td>\n      <td>13</td>\n    </tr>\n    <tr>\n      <th>53</th>\n      <td>20091113</td>\n      <td>A</td>\n      <td>27.97</td>\n      <td>28.89</td>\n      <td>27.750</td>\n      <td>28.61</td>\n      <td>62633</td>\n      <td>2009-11-13</td>\n      <td>28.320</td>\n      <td>11</td>\n      <td>13</td>\n    </tr>\n    <tr>\n      <th>93</th>\n      <td>20100113</td>\n      <td>A</td>\n      <td>30.47</td>\n      <td>30.78</td>\n      <td>30.050</td>\n      <td>30.69</td>\n      <td>24455</td>\n      <td>2010-01-13</td>\n      <td>30.415</td>\n      <td>1</td>\n      <td>13</td>\n    </tr>\n    <tr>\n      <th>154</th>\n      <td>20100413</td>\n      <td>A</td>\n      <td>34.15</td>\n      <td>34.23</td>\n      <td>33.880</td>\n      <td>33.90</td>\n      <td>25868</td>\n      <td>2010-04-13</td>\n      <td>34.055</td>\n      <td>4</td>\n      <td>13</td>\n    </tr>\n    <tr>\n      <th>176</th>\n      <td>20100513</td>\n      <td>A</td>\n      <td>34.83</td>\n      <td>35.29</td>\n      <td>34.430</td>\n      <td>34.78</td>\n      <td>43992</td>\n      <td>2010-05-13</td>\n      <td>34.860</td>\n      <td>5</td>\n      <td>13</td>\n    </tr>\n    <tr>\n      <th>...</th>\n      <td>...</td>\n      <td>...</td>\n      <td>...</td>\n      <td>...</td>\n      <td>...</td>\n      <td>...</td>\n      <td>...</td>\n      <td>...</td>\n      <td>...</td>\n      <td>...</td>\n      <td>...</td>\n    </tr>\n    <tr>\n      <th>122422</th>\n      <td>20100113</td>\n      <td>ZMH</td>\n      <td>62.26</td>\n      <td>62.79</td>\n      <td>61.732</td>\n      <td>62.55</td>\n      <td>7663</td>\n      <td>2010-01-13</td>\n      <td>62.261</td>\n      <td>1</td>\n      <td>13</td>\n    </tr>\n    <tr>\n      <th>122483</th>\n      <td>20100413</td>\n      <td>ZMH</td>\n      <td>59.27</td>\n      <td>60.15</td>\n      <td>59.060</td>\n      <td>60.09</td>\n      <td>13177</td>\n      <td>2010-04-13</td>\n      <td>59.605</td>\n      <td>4</td>\n      <td>13</td>\n    </tr>\n    <tr>\n      <th>122505</th>\n      <td>20100513</td>\n      <td>ZMH</td>\n      <td>60.97</td>\n      <td>61.20</td>\n      <td>60.650</td>\n      <td>60.65</td>\n      <td>10647</td>\n      <td>2010-05-13</td>\n      <td>60.925</td>\n      <td>5</td>\n      <td>13</td>\n    </tr>\n    <tr>\n      <th>122546</th>\n      <td>20100713</td>\n      <td>ZMH</td>\n      <td>56.38</td>\n      <td>57.57</td>\n      <td>56.380</td>\n      <td>56.92</td>\n      <td>21035</td>\n      <td>2010-07-13</td>\n      <td>56.975</td>\n      <td>7</td>\n      <td>13</td>\n    </tr>\n    <tr>\n      <th>122569</th>\n      <td>20100813</td>\n      <td>ZMH</td>\n      <td>51.72</td>\n      <td>51.90</td>\n      <td>51.380</td>\n      <td>51.44</td>\n      <td>14561</td>\n      <td>2010-08-13</td>\n      <td>51.640</td>\n      <td>8</td>\n      <td>13</td>\n    </tr>\n  </tbody>\n</table>\n<p>3510 rows × 11 columns</p>\n</div>"
     },
     "execution_count": 17,
     "metadata": {},
     "output_type": "execute_result"
    }
   ],
   "source": [
    "dataframe[\"Day_date\"] = dataframe[\"Date_normal\"].dt.day\n",
    "\n",
    "dataframe[dataframe[\"Day_date\"] == 13]"
   ],
   "metadata": {
    "collapsed": false
   }
  },
  {
   "cell_type": "markdown",
   "metadata": {
    "id": "hD1O45SNh7QY"
   },
   "source": [
    "4) Выявить столбцы содержащие минимальные и максимальные значения (если такие столбцы есть). ( , столбец с минимальным значением курса акций.)"
   ]
  },
  {
   "cell_type": "code",
   "execution_count": 35,
   "outputs": [
    {
     "data": {
      "text/plain": "               Date           Open           High            Low  \\\ncount  1.225740e+05  122574.000000  122574.000000  122574.000000   \nmean   2.009715e+07      42.595458      43.102243      42.054464   \nstd    4.496405e+03      42.909787      43.378185      42.397805   \nmin    2.009082e+07       1.360000       1.390000       1.000000   \n25%    2.009112e+07      21.810000      22.100000      21.500000   \n50%    2.010022e+07      35.130000      35.540000      34.690000   \n75%    2.010052e+07      51.840000      52.450000      51.230000   \nmax    2.010082e+07     627.840000     629.510000     624.240000   \n\n               Close        Volume     Daily_Mean     Month_date  \\\ncount  122574.000000  1.225740e+05  122574.000000  122574.000000   \nmean       42.601865  8.139507e+04      42.578354       6.487640   \nstd        42.900199  3.423884e+05      42.885455       3.417996   \nmin         1.350000  4.700000e+01       1.365000       1.000000   \n25%        21.810000  1.661150e+04      21.800000       4.000000   \n50%        35.130000  3.303500e+04      35.120000       6.000000   \n75%        51.870000  6.775600e+04      51.840000       9.000000   \nmax       626.750000  2.147484e+07     626.875000      12.000000   \n\n            Day_date  \ncount  122574.000000  \nmean       15.694519  \nstd         8.624995  \nmin         1.000000  \n25%         9.000000  \n50%        16.000000  \n75%        23.000000  \nmax        31.000000  ",
      "text/html": "<div>\n<style scoped>\n    .dataframe tbody tr th:only-of-type {\n        vertical-align: middle;\n    }\n\n    .dataframe tbody tr th {\n        vertical-align: top;\n    }\n\n    .dataframe thead th {\n        text-align: right;\n    }\n</style>\n<table border=\"1\" class=\"dataframe\">\n  <thead>\n    <tr style=\"text-align: right;\">\n      <th></th>\n      <th>Date</th>\n      <th>Open</th>\n      <th>High</th>\n      <th>Low</th>\n      <th>Close</th>\n      <th>Volume</th>\n      <th>Daily_Mean</th>\n      <th>Month_date</th>\n      <th>Day_date</th>\n    </tr>\n  </thead>\n  <tbody>\n    <tr>\n      <th>count</th>\n      <td>1.225740e+05</td>\n      <td>122574.000000</td>\n      <td>122574.000000</td>\n      <td>122574.000000</td>\n      <td>122574.000000</td>\n      <td>1.225740e+05</td>\n      <td>122574.000000</td>\n      <td>122574.000000</td>\n      <td>122574.000000</td>\n    </tr>\n    <tr>\n      <th>mean</th>\n      <td>2.009715e+07</td>\n      <td>42.595458</td>\n      <td>43.102243</td>\n      <td>42.054464</td>\n      <td>42.601865</td>\n      <td>8.139507e+04</td>\n      <td>42.578354</td>\n      <td>6.487640</td>\n      <td>15.694519</td>\n    </tr>\n    <tr>\n      <th>std</th>\n      <td>4.496405e+03</td>\n      <td>42.909787</td>\n      <td>43.378185</td>\n      <td>42.397805</td>\n      <td>42.900199</td>\n      <td>3.423884e+05</td>\n      <td>42.885455</td>\n      <td>3.417996</td>\n      <td>8.624995</td>\n    </tr>\n    <tr>\n      <th>min</th>\n      <td>2.009082e+07</td>\n      <td>1.360000</td>\n      <td>1.390000</td>\n      <td>1.000000</td>\n      <td>1.350000</td>\n      <td>4.700000e+01</td>\n      <td>1.365000</td>\n      <td>1.000000</td>\n      <td>1.000000</td>\n    </tr>\n    <tr>\n      <th>25%</th>\n      <td>2.009112e+07</td>\n      <td>21.810000</td>\n      <td>22.100000</td>\n      <td>21.500000</td>\n      <td>21.810000</td>\n      <td>1.661150e+04</td>\n      <td>21.800000</td>\n      <td>4.000000</td>\n      <td>9.000000</td>\n    </tr>\n    <tr>\n      <th>50%</th>\n      <td>2.010022e+07</td>\n      <td>35.130000</td>\n      <td>35.540000</td>\n      <td>34.690000</td>\n      <td>35.130000</td>\n      <td>3.303500e+04</td>\n      <td>35.120000</td>\n      <td>6.000000</td>\n      <td>16.000000</td>\n    </tr>\n    <tr>\n      <th>75%</th>\n      <td>2.010052e+07</td>\n      <td>51.840000</td>\n      <td>52.450000</td>\n      <td>51.230000</td>\n      <td>51.870000</td>\n      <td>6.775600e+04</td>\n      <td>51.840000</td>\n      <td>9.000000</td>\n      <td>23.000000</td>\n    </tr>\n    <tr>\n      <th>max</th>\n      <td>2.010082e+07</td>\n      <td>627.840000</td>\n      <td>629.510000</td>\n      <td>624.240000</td>\n      <td>626.750000</td>\n      <td>2.147484e+07</td>\n      <td>626.875000</td>\n      <td>12.000000</td>\n      <td>31.000000</td>\n    </tr>\n  </tbody>\n</table>\n</div>"
     },
     "execution_count": 35,
     "metadata": {},
     "output_type": "execute_result"
    }
   ],
   "source": [
    "\n",
    "dataframe.describe()\n",
    "\n",
    "\n"
   ],
   "metadata": {
    "collapsed": false
   }
  },
  {
   "cell_type": "markdown",
   "metadata": {
    "id": "a9CgyU_0h7QZ"
   },
   "source": [
    "5) По данным из 'sp500hst.txt' при помощи Pandas расчитать максимальные значения в 3-6 столбца для дат после 20100801\n",
    "\n"
   ]
  },
  {
   "cell_type": "code",
   "execution_count": 19,
   "outputs": [
    {
     "data": {
      "text/plain": "Open      505.85\nHigh       508.6\nLow      503.559\nClose      508.1\ndtype: object"
     },
     "execution_count": 19,
     "metadata": {},
     "output_type": "execute_result"
    }
   ],
   "source": [
    "max_match = dataframe[dataframe[\"Date_normal\"] > \"2010-08-01\"].max()\n",
    "\n",
    "max_match[[\"Open\", \"High\", \"Low\", \"Close\"]]"
   ],
   "metadata": {
    "collapsed": false
   }
  },
  {
   "cell_type": "code",
   "execution_count": 20,
   "outputs": [
    {
     "data": {
      "text/plain": "            Date Ticker   Open   High    Low  Close  Volume Date_normal  \\\n231     20100802      A  28.35  28.97  28.20  28.82   28989  2010-08-02   \n232     20100803      A  28.70  28.73  27.80  27.84   42401  2010-08-03   \n233     20100804      A  27.86  28.35  27.75  28.29   23525  2010-08-04   \n234     20100805      A  28.03  28.63  27.96  28.46   20682  2010-08-05   \n235     20100806      A  28.18  28.75  28.07  28.73   33777  2010-08-06   \n...          ...    ...    ...    ...    ...    ...     ...         ...   \n122569  20100813    ZMH  51.72  51.90  51.38  51.44   14561  2010-08-13   \n122570  20100816    ZMH  51.13  51.47  50.60  51.00   13489  2010-08-16   \n122571  20100817    ZMH  51.14  51.60  50.89  51.21   20498  2010-08-17   \n122572  20100819    ZMH  51.63  51.63  50.17  50.22   18259  2010-08-19   \n122573  20100820    ZMH  50.03  50.55  49.48  49.82   17792  2010-08-20   \n\n        Daily_Mean  Month_date  Day_date  \n231         28.585           8         2  \n232         28.265           8         3  \n233         28.050           8         4  \n234         28.295           8         5  \n235         28.410           8         6  \n...            ...         ...       ...  \n122569      51.640           8        13  \n122570      51.035           8        16  \n122571      51.245           8        17  \n122572      50.900           8        19  \n122573      50.015           8        20  \n\n[6951 rows x 11 columns]",
      "text/html": "<div>\n<style scoped>\n    .dataframe tbody tr th:only-of-type {\n        vertical-align: middle;\n    }\n\n    .dataframe tbody tr th {\n        vertical-align: top;\n    }\n\n    .dataframe thead th {\n        text-align: right;\n    }\n</style>\n<table border=\"1\" class=\"dataframe\">\n  <thead>\n    <tr style=\"text-align: right;\">\n      <th></th>\n      <th>Date</th>\n      <th>Ticker</th>\n      <th>Open</th>\n      <th>High</th>\n      <th>Low</th>\n      <th>Close</th>\n      <th>Volume</th>\n      <th>Date_normal</th>\n      <th>Daily_Mean</th>\n      <th>Month_date</th>\n      <th>Day_date</th>\n    </tr>\n  </thead>\n  <tbody>\n    <tr>\n      <th>231</th>\n      <td>20100802</td>\n      <td>A</td>\n      <td>28.35</td>\n      <td>28.97</td>\n      <td>28.20</td>\n      <td>28.82</td>\n      <td>28989</td>\n      <td>2010-08-02</td>\n      <td>28.585</td>\n      <td>8</td>\n      <td>2</td>\n    </tr>\n    <tr>\n      <th>232</th>\n      <td>20100803</td>\n      <td>A</td>\n      <td>28.70</td>\n      <td>28.73</td>\n      <td>27.80</td>\n      <td>27.84</td>\n      <td>42401</td>\n      <td>2010-08-03</td>\n      <td>28.265</td>\n      <td>8</td>\n      <td>3</td>\n    </tr>\n    <tr>\n      <th>233</th>\n      <td>20100804</td>\n      <td>A</td>\n      <td>27.86</td>\n      <td>28.35</td>\n      <td>27.75</td>\n      <td>28.29</td>\n      <td>23525</td>\n      <td>2010-08-04</td>\n      <td>28.050</td>\n      <td>8</td>\n      <td>4</td>\n    </tr>\n    <tr>\n      <th>234</th>\n      <td>20100805</td>\n      <td>A</td>\n      <td>28.03</td>\n      <td>28.63</td>\n      <td>27.96</td>\n      <td>28.46</td>\n      <td>20682</td>\n      <td>2010-08-05</td>\n      <td>28.295</td>\n      <td>8</td>\n      <td>5</td>\n    </tr>\n    <tr>\n      <th>235</th>\n      <td>20100806</td>\n      <td>A</td>\n      <td>28.18</td>\n      <td>28.75</td>\n      <td>28.07</td>\n      <td>28.73</td>\n      <td>33777</td>\n      <td>2010-08-06</td>\n      <td>28.410</td>\n      <td>8</td>\n      <td>6</td>\n    </tr>\n    <tr>\n      <th>...</th>\n      <td>...</td>\n      <td>...</td>\n      <td>...</td>\n      <td>...</td>\n      <td>...</td>\n      <td>...</td>\n      <td>...</td>\n      <td>...</td>\n      <td>...</td>\n      <td>...</td>\n      <td>...</td>\n    </tr>\n    <tr>\n      <th>122569</th>\n      <td>20100813</td>\n      <td>ZMH</td>\n      <td>51.72</td>\n      <td>51.90</td>\n      <td>51.38</td>\n      <td>51.44</td>\n      <td>14561</td>\n      <td>2010-08-13</td>\n      <td>51.640</td>\n      <td>8</td>\n      <td>13</td>\n    </tr>\n    <tr>\n      <th>122570</th>\n      <td>20100816</td>\n      <td>ZMH</td>\n      <td>51.13</td>\n      <td>51.47</td>\n      <td>50.60</td>\n      <td>51.00</td>\n      <td>13489</td>\n      <td>2010-08-16</td>\n      <td>51.035</td>\n      <td>8</td>\n      <td>16</td>\n    </tr>\n    <tr>\n      <th>122571</th>\n      <td>20100817</td>\n      <td>ZMH</td>\n      <td>51.14</td>\n      <td>51.60</td>\n      <td>50.89</td>\n      <td>51.21</td>\n      <td>20498</td>\n      <td>2010-08-17</td>\n      <td>51.245</td>\n      <td>8</td>\n      <td>17</td>\n    </tr>\n    <tr>\n      <th>122572</th>\n      <td>20100819</td>\n      <td>ZMH</td>\n      <td>51.63</td>\n      <td>51.63</td>\n      <td>50.17</td>\n      <td>50.22</td>\n      <td>18259</td>\n      <td>2010-08-19</td>\n      <td>50.900</td>\n      <td>8</td>\n      <td>19</td>\n    </tr>\n    <tr>\n      <th>122573</th>\n      <td>20100820</td>\n      <td>ZMH</td>\n      <td>50.03</td>\n      <td>50.55</td>\n      <td>49.48</td>\n      <td>49.82</td>\n      <td>17792</td>\n      <td>2010-08-20</td>\n      <td>50.015</td>\n      <td>8</td>\n      <td>20</td>\n    </tr>\n  </tbody>\n</table>\n<p>6951 rows × 11 columns</p>\n</div>"
     },
     "execution_count": 20,
     "metadata": {},
     "output_type": "execute_result"
    }
   ],
   "source": [
    "dataframe[dataframe[\"Date_normal\"] > \"2010-08-01\"]"
   ],
   "metadata": {
    "collapsed": false
   }
  },
  {
   "cell_type": "markdown",
   "source": [
    "6) По данным из 'sp500hst.txt' при помощи Pandas расчитать средний объем торгов (обеъм торгов - в последнем столбце) при значениях 3го столбца больше 50."
   ],
   "metadata": {
    "collapsed": false
   }
  },
  {
   "cell_type": "code",
   "execution_count": 21,
   "outputs": [
    {
     "data": {
      "text/plain": "Volume    36467.086646\ndtype: float64"
     },
     "execution_count": 21,
     "metadata": {},
     "output_type": "execute_result"
    }
   ],
   "source": [
    "mean_match = dataframe[dataframe[\"Open\"] > 50].mean(numeric_only=True)\n",
    "\n",
    "mean_match[[\"Volume\"]]\n"
   ],
   "metadata": {
    "collapsed": false
   }
  },
  {
   "cell_type": "markdown",
   "metadata": {
    "id": "zRijj-tYh7QZ"
   },
   "source": [
    "7) Добавить столбец с расшифровкой названия тикера используя данные из файла sp_data2.csv . В случае нехватки данных об именах тикеров корректно обработать их.\n",
    "\n"
   ]
  },
  {
   "cell_type": "code",
   "execution_count": 22,
   "outputs": [
    {
     "data": {
      "text/plain": "    Ticker      Ticker_name Percent\n0     AAPL            Apple    3.6%\n1     AMZN       Amazon.com    3.2%\n2    GOOGL         Alphabet    3.1%\n3     GOOG         Alphabet    3.1%\n4     MSFT        Microsoft    3.0%\n..     ...              ...     ...\n500    SCG            SCANA    0.0%\n501    AIZ         Assurant    0.0%\n502    AYI    Acuity Brands    0.0%\n503    HRB        H&R Block    0.0%\n504    RRC  Range Resources    0.0%\n\n[505 rows x 3 columns]",
      "text/html": "<div>\n<style scoped>\n    .dataframe tbody tr th:only-of-type {\n        vertical-align: middle;\n    }\n\n    .dataframe tbody tr th {\n        vertical-align: top;\n    }\n\n    .dataframe thead th {\n        text-align: right;\n    }\n</style>\n<table border=\"1\" class=\"dataframe\">\n  <thead>\n    <tr style=\"text-align: right;\">\n      <th></th>\n      <th>Ticker</th>\n      <th>Ticker_name</th>\n      <th>Percent</th>\n    </tr>\n  </thead>\n  <tbody>\n    <tr>\n      <th>0</th>\n      <td>AAPL</td>\n      <td>Apple</td>\n      <td>3.6%</td>\n    </tr>\n    <tr>\n      <th>1</th>\n      <td>AMZN</td>\n      <td>Amazon.com</td>\n      <td>3.2%</td>\n    </tr>\n    <tr>\n      <th>2</th>\n      <td>GOOGL</td>\n      <td>Alphabet</td>\n      <td>3.1%</td>\n    </tr>\n    <tr>\n      <th>3</th>\n      <td>GOOG</td>\n      <td>Alphabet</td>\n      <td>3.1%</td>\n    </tr>\n    <tr>\n      <th>4</th>\n      <td>MSFT</td>\n      <td>Microsoft</td>\n      <td>3.0%</td>\n    </tr>\n    <tr>\n      <th>...</th>\n      <td>...</td>\n      <td>...</td>\n      <td>...</td>\n    </tr>\n    <tr>\n      <th>500</th>\n      <td>SCG</td>\n      <td>SCANA</td>\n      <td>0.0%</td>\n    </tr>\n    <tr>\n      <th>501</th>\n      <td>AIZ</td>\n      <td>Assurant</td>\n      <td>0.0%</td>\n    </tr>\n    <tr>\n      <th>502</th>\n      <td>AYI</td>\n      <td>Acuity Brands</td>\n      <td>0.0%</td>\n    </tr>\n    <tr>\n      <th>503</th>\n      <td>HRB</td>\n      <td>H&amp;R Block</td>\n      <td>0.0%</td>\n    </tr>\n    <tr>\n      <th>504</th>\n      <td>RRC</td>\n      <td>Range Resources</td>\n      <td>0.0%</td>\n    </tr>\n  </tbody>\n</table>\n<p>505 rows × 3 columns</p>\n</div>"
     },
     "execution_count": 22,
     "metadata": {},
     "output_type": "execute_result"
    }
   ],
   "source": [
    "sp_data2_dataframe = pd.read_csv(\"./data/sp_data2.csv\", delimiter=\";\", names=[\"Ticker\", \"Ticker_name\", \"Percent\"])\n",
    "\n",
    "sp_data2_dataframe"
   ],
   "metadata": {
    "collapsed": false
   }
  },
  {
   "cell_type": "code",
   "execution_count": 23,
   "outputs": [
    {
     "data": {
      "text/plain": "           Date Ticker   Open     High     Low  Close  Volume Date_normal  \\\n0      20090821      A  25.60  25.6100  25.220  25.55   34758  2009-08-21   \n1      20090824      A  25.64  25.7400  25.330  25.50   22247  2009-08-24   \n2      20090825      A  25.50  25.7000  25.225  25.34   30891  2009-08-25   \n3      20090826      A  25.32  25.6425  25.145  25.48   33334  2009-08-26   \n4      20090827      A  25.50  25.5700  25.230  25.54   70176  2009-08-27   \n...         ...    ...    ...      ...     ...    ...     ...         ...   \n82167  20100813   ZION  20.17  20.4300  19.840  19.89   25193  2010-08-13   \n82168  20100816   ZION  19.81  19.9600  19.600  19.95   25914  2010-08-16   \n82169  20100817   ZION  20.07  20.4700  19.830  20.31   31717  2010-08-17   \n82170  20100819   ZION  19.83  20.0000  19.130  19.35   45935  2010-08-19   \n82171  20100820   ZION  19.15  19.2700  18.810  19.14   37225  2010-08-20   \n\n       Daily_Mean  Month_date  Day_date           Ticker_name Percent  \n0        25.41500           8        21  Agilent Technologies    0.1%  \n1        25.53500           8        24  Agilent Technologies    0.1%  \n2        25.46250           8        25  Agilent Technologies    0.1%  \n3        25.39375           8        26  Agilent Technologies    0.1%  \n4        25.40000           8        27  Agilent Technologies    0.1%  \n...           ...         ...       ...                   ...     ...  \n82167    20.13500           8        13         Zions Bancorp    0.0%  \n82168    19.78000           8        16         Zions Bancorp    0.0%  \n82169    20.15000           8        17         Zions Bancorp    0.0%  \n82170    19.56500           8        19         Zions Bancorp    0.0%  \n82171    19.04000           8        20         Zions Bancorp    0.0%  \n\n[82172 rows x 13 columns]",
      "text/html": "<div>\n<style scoped>\n    .dataframe tbody tr th:only-of-type {\n        vertical-align: middle;\n    }\n\n    .dataframe tbody tr th {\n        vertical-align: top;\n    }\n\n    .dataframe thead th {\n        text-align: right;\n    }\n</style>\n<table border=\"1\" class=\"dataframe\">\n  <thead>\n    <tr style=\"text-align: right;\">\n      <th></th>\n      <th>Date</th>\n      <th>Ticker</th>\n      <th>Open</th>\n      <th>High</th>\n      <th>Low</th>\n      <th>Close</th>\n      <th>Volume</th>\n      <th>Date_normal</th>\n      <th>Daily_Mean</th>\n      <th>Month_date</th>\n      <th>Day_date</th>\n      <th>Ticker_name</th>\n      <th>Percent</th>\n    </tr>\n  </thead>\n  <tbody>\n    <tr>\n      <th>0</th>\n      <td>20090821</td>\n      <td>A</td>\n      <td>25.60</td>\n      <td>25.6100</td>\n      <td>25.220</td>\n      <td>25.55</td>\n      <td>34758</td>\n      <td>2009-08-21</td>\n      <td>25.41500</td>\n      <td>8</td>\n      <td>21</td>\n      <td>Agilent Technologies</td>\n      <td>0.1%</td>\n    </tr>\n    <tr>\n      <th>1</th>\n      <td>20090824</td>\n      <td>A</td>\n      <td>25.64</td>\n      <td>25.7400</td>\n      <td>25.330</td>\n      <td>25.50</td>\n      <td>22247</td>\n      <td>2009-08-24</td>\n      <td>25.53500</td>\n      <td>8</td>\n      <td>24</td>\n      <td>Agilent Technologies</td>\n      <td>0.1%</td>\n    </tr>\n    <tr>\n      <th>2</th>\n      <td>20090825</td>\n      <td>A</td>\n      <td>25.50</td>\n      <td>25.7000</td>\n      <td>25.225</td>\n      <td>25.34</td>\n      <td>30891</td>\n      <td>2009-08-25</td>\n      <td>25.46250</td>\n      <td>8</td>\n      <td>25</td>\n      <td>Agilent Technologies</td>\n      <td>0.1%</td>\n    </tr>\n    <tr>\n      <th>3</th>\n      <td>20090826</td>\n      <td>A</td>\n      <td>25.32</td>\n      <td>25.6425</td>\n      <td>25.145</td>\n      <td>25.48</td>\n      <td>33334</td>\n      <td>2009-08-26</td>\n      <td>25.39375</td>\n      <td>8</td>\n      <td>26</td>\n      <td>Agilent Technologies</td>\n      <td>0.1%</td>\n    </tr>\n    <tr>\n      <th>4</th>\n      <td>20090827</td>\n      <td>A</td>\n      <td>25.50</td>\n      <td>25.5700</td>\n      <td>25.230</td>\n      <td>25.54</td>\n      <td>70176</td>\n      <td>2009-08-27</td>\n      <td>25.40000</td>\n      <td>8</td>\n      <td>27</td>\n      <td>Agilent Technologies</td>\n      <td>0.1%</td>\n    </tr>\n    <tr>\n      <th>...</th>\n      <td>...</td>\n      <td>...</td>\n      <td>...</td>\n      <td>...</td>\n      <td>...</td>\n      <td>...</td>\n      <td>...</td>\n      <td>...</td>\n      <td>...</td>\n      <td>...</td>\n      <td>...</td>\n      <td>...</td>\n      <td>...</td>\n    </tr>\n    <tr>\n      <th>82167</th>\n      <td>20100813</td>\n      <td>ZION</td>\n      <td>20.17</td>\n      <td>20.4300</td>\n      <td>19.840</td>\n      <td>19.89</td>\n      <td>25193</td>\n      <td>2010-08-13</td>\n      <td>20.13500</td>\n      <td>8</td>\n      <td>13</td>\n      <td>Zions Bancorp</td>\n      <td>0.0%</td>\n    </tr>\n    <tr>\n      <th>82168</th>\n      <td>20100816</td>\n      <td>ZION</td>\n      <td>19.81</td>\n      <td>19.9600</td>\n      <td>19.600</td>\n      <td>19.95</td>\n      <td>25914</td>\n      <td>2010-08-16</td>\n      <td>19.78000</td>\n      <td>8</td>\n      <td>16</td>\n      <td>Zions Bancorp</td>\n      <td>0.0%</td>\n    </tr>\n    <tr>\n      <th>82169</th>\n      <td>20100817</td>\n      <td>ZION</td>\n      <td>20.07</td>\n      <td>20.4700</td>\n      <td>19.830</td>\n      <td>20.31</td>\n      <td>31717</td>\n      <td>2010-08-17</td>\n      <td>20.15000</td>\n      <td>8</td>\n      <td>17</td>\n      <td>Zions Bancorp</td>\n      <td>0.0%</td>\n    </tr>\n    <tr>\n      <th>82170</th>\n      <td>20100819</td>\n      <td>ZION</td>\n      <td>19.83</td>\n      <td>20.0000</td>\n      <td>19.130</td>\n      <td>19.35</td>\n      <td>45935</td>\n      <td>2010-08-19</td>\n      <td>19.56500</td>\n      <td>8</td>\n      <td>19</td>\n      <td>Zions Bancorp</td>\n      <td>0.0%</td>\n    </tr>\n    <tr>\n      <th>82171</th>\n      <td>20100820</td>\n      <td>ZION</td>\n      <td>19.15</td>\n      <td>19.2700</td>\n      <td>18.810</td>\n      <td>19.14</td>\n      <td>37225</td>\n      <td>2010-08-20</td>\n      <td>19.04000</td>\n      <td>8</td>\n      <td>20</td>\n      <td>Zions Bancorp</td>\n      <td>0.0%</td>\n    </tr>\n  </tbody>\n</table>\n<p>82172 rows × 13 columns</p>\n</div>"
     },
     "execution_count": 23,
     "metadata": {},
     "output_type": "execute_result"
    }
   ],
   "source": [
    "dataframe_full = pd.merge(dataframe, sp_data2_dataframe, on=\"Ticker\")\n",
    "\n",
    "dataframe_full\n"
   ],
   "metadata": {
    "collapsed": false
   }
  },
  {
   "cell_type": "markdown",
   "source": [
    "8) Вывести тикеры, для которых не были найдены рсшифровки."
   ],
   "metadata": {
    "collapsed": false
   }
  },
  {
   "cell_type": "code",
   "execution_count": 24,
   "outputs": [
    {
     "data": {
      "text/plain": "Series([], Name: Ticker, dtype: object)"
     },
     "execution_count": 24,
     "metadata": {},
     "output_type": "execute_result"
    }
   ],
   "source": [
    "dataframe_full[\"Ticker\"][dataframe_full[\"Ticker_name\"].isnull()]"
   ],
   "metadata": {
    "collapsed": false
   }
  },
  {
   "cell_type": "markdown",
   "metadata": {
    "id": "qmxQg5tJh7Qa"
   },
   "source": [
    "9) Рассчитать суммарный объем торгов (столбец 7) для для одинаковых значений (тикеров) из столбца 2\n",
    "\n",
    "\n",
    "\n"
   ]
  },
  {
   "cell_type": "code",
   "execution_count": 25,
   "outputs": [
    {
     "data": {
      "text/plain": "Ticker\nA        8609336\nAAPL    52261170\nABC      9006756\nABT     18975870\nADBE    17422423\n          ...   \nXOM     66633788\nXRAY     2709860\nXRX     41236860\nYUM     10971538\nZION    15551119\nName: Volume, Length: 342, dtype: int64"
     },
     "execution_count": 25,
     "metadata": {},
     "output_type": "execute_result"
    }
   ],
   "source": [
    "dataframe_full.groupby(\"Ticker\")[\"Volume\"].sum()"
   ],
   "metadata": {
    "collapsed": false
   }
  },
  {
   "cell_type": "markdown",
   "source": [
    "9.2) Для каждого тикера подсчитать, сколько раз он встречается.\n",
    "\n"
   ],
   "metadata": {
    "collapsed": false
   }
  },
  {
   "cell_type": "code",
   "execution_count": 26,
   "outputs": [
    {
     "data": {
      "text/plain": "Ticker\nA       245\nAAPL    241\nABC     245\nABT     245\nADBE    243\n       ... \nXOM     245\nXRAY    239\nXRX     245\nYUM     245\nZION    244\nName: Ticker, Length: 342, dtype: int64"
     },
     "execution_count": 26,
     "metadata": {},
     "output_type": "execute_result"
    }
   ],
   "source": [
    "dataframe_full.groupby(\"Ticker\")[\"Ticker\"].count()"
   ],
   "metadata": {
    "collapsed": false
   }
  },
  {
   "cell_type": "markdown",
   "source": [
    "10) Расчитать среднее значение показателей для каждого из столбцов 3-6 для одинаковых значений (тикеров) из столбца 2 и сохранить в новом DataFrame\n",
    "\n"
   ],
   "metadata": {
    "collapsed": false
   }
  },
  {
   "cell_type": "code",
   "execution_count": 27,
   "outputs": [
    {
     "data": {
      "text/plain": "              Open        High         Low       Close\nTicker                                                \nA        30.234857   30.567838   29.866467   30.246143\nAAPL    221.342427  223.556147  218.409411  221.125341\nABC      27.432122   27.683660   27.126983   27.429347\nABT      50.996776   51.365541   50.555472   50.986490\nADBE     33.357181   33.741407   32.936090   33.352469\n...            ...         ...         ...         ...\nXOM      66.675041   67.140401   66.092481   66.622347\nXRAY     33.630628   33.958713   33.295432   33.650335\nXRX       8.978078    9.109051    8.832747    8.978173\nYUM      37.456898   37.816882   37.094593   37.479633\nZION     19.694057   20.171136   19.226905   19.702861\n\n[342 rows x 4 columns]",
      "text/html": "<div>\n<style scoped>\n    .dataframe tbody tr th:only-of-type {\n        vertical-align: middle;\n    }\n\n    .dataframe tbody tr th {\n        vertical-align: top;\n    }\n\n    .dataframe thead th {\n        text-align: right;\n    }\n</style>\n<table border=\"1\" class=\"dataframe\">\n  <thead>\n    <tr style=\"text-align: right;\">\n      <th></th>\n      <th>Open</th>\n      <th>High</th>\n      <th>Low</th>\n      <th>Close</th>\n    </tr>\n    <tr>\n      <th>Ticker</th>\n      <th></th>\n      <th></th>\n      <th></th>\n      <th></th>\n    </tr>\n  </thead>\n  <tbody>\n    <tr>\n      <th>A</th>\n      <td>30.234857</td>\n      <td>30.567838</td>\n      <td>29.866467</td>\n      <td>30.246143</td>\n    </tr>\n    <tr>\n      <th>AAPL</th>\n      <td>221.342427</td>\n      <td>223.556147</td>\n      <td>218.409411</td>\n      <td>221.125341</td>\n    </tr>\n    <tr>\n      <th>ABC</th>\n      <td>27.432122</td>\n      <td>27.683660</td>\n      <td>27.126983</td>\n      <td>27.429347</td>\n    </tr>\n    <tr>\n      <th>ABT</th>\n      <td>50.996776</td>\n      <td>51.365541</td>\n      <td>50.555472</td>\n      <td>50.986490</td>\n    </tr>\n    <tr>\n      <th>ADBE</th>\n      <td>33.357181</td>\n      <td>33.741407</td>\n      <td>32.936090</td>\n      <td>33.352469</td>\n    </tr>\n    <tr>\n      <th>...</th>\n      <td>...</td>\n      <td>...</td>\n      <td>...</td>\n      <td>...</td>\n    </tr>\n    <tr>\n      <th>XOM</th>\n      <td>66.675041</td>\n      <td>67.140401</td>\n      <td>66.092481</td>\n      <td>66.622347</td>\n    </tr>\n    <tr>\n      <th>XRAY</th>\n      <td>33.630628</td>\n      <td>33.958713</td>\n      <td>33.295432</td>\n      <td>33.650335</td>\n    </tr>\n    <tr>\n      <th>XRX</th>\n      <td>8.978078</td>\n      <td>9.109051</td>\n      <td>8.832747</td>\n      <td>8.978173</td>\n    </tr>\n    <tr>\n      <th>YUM</th>\n      <td>37.456898</td>\n      <td>37.816882</td>\n      <td>37.094593</td>\n      <td>37.479633</td>\n    </tr>\n    <tr>\n      <th>ZION</th>\n      <td>19.694057</td>\n      <td>20.171136</td>\n      <td>19.226905</td>\n      <td>19.702861</td>\n    </tr>\n  </tbody>\n</table>\n<p>342 rows × 4 columns</p>\n</div>"
     },
     "execution_count": 27,
     "metadata": {},
     "output_type": "execute_result"
    }
   ],
   "source": [
    "dataframe_full_copy = dataframe_full.copy()\n",
    "dataframe_full_copy = dataframe_full_copy.groupby(\"Ticker\")[[\"Open\", \"High\", \"Low\", \"Close\"]].mean()\n",
    "dataframe_full_copy"
   ],
   "metadata": {
    "collapsed": false
   }
  },
  {
   "cell_type": "markdown",
   "source": [
    "11) Добавить в DataFrame новый столбец, содержащий объем торгов (столбец 7), нормированный по среднему значению объема торгов для данного тикера."
   ],
   "metadata": {
    "collapsed": false
   }
  },
  {
   "cell_type": "code",
   "execution_count": 28,
   "outputs": [
    {
     "data": {
      "text/plain": "           Date Ticker   Open     High     Low  Close  Volume Date_normal  \\\n0      20090821      A  25.60  25.6100  25.220  25.55   34758  2009-08-21   \n1      20090824      A  25.64  25.7400  25.330  25.50   22247  2009-08-24   \n2      20090825      A  25.50  25.7000  25.225  25.34   30891  2009-08-25   \n3      20090826      A  25.32  25.6425  25.145  25.48   33334  2009-08-26   \n4      20090827      A  25.50  25.5700  25.230  25.54   70176  2009-08-27   \n...         ...    ...    ...      ...     ...    ...     ...         ...   \n82167  20100813   ZION  20.17  20.4300  19.840  19.89   25193  2010-08-13   \n82168  20100816   ZION  19.81  19.9600  19.600  19.95   25914  2010-08-16   \n82169  20100817   ZION  20.07  20.4700  19.830  20.31   31717  2010-08-17   \n82170  20100819   ZION  19.83  20.0000  19.130  19.35   45935  2010-08-19   \n82171  20100820   ZION  19.15  19.2700  18.810  19.14   37225  2010-08-20   \n\n       Daily_Mean  Month_date  Day_date           Ticker_name Percent  \\\n0        25.41500           8        21  Agilent Technologies    0.1%   \n1        25.53500           8        24  Agilent Technologies    0.1%   \n2        25.46250           8        25  Agilent Technologies    0.1%   \n3        25.39375           8        26  Agilent Technologies    0.1%   \n4        25.40000           8        27  Agilent Technologies    0.1%   \n...           ...         ...       ...                   ...     ...   \n82167    20.13500           8        13         Zions Bancorp    0.0%   \n82168    19.78000           8        16         Zions Bancorp    0.0%   \n82169    20.15000           8        17         Zions Bancorp    0.0%   \n82170    19.56500           8        19         Zions Bancorp    0.0%   \n82171    19.04000           8        20         Zions Bancorp    0.0%   \n\n       Volume_normalized  \n0            -382.146939  \n1          -12893.146939  \n2           -4249.146939  \n3           -1806.146939  \n4           35035.853061  \n...                  ...  \n82167      -38541.094262  \n82168      -37820.094262  \n82169      -32017.094262  \n82170      -17799.094262  \n82171      -26509.094262  \n\n[82172 rows x 14 columns]",
      "text/html": "<div>\n<style scoped>\n    .dataframe tbody tr th:only-of-type {\n        vertical-align: middle;\n    }\n\n    .dataframe tbody tr th {\n        vertical-align: top;\n    }\n\n    .dataframe thead th {\n        text-align: right;\n    }\n</style>\n<table border=\"1\" class=\"dataframe\">\n  <thead>\n    <tr style=\"text-align: right;\">\n      <th></th>\n      <th>Date</th>\n      <th>Ticker</th>\n      <th>Open</th>\n      <th>High</th>\n      <th>Low</th>\n      <th>Close</th>\n      <th>Volume</th>\n      <th>Date_normal</th>\n      <th>Daily_Mean</th>\n      <th>Month_date</th>\n      <th>Day_date</th>\n      <th>Ticker_name</th>\n      <th>Percent</th>\n      <th>Volume_normalized</th>\n    </tr>\n  </thead>\n  <tbody>\n    <tr>\n      <th>0</th>\n      <td>20090821</td>\n      <td>A</td>\n      <td>25.60</td>\n      <td>25.6100</td>\n      <td>25.220</td>\n      <td>25.55</td>\n      <td>34758</td>\n      <td>2009-08-21</td>\n      <td>25.41500</td>\n      <td>8</td>\n      <td>21</td>\n      <td>Agilent Technologies</td>\n      <td>0.1%</td>\n      <td>-382.146939</td>\n    </tr>\n    <tr>\n      <th>1</th>\n      <td>20090824</td>\n      <td>A</td>\n      <td>25.64</td>\n      <td>25.7400</td>\n      <td>25.330</td>\n      <td>25.50</td>\n      <td>22247</td>\n      <td>2009-08-24</td>\n      <td>25.53500</td>\n      <td>8</td>\n      <td>24</td>\n      <td>Agilent Technologies</td>\n      <td>0.1%</td>\n      <td>-12893.146939</td>\n    </tr>\n    <tr>\n      <th>2</th>\n      <td>20090825</td>\n      <td>A</td>\n      <td>25.50</td>\n      <td>25.7000</td>\n      <td>25.225</td>\n      <td>25.34</td>\n      <td>30891</td>\n      <td>2009-08-25</td>\n      <td>25.46250</td>\n      <td>8</td>\n      <td>25</td>\n      <td>Agilent Technologies</td>\n      <td>0.1%</td>\n      <td>-4249.146939</td>\n    </tr>\n    <tr>\n      <th>3</th>\n      <td>20090826</td>\n      <td>A</td>\n      <td>25.32</td>\n      <td>25.6425</td>\n      <td>25.145</td>\n      <td>25.48</td>\n      <td>33334</td>\n      <td>2009-08-26</td>\n      <td>25.39375</td>\n      <td>8</td>\n      <td>26</td>\n      <td>Agilent Technologies</td>\n      <td>0.1%</td>\n      <td>-1806.146939</td>\n    </tr>\n    <tr>\n      <th>4</th>\n      <td>20090827</td>\n      <td>A</td>\n      <td>25.50</td>\n      <td>25.5700</td>\n      <td>25.230</td>\n      <td>25.54</td>\n      <td>70176</td>\n      <td>2009-08-27</td>\n      <td>25.40000</td>\n      <td>8</td>\n      <td>27</td>\n      <td>Agilent Technologies</td>\n      <td>0.1%</td>\n      <td>35035.853061</td>\n    </tr>\n    <tr>\n      <th>...</th>\n      <td>...</td>\n      <td>...</td>\n      <td>...</td>\n      <td>...</td>\n      <td>...</td>\n      <td>...</td>\n      <td>...</td>\n      <td>...</td>\n      <td>...</td>\n      <td>...</td>\n      <td>...</td>\n      <td>...</td>\n      <td>...</td>\n      <td>...</td>\n    </tr>\n    <tr>\n      <th>82167</th>\n      <td>20100813</td>\n      <td>ZION</td>\n      <td>20.17</td>\n      <td>20.4300</td>\n      <td>19.840</td>\n      <td>19.89</td>\n      <td>25193</td>\n      <td>2010-08-13</td>\n      <td>20.13500</td>\n      <td>8</td>\n      <td>13</td>\n      <td>Zions Bancorp</td>\n      <td>0.0%</td>\n      <td>-38541.094262</td>\n    </tr>\n    <tr>\n      <th>82168</th>\n      <td>20100816</td>\n      <td>ZION</td>\n      <td>19.81</td>\n      <td>19.9600</td>\n      <td>19.600</td>\n      <td>19.95</td>\n      <td>25914</td>\n      <td>2010-08-16</td>\n      <td>19.78000</td>\n      <td>8</td>\n      <td>16</td>\n      <td>Zions Bancorp</td>\n      <td>0.0%</td>\n      <td>-37820.094262</td>\n    </tr>\n    <tr>\n      <th>82169</th>\n      <td>20100817</td>\n      <td>ZION</td>\n      <td>20.07</td>\n      <td>20.4700</td>\n      <td>19.830</td>\n      <td>20.31</td>\n      <td>31717</td>\n      <td>2010-08-17</td>\n      <td>20.15000</td>\n      <td>8</td>\n      <td>17</td>\n      <td>Zions Bancorp</td>\n      <td>0.0%</td>\n      <td>-32017.094262</td>\n    </tr>\n    <tr>\n      <th>82170</th>\n      <td>20100819</td>\n      <td>ZION</td>\n      <td>19.83</td>\n      <td>20.0000</td>\n      <td>19.130</td>\n      <td>19.35</td>\n      <td>45935</td>\n      <td>2010-08-19</td>\n      <td>19.56500</td>\n      <td>8</td>\n      <td>19</td>\n      <td>Zions Bancorp</td>\n      <td>0.0%</td>\n      <td>-17799.094262</td>\n    </tr>\n    <tr>\n      <th>82171</th>\n      <td>20100820</td>\n      <td>ZION</td>\n      <td>19.15</td>\n      <td>19.2700</td>\n      <td>18.810</td>\n      <td>19.14</td>\n      <td>37225</td>\n      <td>2010-08-20</td>\n      <td>19.04000</td>\n      <td>8</td>\n      <td>20</td>\n      <td>Zions Bancorp</td>\n      <td>0.0%</td>\n      <td>-26509.094262</td>\n    </tr>\n  </tbody>\n</table>\n<p>82172 rows × 14 columns</p>\n</div>"
     },
     "execution_count": 28,
     "metadata": {},
     "output_type": "execute_result"
    }
   ],
   "source": [
    "dataframe_full[\"Volume_normalized\"] = dataframe_full.groupby('Ticker')[\"Volume\"].transform(lambda x: x - x.mean())\n",
    "\n",
    "dataframe_full"
   ],
   "metadata": {
    "collapsed": false
   }
  },
  {
   "cell_type": "code",
   "execution_count": 28,
   "outputs": [],
   "source": [],
   "metadata": {
    "collapsed": false
   }
  }
 ],
 "metadata": {
  "kernelspec": {
   "display_name": "Python 3",
   "language": "python",
   "name": "python3"
  },
  "language_info": {
   "codemirror_mode": {
    "name": "ipython",
    "version": 3
   },
   "file_extension": ".py",
   "mimetype": "text/x-python",
   "name": "python",
   "nbconvert_exporter": "python",
   "pygments_lexer": "ipython3",
   "version": "3.7.6"
  },
  "colab": {
   "provenance": []
  }
 },
 "nbformat": 4,
 "nbformat_minor": 0
}
