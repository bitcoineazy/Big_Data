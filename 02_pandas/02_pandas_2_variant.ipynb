{
 "cells": [
  {
   "cell_type": "markdown",
   "metadata": {
    "id": "1B_DUB07xHIt"
   },
   "source": [
    "# Pandas"
   ]
  },
  {
   "cell_type": "markdown",
   "metadata": {
    "id": "ovEHapEkxHIx"
   },
   "source": [
    "Материалы:\n",
    "* Макрушин С.В. \"Лекция 2: Библиотека Pandas\"\n",
    "* https://pandas.pydata.org/docs/user_guide/index.html#\n",
    "* https://pandas.pydata.org/docs/reference/index.html\n",
    "* Уэс Маккини. Python и анализ данных"
   ]
  },
  {
   "cell_type": "markdown",
   "metadata": {
    "id": "iuoFPHt4xHIz"
   },
   "source": [
    "## Задачи для совместного разбора"
   ]
  },
  {
   "cell_type": "markdown",
   "metadata": {
    "id": "0AE8SmPxxHI0"
   },
   "source": [
    "1. Загрузите данные из файла `sp500hst.txt` и обозначьте столбцы в соответствии с содержимым: `\"date\", \"ticker\", \"open\", \"high\", \"low\", \"close\", \"volume\"`."
   ]
  },
  {
   "cell_type": "markdown",
   "metadata": {
    "id": "0ZTE0fzFxHI0"
   },
   "source": [
    "2. Рассчитайте среднее значение показателей для каждого из столбцов c номерами 3-6."
   ]
  },
  {
   "cell_type": "markdown",
   "metadata": {
    "id": "Z2aS6kb9xHI1"
   },
   "source": [
    "3. Добавьте столбец, содержащий только число месяца, к которому относится дата."
   ]
  },
  {
   "cell_type": "markdown",
   "metadata": {
    "id": "f5yGiEHtxHI1"
   },
   "source": [
    "4. Рассчитайте суммарный объем торгов для для одинаковых значений тикеров."
   ]
  },
  {
   "cell_type": "markdown",
   "metadata": {
    "id": "1FoiGkb3xHI2"
   },
   "source": [
    "5. Загрузите данные из файла sp500hst.txt и обозначьте столбцы в соответствии с содержимым: \"date\", \"ticker\", \"open\", \"high\", \"low\", \"close\", \"volume\". Добавьте столбец с расшифровкой названия тикера, используя данные из файла `sp_data2.csv` . В случае нехватки данных об именах тикеров корректно обработать их."
   ]
  },
  {
   "cell_type": "markdown",
   "metadata": {
    "id": "lgKfLUdPxHI3"
   },
   "source": [
    "## Лабораторная работа №2"
   ]
  },
  {
   "cell_type": "markdown",
   "metadata": {
    "id": "DvYusCHixHI4"
   },
   "source": [
    "### Базовые операции с `DataFrame`"
   ]
  },
  {
   "cell_type": "markdown",
   "metadata": {
    "id": "GglzaQjPxHI5"
   },
   "source": [
    "1.1 В файлах `recipes_sample.csv` и `reviews_sample.csv` находится информация об рецептах блюд и отзывах на эти рецепты соответственно. Загрузите данные из файлов в виде `pd.DataFrame` с названиями `recipes` и `reviews`. Обратите внимание на корректное считывание столбца с индексами в таблице `reviews` (безымянный столбец)."
   ]
  },
  {
   "cell_type": "code",
   "source": [
    "import pandas as pd\n",
    "\n",
    "pd.set_option('display.float_format', lambda x: '%.5f' % x) # отображать exp формат в float"
   ],
   "metadata": {
    "id": "iJcCe5RKxlb6"
   },
   "execution_count": 1,
   "outputs": []
  },
  {
   "cell_type": "code",
   "source": [
    "recipes = pd.read_csv(\"./data/recipes_sample.csv\")\n",
    "\n",
    "recipes"
   ],
   "metadata": {
    "colab": {
     "base_uri": "https://localhost:8080/",
     "height": 424
    },
    "id": "NeIPEMNrxoi7",
    "outputId": "55b918fe-fad3-4de7-f7d5-8e45d45f9cca"
   },
   "execution_count": 2,
   "outputs": [
    {
     "data": {
      "text/plain": "                                               name      id  minutes  \\\n0             george s at the cove  black bean soup   44123       90   \n1                healthy for them  yogurt popsicles   67664       10   \n2                      i can t believe it s spinach   38798       30   \n3                              italian  gut busters   35173       45   \n4          love is in the air  beef fondue   sauces   84797       25   \n...                                             ...     ...      ...   \n29995  zurie s holey rustic olive and cheddar bread  267661       80   \n29996          zwetschgenkuchen  bavarian plum cake  386977      240   \n29997   zwiebelkuchen   southwest german onion cake  103312       75   \n29998                                   zydeco soup  486161       60   \n29999        cookies by design   cookies on a stick  298512       29   \n\n       contributor_id   submitted  n_steps  \\\n0               35193  2002-10-25      NaN   \n1               91970  2003-07-26      NaN   \n2                1533  2002-08-29      NaN   \n3               22724  2002-07-27      NaN   \n4                4470  2004-02-23  4.00000   \n...               ...         ...      ...   \n29995          200862  2007-11-25 16.00000   \n29996          177443  2009-08-24      NaN   \n29997          161745  2004-11-03      NaN   \n29998          227978  2012-08-29      NaN   \n29999          506822  2008-04-15  9.00000   \n\n                                             description  n_ingredients  \n0      an original recipe created by chef scott meska...       18.00000  \n1      my children and their friends ask for my homem...            NaN  \n2                these were so go, it surprised even me.        8.00000  \n3      my sister-in-law made these for us at a family...            NaN  \n4      i think a fondue is a very romantic casual din...            NaN  \n...                                                  ...            ...  \n29995  this is based on a french recipe but i changed...       10.00000  \n29996  this is a traditional fresh plum cake, thought...       11.00000  \n29997  this is a traditional late summer early fall s...            NaN  \n29998  this is a delicious soup that i originally fou...            NaN  \n29999  i've heard of the 'cookies by design' company,...       10.00000  \n\n[30000 rows x 8 columns]",
      "text/html": "<div>\n<style scoped>\n    .dataframe tbody tr th:only-of-type {\n        vertical-align: middle;\n    }\n\n    .dataframe tbody tr th {\n        vertical-align: top;\n    }\n\n    .dataframe thead th {\n        text-align: right;\n    }\n</style>\n<table border=\"1\" class=\"dataframe\">\n  <thead>\n    <tr style=\"text-align: right;\">\n      <th></th>\n      <th>name</th>\n      <th>id</th>\n      <th>minutes</th>\n      <th>contributor_id</th>\n      <th>submitted</th>\n      <th>n_steps</th>\n      <th>description</th>\n      <th>n_ingredients</th>\n    </tr>\n  </thead>\n  <tbody>\n    <tr>\n      <th>0</th>\n      <td>george s at the cove  black bean soup</td>\n      <td>44123</td>\n      <td>90</td>\n      <td>35193</td>\n      <td>2002-10-25</td>\n      <td>NaN</td>\n      <td>an original recipe created by chef scott meska...</td>\n      <td>18.00000</td>\n    </tr>\n    <tr>\n      <th>1</th>\n      <td>healthy for them  yogurt popsicles</td>\n      <td>67664</td>\n      <td>10</td>\n      <td>91970</td>\n      <td>2003-07-26</td>\n      <td>NaN</td>\n      <td>my children and their friends ask for my homem...</td>\n      <td>NaN</td>\n    </tr>\n    <tr>\n      <th>2</th>\n      <td>i can t believe it s spinach</td>\n      <td>38798</td>\n      <td>30</td>\n      <td>1533</td>\n      <td>2002-08-29</td>\n      <td>NaN</td>\n      <td>these were so go, it surprised even me.</td>\n      <td>8.00000</td>\n    </tr>\n    <tr>\n      <th>3</th>\n      <td>italian  gut busters</td>\n      <td>35173</td>\n      <td>45</td>\n      <td>22724</td>\n      <td>2002-07-27</td>\n      <td>NaN</td>\n      <td>my sister-in-law made these for us at a family...</td>\n      <td>NaN</td>\n    </tr>\n    <tr>\n      <th>4</th>\n      <td>love is in the air  beef fondue   sauces</td>\n      <td>84797</td>\n      <td>25</td>\n      <td>4470</td>\n      <td>2004-02-23</td>\n      <td>4.00000</td>\n      <td>i think a fondue is a very romantic casual din...</td>\n      <td>NaN</td>\n    </tr>\n    <tr>\n      <th>...</th>\n      <td>...</td>\n      <td>...</td>\n      <td>...</td>\n      <td>...</td>\n      <td>...</td>\n      <td>...</td>\n      <td>...</td>\n      <td>...</td>\n    </tr>\n    <tr>\n      <th>29995</th>\n      <td>zurie s holey rustic olive and cheddar bread</td>\n      <td>267661</td>\n      <td>80</td>\n      <td>200862</td>\n      <td>2007-11-25</td>\n      <td>16.00000</td>\n      <td>this is based on a french recipe but i changed...</td>\n      <td>10.00000</td>\n    </tr>\n    <tr>\n      <th>29996</th>\n      <td>zwetschgenkuchen  bavarian plum cake</td>\n      <td>386977</td>\n      <td>240</td>\n      <td>177443</td>\n      <td>2009-08-24</td>\n      <td>NaN</td>\n      <td>this is a traditional fresh plum cake, thought...</td>\n      <td>11.00000</td>\n    </tr>\n    <tr>\n      <th>29997</th>\n      <td>zwiebelkuchen   southwest german onion cake</td>\n      <td>103312</td>\n      <td>75</td>\n      <td>161745</td>\n      <td>2004-11-03</td>\n      <td>NaN</td>\n      <td>this is a traditional late summer early fall s...</td>\n      <td>NaN</td>\n    </tr>\n    <tr>\n      <th>29998</th>\n      <td>zydeco soup</td>\n      <td>486161</td>\n      <td>60</td>\n      <td>227978</td>\n      <td>2012-08-29</td>\n      <td>NaN</td>\n      <td>this is a delicious soup that i originally fou...</td>\n      <td>NaN</td>\n    </tr>\n    <tr>\n      <th>29999</th>\n      <td>cookies by design   cookies on a stick</td>\n      <td>298512</td>\n      <td>29</td>\n      <td>506822</td>\n      <td>2008-04-15</td>\n      <td>9.00000</td>\n      <td>i've heard of the 'cookies by design' company,...</td>\n      <td>10.00000</td>\n    </tr>\n  </tbody>\n</table>\n<p>30000 rows × 8 columns</p>\n</div>"
     },
     "execution_count": 2,
     "metadata": {},
     "output_type": "execute_result"
    }
   ]
  },
  {
   "cell_type": "code",
   "source": [
    "reviews = pd.read_csv(\"./data/reviews_sample.csv\")\n",
    "\n",
    "reviews.set_index(\"Unnamed: 0\", inplace=True, drop=True) # корректные индексы таблицы Reviews\n",
    "\n",
    "reviews"
   ],
   "metadata": {
    "colab": {
     "base_uri": "https://localhost:8080/",
     "height": 424
    },
    "id": "B04Uo79Px4OD",
    "outputId": "8395e2c0-6868-4184-c01d-0a66872a0b91"
   },
   "execution_count": 3,
   "outputs": [
    {
     "data": {
      "text/plain": "               user_id  recipe_id        date  rating  \\\nUnnamed: 0                                              \n370476           21752      57993  2003-05-01       5   \n624300          431813     142201  2007-09-16       5   \n187037          400708     252013  2008-01-10       4   \n706134      2001852463     404716  2017-12-11       5   \n312179           95810     129396  2008-03-14       5   \n...                ...        ...         ...     ...   \n1013457        1270706     335534  2009-05-17       4   \n158736         2282344       8701  2012-06-03       0   \n1059834         689540     222001  2008-04-08       5   \n453285      2000242659     354979  2015-06-02       5   \n691207          463435     415599  2010-09-30       5   \n\n                                                       review  \nUnnamed: 0                                                     \n370476      Last week whole sides of frozen salmon fillet ...  \n624300      So simple and so tasty!  I used a yellow capsi...  \n187037      Very nice breakfast HH, easy to make and yummy...  \n706134      These are a favorite for the holidays and so e...  \n312179      Excellent soup!  The tomato flavor is just gre...  \n...                                                       ...  \n1013457     This recipe was great! I made it last night. I...  \n158736      This recipe is outstanding. I followed the rec...  \n1059834     Well, we were not a crowd but it was a fabulou...  \n453285      I have been a steak eater and dedicated BBQ gr...  \n691207      Wonderful and simple to prepare seasoning blen...  \n\n[126696 rows x 5 columns]",
      "text/html": "<div>\n<style scoped>\n    .dataframe tbody tr th:only-of-type {\n        vertical-align: middle;\n    }\n\n    .dataframe tbody tr th {\n        vertical-align: top;\n    }\n\n    .dataframe thead th {\n        text-align: right;\n    }\n</style>\n<table border=\"1\" class=\"dataframe\">\n  <thead>\n    <tr style=\"text-align: right;\">\n      <th></th>\n      <th>user_id</th>\n      <th>recipe_id</th>\n      <th>date</th>\n      <th>rating</th>\n      <th>review</th>\n    </tr>\n    <tr>\n      <th>Unnamed: 0</th>\n      <th></th>\n      <th></th>\n      <th></th>\n      <th></th>\n      <th></th>\n    </tr>\n  </thead>\n  <tbody>\n    <tr>\n      <th>370476</th>\n      <td>21752</td>\n      <td>57993</td>\n      <td>2003-05-01</td>\n      <td>5</td>\n      <td>Last week whole sides of frozen salmon fillet ...</td>\n    </tr>\n    <tr>\n      <th>624300</th>\n      <td>431813</td>\n      <td>142201</td>\n      <td>2007-09-16</td>\n      <td>5</td>\n      <td>So simple and so tasty!  I used a yellow capsi...</td>\n    </tr>\n    <tr>\n      <th>187037</th>\n      <td>400708</td>\n      <td>252013</td>\n      <td>2008-01-10</td>\n      <td>4</td>\n      <td>Very nice breakfast HH, easy to make and yummy...</td>\n    </tr>\n    <tr>\n      <th>706134</th>\n      <td>2001852463</td>\n      <td>404716</td>\n      <td>2017-12-11</td>\n      <td>5</td>\n      <td>These are a favorite for the holidays and so e...</td>\n    </tr>\n    <tr>\n      <th>312179</th>\n      <td>95810</td>\n      <td>129396</td>\n      <td>2008-03-14</td>\n      <td>5</td>\n      <td>Excellent soup!  The tomato flavor is just gre...</td>\n    </tr>\n    <tr>\n      <th>...</th>\n      <td>...</td>\n      <td>...</td>\n      <td>...</td>\n      <td>...</td>\n      <td>...</td>\n    </tr>\n    <tr>\n      <th>1013457</th>\n      <td>1270706</td>\n      <td>335534</td>\n      <td>2009-05-17</td>\n      <td>4</td>\n      <td>This recipe was great! I made it last night. I...</td>\n    </tr>\n    <tr>\n      <th>158736</th>\n      <td>2282344</td>\n      <td>8701</td>\n      <td>2012-06-03</td>\n      <td>0</td>\n      <td>This recipe is outstanding. I followed the rec...</td>\n    </tr>\n    <tr>\n      <th>1059834</th>\n      <td>689540</td>\n      <td>222001</td>\n      <td>2008-04-08</td>\n      <td>5</td>\n      <td>Well, we were not a crowd but it was a fabulou...</td>\n    </tr>\n    <tr>\n      <th>453285</th>\n      <td>2000242659</td>\n      <td>354979</td>\n      <td>2015-06-02</td>\n      <td>5</td>\n      <td>I have been a steak eater and dedicated BBQ gr...</td>\n    </tr>\n    <tr>\n      <th>691207</th>\n      <td>463435</td>\n      <td>415599</td>\n      <td>2010-09-30</td>\n      <td>5</td>\n      <td>Wonderful and simple to prepare seasoning blen...</td>\n    </tr>\n  </tbody>\n</table>\n<p>126696 rows × 5 columns</p>\n</div>"
     },
     "execution_count": 3,
     "metadata": {},
     "output_type": "execute_result"
    }
   ]
  },
  {
   "cell_type": "markdown",
   "metadata": {
    "id": "ASPi_-cwxHI5"
   },
   "source": [
    "1.2 Для каждой из таблиц выведите основные параметры:\n",
    "* количество точек данных (строк);\n",
    "* количество столбцов;\n",
    "* тип данных каждого столбца."
   ]
  },
  {
   "cell_type": "code",
   "source": [
    "# Кол-во строк\n",
    "reviews.count()"
   ],
   "metadata": {
    "colab": {
     "base_uri": "https://localhost:8080/"
    },
    "id": "aeOcJmjUyKHR",
    "outputId": "9e571d63-a58b-45ce-8154-47400483fd23"
   },
   "execution_count": 4,
   "outputs": [
    {
     "data": {
      "text/plain": "user_id      126696\nrecipe_id    126696\ndate         126696\nrating       126696\nreview       126679\ndtype: int64"
     },
     "execution_count": 4,
     "metadata": {},
     "output_type": "execute_result"
    }
   ]
  },
  {
   "cell_type": "code",
   "execution_count": 5,
   "outputs": [
    {
     "data": {
      "text/plain": "name              30000\nid                30000\nminutes           30000\ncontributor_id    30000\nsubmitted         30000\nn_steps           18810\ndescription       29377\nn_ingredients     21120\ndtype: int64"
     },
     "execution_count": 5,
     "metadata": {},
     "output_type": "execute_result"
    }
   ],
   "source": [
    "recipes.count()"
   ],
   "metadata": {
    "collapsed": false
   }
  },
  {
   "cell_type": "code",
   "execution_count": 6,
   "outputs": [
    {
     "data": {
      "text/plain": "5"
     },
     "execution_count": 6,
     "metadata": {},
     "output_type": "execute_result"
    }
   ],
   "source": [
    "# Кол-во столбцов\n",
    "len(reviews.columns)"
   ],
   "metadata": {
    "collapsed": false
   }
  },
  {
   "cell_type": "code",
   "execution_count": 7,
   "outputs": [
    {
     "data": {
      "text/plain": "8"
     },
     "execution_count": 7,
     "metadata": {},
     "output_type": "execute_result"
    }
   ],
   "source": [
    "len(recipes.columns)"
   ],
   "metadata": {
    "collapsed": false
   }
  },
  {
   "cell_type": "code",
   "source": [
    "# Типы данных\n",
    "reviews.dtypes"
   ],
   "metadata": {
    "colab": {
     "base_uri": "https://localhost:8080/"
    },
    "id": "x91Adb8iy7-i",
    "outputId": "88921561-5719-494f-b82d-013dd060a217"
   },
   "execution_count": 8,
   "outputs": [
    {
     "data": {
      "text/plain": "user_id       int64\nrecipe_id     int64\ndate         object\nrating        int64\nreview       object\ndtype: object"
     },
     "execution_count": 8,
     "metadata": {},
     "output_type": "execute_result"
    }
   ]
  },
  {
   "cell_type": "code",
   "execution_count": 9,
   "outputs": [
    {
     "data": {
      "text/plain": "name               object\nid                  int64\nminutes             int64\ncontributor_id      int64\nsubmitted          object\nn_steps           float64\ndescription        object\nn_ingredients     float64\ndtype: object"
     },
     "execution_count": 9,
     "metadata": {},
     "output_type": "execute_result"
    }
   ],
   "source": [
    "recipes.dtypes"
   ],
   "metadata": {
    "collapsed": false
   }
  },
  {
   "cell_type": "markdown",
   "metadata": {
    "id": "l2q8hWbPxHI6"
   },
   "source": [
    "1.3 Исследуйте, в каких столбцах таблиц содержатся пропуски. Посчитайте долю строк, содержащих пропуски, в отношении к общему количеству строк."
   ]
  },
  {
   "cell_type": "code",
   "source": [
    "for column in recipes.columns:\n",
    "  print(f\"Recipes столбец: {column}, доля пропущенных: {recipes[column].isna().sum() / recipes.count()[column]}\")\n",
    "\n",
    "print(f\"Recipes общая пропущенных строк: {recipes.isna().sum().sum() / recipes.count().sum()}\\n\")\n",
    "\n",
    "for column in reviews.columns:\n",
    "  print(f\"Reviews столбец: {column}, доля пропущенных: {reviews[column].isna().sum() / reviews.count()[column]}\")\n",
    "\n",
    "print(f\"Reviews общая пропущенных строк: {format(reviews.isna().sum().sum() / reviews.count().sum(), '.8f')}\")"
   ],
   "metadata": {
    "colab": {
     "base_uri": "https://localhost:8080/"
    },
    "id": "zACenGac2zif",
    "outputId": "2c16b215-1d04-4f13-ce88-436406007b49"
   },
   "execution_count": 10,
   "outputs": [
    {
     "name": "stdout",
     "output_type": "stream",
     "text": [
      "Recipes столбец: name, доля пропущенных: 0.0\n",
      "Recipes столбец: id, доля пропущенных: 0.0\n",
      "Recipes столбец: minutes, доля пропущенных: 0.0\n",
      "Recipes столбец: contributor_id, доля пропущенных: 0.0\n",
      "Recipes столбец: submitted, доля пропущенных: 0.0\n",
      "Recipes столбец: n_steps, доля пропущенных: 0.594896331738437\n",
      "Recipes столбец: description, доля пропущенных: 0.02120706675290193\n",
      "Recipes столбец: n_ingredients, доля пропущенных: 0.42045454545454547\n",
      "Recipes общая пропущенных строк: 0.09435631329597323\n",
      "\n",
      "Reviews столбец: user_id, доля пропущенных: 0.0\n",
      "Reviews столбец: recipe_id, доля пропущенных: 0.0\n",
      "Reviews столбец: date, доля пропущенных: 0.0\n",
      "Reviews столбец: rating, доля пропущенных: 0.0\n",
      "Reviews столбец: review, доля пропущенных: 0.00013419745972102716\n",
      "Reviews общая пропущенных строк: 0.00002684\n"
     ]
    }
   ]
  },
  {
   "cell_type": "markdown",
   "metadata": {
    "id": "i916AQ1IxHI6"
   },
   "source": [
    "1.4 Рассчитайте среднее значение для каждого из числовых столбцов (где это имеет смысл)."
   ]
  },
  {
   "cell_type": "code",
   "execution_count": 11,
   "outputs": [
    {
     "data": {
      "text/plain": "id                221879.29400\nminutes              123.35813\ncontributor_id   5635900.57280\nn_steps                9.80558\nn_ingredients          9.00829\ndtype: float64"
     },
     "execution_count": 11,
     "metadata": {},
     "output_type": "execute_result"
    }
   ],
   "source": [
    "recipes.select_dtypes(include=[\"int64\", \"float64\"]).mean()"
   ],
   "metadata": {
    "collapsed": false
   }
  },
  {
   "cell_type": "code",
   "execution_count": 12,
   "outputs": [
    {
     "data": {
      "text/plain": "user_id     140801264.73741\nrecipe_id      160094.38706\nrating              4.41080\ndtype: float64"
     },
     "execution_count": 12,
     "metadata": {},
     "output_type": "execute_result"
    }
   ],
   "source": [
    "reviews.select_dtypes(include=[\"int64\", \"float64\"]).mean()"
   ],
   "metadata": {
    "collapsed": false
   }
  },
  {
   "cell_type": "markdown",
   "metadata": {
    "id": "Z9YHgJMxxHI6"
   },
   "source": [
    "1.5 Создайте серию из 10 случайных названий рецептов."
   ]
  },
  {
   "cell_type": "code",
   "execution_count": 13,
   "outputs": [
    {
     "data": {
      "text/plain": "20849          pineapple spread for tea sandwiches\n712                            angel chicken pasta\n3156     black bottom cupcakes  the correct recipe\n10126                            easy oven pancake\n12425                      grandma s honey muffins\n3255                        blackstrap stout chili\n6062                chicken with creamy herb sauce\n24522                       slow cooker v8 chicken\n10477                     eileen s cranberry sauce\n14671                  italian marinated mushrooms\nName: name, dtype: object"
     },
     "execution_count": 13,
     "metadata": {},
     "output_type": "execute_result"
    }
   ],
   "source": [
    "random_series = recipes[\"name\"].sample(10)\n",
    "\n",
    "random_series"
   ],
   "metadata": {
    "collapsed": false
   }
  },
  {
   "cell_type": "markdown",
   "metadata": {
    "id": "TBKOaYyIxHI7"
   },
   "source": [
    "1.6 Измените индекс в таблице `reviews`, пронумеровав строки, начиная с нуля."
   ]
  },
  {
   "cell_type": "code",
   "execution_count": 14,
   "outputs": [
    {
     "data": {
      "text/plain": "           user_id  recipe_id        date  rating  \\\n0            21752      57993  2003-05-01       5   \n1           431813     142201  2007-09-16       5   \n2           400708     252013  2008-01-10       4   \n3       2001852463     404716  2017-12-11       5   \n4            95810     129396  2008-03-14       5   \n...            ...        ...         ...     ...   \n126691     1270706     335534  2009-05-17       4   \n126692     2282344       8701  2012-06-03       0   \n126693      689540     222001  2008-04-08       5   \n126694  2000242659     354979  2015-06-02       5   \n126695      463435     415599  2010-09-30       5   \n\n                                                   review  \n0       Last week whole sides of frozen salmon fillet ...  \n1       So simple and so tasty!  I used a yellow capsi...  \n2       Very nice breakfast HH, easy to make and yummy...  \n3       These are a favorite for the holidays and so e...  \n4       Excellent soup!  The tomato flavor is just gre...  \n...                                                   ...  \n126691  This recipe was great! I made it last night. I...  \n126692  This recipe is outstanding. I followed the rec...  \n126693  Well, we were not a crowd but it was a fabulou...  \n126694  I have been a steak eater and dedicated BBQ gr...  \n126695  Wonderful and simple to prepare seasoning blen...  \n\n[126696 rows x 5 columns]",
      "text/html": "<div>\n<style scoped>\n    .dataframe tbody tr th:only-of-type {\n        vertical-align: middle;\n    }\n\n    .dataframe tbody tr th {\n        vertical-align: top;\n    }\n\n    .dataframe thead th {\n        text-align: right;\n    }\n</style>\n<table border=\"1\" class=\"dataframe\">\n  <thead>\n    <tr style=\"text-align: right;\">\n      <th></th>\n      <th>user_id</th>\n      <th>recipe_id</th>\n      <th>date</th>\n      <th>rating</th>\n      <th>review</th>\n    </tr>\n  </thead>\n  <tbody>\n    <tr>\n      <th>0</th>\n      <td>21752</td>\n      <td>57993</td>\n      <td>2003-05-01</td>\n      <td>5</td>\n      <td>Last week whole sides of frozen salmon fillet ...</td>\n    </tr>\n    <tr>\n      <th>1</th>\n      <td>431813</td>\n      <td>142201</td>\n      <td>2007-09-16</td>\n      <td>5</td>\n      <td>So simple and so tasty!  I used a yellow capsi...</td>\n    </tr>\n    <tr>\n      <th>2</th>\n      <td>400708</td>\n      <td>252013</td>\n      <td>2008-01-10</td>\n      <td>4</td>\n      <td>Very nice breakfast HH, easy to make and yummy...</td>\n    </tr>\n    <tr>\n      <th>3</th>\n      <td>2001852463</td>\n      <td>404716</td>\n      <td>2017-12-11</td>\n      <td>5</td>\n      <td>These are a favorite for the holidays and so e...</td>\n    </tr>\n    <tr>\n      <th>4</th>\n      <td>95810</td>\n      <td>129396</td>\n      <td>2008-03-14</td>\n      <td>5</td>\n      <td>Excellent soup!  The tomato flavor is just gre...</td>\n    </tr>\n    <tr>\n      <th>...</th>\n      <td>...</td>\n      <td>...</td>\n      <td>...</td>\n      <td>...</td>\n      <td>...</td>\n    </tr>\n    <tr>\n      <th>126691</th>\n      <td>1270706</td>\n      <td>335534</td>\n      <td>2009-05-17</td>\n      <td>4</td>\n      <td>This recipe was great! I made it last night. I...</td>\n    </tr>\n    <tr>\n      <th>126692</th>\n      <td>2282344</td>\n      <td>8701</td>\n      <td>2012-06-03</td>\n      <td>0</td>\n      <td>This recipe is outstanding. I followed the rec...</td>\n    </tr>\n    <tr>\n      <th>126693</th>\n      <td>689540</td>\n      <td>222001</td>\n      <td>2008-04-08</td>\n      <td>5</td>\n      <td>Well, we were not a crowd but it was a fabulou...</td>\n    </tr>\n    <tr>\n      <th>126694</th>\n      <td>2000242659</td>\n      <td>354979</td>\n      <td>2015-06-02</td>\n      <td>5</td>\n      <td>I have been a steak eater and dedicated BBQ gr...</td>\n    </tr>\n    <tr>\n      <th>126695</th>\n      <td>463435</td>\n      <td>415599</td>\n      <td>2010-09-30</td>\n      <td>5</td>\n      <td>Wonderful and simple to prepare seasoning blen...</td>\n    </tr>\n  </tbody>\n</table>\n<p>126696 rows × 5 columns</p>\n</div>"
     },
     "execution_count": 14,
     "metadata": {},
     "output_type": "execute_result"
    }
   ],
   "source": [
    "reviews = reviews.reset_index(drop=True)\n",
    "\n",
    "reviews"
   ],
   "metadata": {
    "collapsed": false
   }
  },
  {
   "cell_type": "markdown",
   "metadata": {
    "id": "I90D7NKBxHI7"
   },
   "source": [
    "1.7 Выведите информацию о рецептах, время выполнения которых не больше 20 минут и кол-во ингредиентов в которых не больше 5."
   ]
  },
  {
   "cell_type": "code",
   "execution_count": 15,
   "outputs": [
    {
     "data": {
      "text/plain": "                                                    name      id  minutes  \\\n28                                   quick biscuit bread  302399       20   \n60                         peas  fit for a king or queen  303944       20   \n90                     hawaiian sunrise           mimosa  100837        5   \n91            tasty dish s   banana pudding in 2 minutes  286484        2   \n94                                    1 minute meatballs   11361       13   \n...                                                  ...     ...      ...   \n29873  zip and steam red potatoes with butter and garlic  304922       13   \n29874                          ziplock vanilla ice cream   74250       10   \n29905                      zucchini and corn with cheese  256177       15   \n29980               zucchini with jalapeno monterey jack  320622       10   \n29983                          zucchini with serrano ham  162411       15   \n\n       contributor_id   submitted  n_steps  \\\n28             213909  2008-05-06 11.00000   \n60             213909  2008-05-16      NaN   \n90              58104  2004-09-29  4.00000   \n91              47892  2008-02-13      NaN   \n94               4470  2001-09-03      NaN   \n...               ...         ...      ...   \n29873          724218  2008-05-27  9.00000   \n29874           24386  2003-10-29  8.00000   \n29905          305531  2007-09-29  4.00000   \n29980          305531  2008-08-20  3.00000   \n29983          152500  2006-03-31  6.00000   \n\n                                             description  n_ingredients  \n28     this is a wonderful quick bread to make as an ...        5.00000  \n60     this recipe is so simple and the flavors are s...        5.00000  \n90     pineapple mimosa was changed to hawaiian sunri...        3.00000  \n91     \"mmmm, i love bananas!\" a --tasty dish-- origi...        4.00000  \n94     this is a real short cut for cooks in a hurry....        2.00000  \n...                                                  ...            ...  \n29873  i haven't tried this yet, but i am going to so...        5.00000  \n29874  a fun thing for kids to do. may want to use mi...        3.00000  \n29905  from betty crocker fresh spring recipes. i lik...        5.00000  \n29980                                  simple and yummy!        3.00000  \n29983  this dish is from tim malzer, a german chef wh...        5.00000  \n\n[2019 rows x 8 columns]",
      "text/html": "<div>\n<style scoped>\n    .dataframe tbody tr th:only-of-type {\n        vertical-align: middle;\n    }\n\n    .dataframe tbody tr th {\n        vertical-align: top;\n    }\n\n    .dataframe thead th {\n        text-align: right;\n    }\n</style>\n<table border=\"1\" class=\"dataframe\">\n  <thead>\n    <tr style=\"text-align: right;\">\n      <th></th>\n      <th>name</th>\n      <th>id</th>\n      <th>minutes</th>\n      <th>contributor_id</th>\n      <th>submitted</th>\n      <th>n_steps</th>\n      <th>description</th>\n      <th>n_ingredients</th>\n    </tr>\n  </thead>\n  <tbody>\n    <tr>\n      <th>28</th>\n      <td>quick biscuit bread</td>\n      <td>302399</td>\n      <td>20</td>\n      <td>213909</td>\n      <td>2008-05-06</td>\n      <td>11.00000</td>\n      <td>this is a wonderful quick bread to make as an ...</td>\n      <td>5.00000</td>\n    </tr>\n    <tr>\n      <th>60</th>\n      <td>peas  fit for a king or queen</td>\n      <td>303944</td>\n      <td>20</td>\n      <td>213909</td>\n      <td>2008-05-16</td>\n      <td>NaN</td>\n      <td>this recipe is so simple and the flavors are s...</td>\n      <td>5.00000</td>\n    </tr>\n    <tr>\n      <th>90</th>\n      <td>hawaiian sunrise           mimosa</td>\n      <td>100837</td>\n      <td>5</td>\n      <td>58104</td>\n      <td>2004-09-29</td>\n      <td>4.00000</td>\n      <td>pineapple mimosa was changed to hawaiian sunri...</td>\n      <td>3.00000</td>\n    </tr>\n    <tr>\n      <th>91</th>\n      <td>tasty dish s   banana pudding in 2 minutes</td>\n      <td>286484</td>\n      <td>2</td>\n      <td>47892</td>\n      <td>2008-02-13</td>\n      <td>NaN</td>\n      <td>\"mmmm, i love bananas!\" a --tasty dish-- origi...</td>\n      <td>4.00000</td>\n    </tr>\n    <tr>\n      <th>94</th>\n      <td>1 minute meatballs</td>\n      <td>11361</td>\n      <td>13</td>\n      <td>4470</td>\n      <td>2001-09-03</td>\n      <td>NaN</td>\n      <td>this is a real short cut for cooks in a hurry....</td>\n      <td>2.00000</td>\n    </tr>\n    <tr>\n      <th>...</th>\n      <td>...</td>\n      <td>...</td>\n      <td>...</td>\n      <td>...</td>\n      <td>...</td>\n      <td>...</td>\n      <td>...</td>\n      <td>...</td>\n    </tr>\n    <tr>\n      <th>29873</th>\n      <td>zip and steam red potatoes with butter and garlic</td>\n      <td>304922</td>\n      <td>13</td>\n      <td>724218</td>\n      <td>2008-05-27</td>\n      <td>9.00000</td>\n      <td>i haven't tried this yet, but i am going to so...</td>\n      <td>5.00000</td>\n    </tr>\n    <tr>\n      <th>29874</th>\n      <td>ziplock vanilla ice cream</td>\n      <td>74250</td>\n      <td>10</td>\n      <td>24386</td>\n      <td>2003-10-29</td>\n      <td>8.00000</td>\n      <td>a fun thing for kids to do. may want to use mi...</td>\n      <td>3.00000</td>\n    </tr>\n    <tr>\n      <th>29905</th>\n      <td>zucchini and corn with cheese</td>\n      <td>256177</td>\n      <td>15</td>\n      <td>305531</td>\n      <td>2007-09-29</td>\n      <td>4.00000</td>\n      <td>from betty crocker fresh spring recipes. i lik...</td>\n      <td>5.00000</td>\n    </tr>\n    <tr>\n      <th>29980</th>\n      <td>zucchini with jalapeno monterey jack</td>\n      <td>320622</td>\n      <td>10</td>\n      <td>305531</td>\n      <td>2008-08-20</td>\n      <td>3.00000</td>\n      <td>simple and yummy!</td>\n      <td>3.00000</td>\n    </tr>\n    <tr>\n      <th>29983</th>\n      <td>zucchini with serrano ham</td>\n      <td>162411</td>\n      <td>15</td>\n      <td>152500</td>\n      <td>2006-03-31</td>\n      <td>6.00000</td>\n      <td>this dish is from tim malzer, a german chef wh...</td>\n      <td>5.00000</td>\n    </tr>\n  </tbody>\n</table>\n<p>2019 rows × 8 columns</p>\n</div>"
     },
     "execution_count": 15,
     "metadata": {},
     "output_type": "execute_result"
    }
   ],
   "source": [
    "recipes[(recipes[\"minutes\"] <= 20) * (recipes[\"n_ingredients\"] <= 5)]"
   ],
   "metadata": {
    "collapsed": false
   }
  },
  {
   "cell_type": "markdown",
   "metadata": {
    "id": "g1683WaAxHI7"
   },
   "source": [
    "### Работа с датами в `pandas`"
   ]
  },
  {
   "cell_type": "markdown",
   "metadata": {
    "id": "h7XjuaM2xHI8"
   },
   "source": [
    "2.1 Преобразуйте столбец `submitted` из таблицы `recipes` в формат времени. Модифицируйте решение задачи 1.1 так, чтобы считать столбец сразу в нужном формате."
   ]
  },
  {
   "cell_type": "code",
   "execution_count": 16,
   "outputs": [
    {
     "data": {
      "text/plain": "                                               name      id  minutes  \\\n0             george s at the cove  black bean soup   44123       90   \n1                healthy for them  yogurt popsicles   67664       10   \n2                      i can t believe it s spinach   38798       30   \n3                              italian  gut busters   35173       45   \n4          love is in the air  beef fondue   sauces   84797       25   \n...                                             ...     ...      ...   \n29995  zurie s holey rustic olive and cheddar bread  267661       80   \n29996          zwetschgenkuchen  bavarian plum cake  386977      240   \n29997   zwiebelkuchen   southwest german onion cake  103312       75   \n29998                                   zydeco soup  486161       60   \n29999        cookies by design   cookies on a stick  298512       29   \n\n       contributor_id  submitted  n_steps  \\\n0               35193 2002-10-25      NaN   \n1               91970 2003-07-26      NaN   \n2                1533 2002-08-29      NaN   \n3               22724 2002-07-27      NaN   \n4                4470 2004-02-23  4.00000   \n...               ...        ...      ...   \n29995          200862 2007-11-25 16.00000   \n29996          177443 2009-08-24      NaN   \n29997          161745 2004-11-03      NaN   \n29998          227978 2012-08-29      NaN   \n29999          506822 2008-04-15  9.00000   \n\n                                             description  n_ingredients  \n0      an original recipe created by chef scott meska...       18.00000  \n1      my children and their friends ask for my homem...            NaN  \n2                these were so go, it surprised even me.        8.00000  \n3      my sister-in-law made these for us at a family...            NaN  \n4      i think a fondue is a very romantic casual din...            NaN  \n...                                                  ...            ...  \n29995  this is based on a french recipe but i changed...       10.00000  \n29996  this is a traditional fresh plum cake, thought...       11.00000  \n29997  this is a traditional late summer early fall s...            NaN  \n29998  this is a delicious soup that i originally fou...            NaN  \n29999  i've heard of the 'cookies by design' company,...       10.00000  \n\n[30000 rows x 8 columns]",
      "text/html": "<div>\n<style scoped>\n    .dataframe tbody tr th:only-of-type {\n        vertical-align: middle;\n    }\n\n    .dataframe tbody tr th {\n        vertical-align: top;\n    }\n\n    .dataframe thead th {\n        text-align: right;\n    }\n</style>\n<table border=\"1\" class=\"dataframe\">\n  <thead>\n    <tr style=\"text-align: right;\">\n      <th></th>\n      <th>name</th>\n      <th>id</th>\n      <th>minutes</th>\n      <th>contributor_id</th>\n      <th>submitted</th>\n      <th>n_steps</th>\n      <th>description</th>\n      <th>n_ingredients</th>\n    </tr>\n  </thead>\n  <tbody>\n    <tr>\n      <th>0</th>\n      <td>george s at the cove  black bean soup</td>\n      <td>44123</td>\n      <td>90</td>\n      <td>35193</td>\n      <td>2002-10-25</td>\n      <td>NaN</td>\n      <td>an original recipe created by chef scott meska...</td>\n      <td>18.00000</td>\n    </tr>\n    <tr>\n      <th>1</th>\n      <td>healthy for them  yogurt popsicles</td>\n      <td>67664</td>\n      <td>10</td>\n      <td>91970</td>\n      <td>2003-07-26</td>\n      <td>NaN</td>\n      <td>my children and their friends ask for my homem...</td>\n      <td>NaN</td>\n    </tr>\n    <tr>\n      <th>2</th>\n      <td>i can t believe it s spinach</td>\n      <td>38798</td>\n      <td>30</td>\n      <td>1533</td>\n      <td>2002-08-29</td>\n      <td>NaN</td>\n      <td>these were so go, it surprised even me.</td>\n      <td>8.00000</td>\n    </tr>\n    <tr>\n      <th>3</th>\n      <td>italian  gut busters</td>\n      <td>35173</td>\n      <td>45</td>\n      <td>22724</td>\n      <td>2002-07-27</td>\n      <td>NaN</td>\n      <td>my sister-in-law made these for us at a family...</td>\n      <td>NaN</td>\n    </tr>\n    <tr>\n      <th>4</th>\n      <td>love is in the air  beef fondue   sauces</td>\n      <td>84797</td>\n      <td>25</td>\n      <td>4470</td>\n      <td>2004-02-23</td>\n      <td>4.00000</td>\n      <td>i think a fondue is a very romantic casual din...</td>\n      <td>NaN</td>\n    </tr>\n    <tr>\n      <th>...</th>\n      <td>...</td>\n      <td>...</td>\n      <td>...</td>\n      <td>...</td>\n      <td>...</td>\n      <td>...</td>\n      <td>...</td>\n      <td>...</td>\n    </tr>\n    <tr>\n      <th>29995</th>\n      <td>zurie s holey rustic olive and cheddar bread</td>\n      <td>267661</td>\n      <td>80</td>\n      <td>200862</td>\n      <td>2007-11-25</td>\n      <td>16.00000</td>\n      <td>this is based on a french recipe but i changed...</td>\n      <td>10.00000</td>\n    </tr>\n    <tr>\n      <th>29996</th>\n      <td>zwetschgenkuchen  bavarian plum cake</td>\n      <td>386977</td>\n      <td>240</td>\n      <td>177443</td>\n      <td>2009-08-24</td>\n      <td>NaN</td>\n      <td>this is a traditional fresh plum cake, thought...</td>\n      <td>11.00000</td>\n    </tr>\n    <tr>\n      <th>29997</th>\n      <td>zwiebelkuchen   southwest german onion cake</td>\n      <td>103312</td>\n      <td>75</td>\n      <td>161745</td>\n      <td>2004-11-03</td>\n      <td>NaN</td>\n      <td>this is a traditional late summer early fall s...</td>\n      <td>NaN</td>\n    </tr>\n    <tr>\n      <th>29998</th>\n      <td>zydeco soup</td>\n      <td>486161</td>\n      <td>60</td>\n      <td>227978</td>\n      <td>2012-08-29</td>\n      <td>NaN</td>\n      <td>this is a delicious soup that i originally fou...</td>\n      <td>NaN</td>\n    </tr>\n    <tr>\n      <th>29999</th>\n      <td>cookies by design   cookies on a stick</td>\n      <td>298512</td>\n      <td>29</td>\n      <td>506822</td>\n      <td>2008-04-15</td>\n      <td>9.00000</td>\n      <td>i've heard of the 'cookies by design' company,...</td>\n      <td>10.00000</td>\n    </tr>\n  </tbody>\n</table>\n<p>30000 rows × 8 columns</p>\n</div>"
     },
     "execution_count": 16,
     "metadata": {},
     "output_type": "execute_result"
    }
   ],
   "source": [
    "recipes[\"submitted\"] = pd.to_datetime(recipes[\"submitted\"], format=\"%Y-%m-%d\")\n",
    "\n",
    "recipes"
   ],
   "metadata": {
    "collapsed": false
   }
  },
  {
   "cell_type": "markdown",
   "metadata": {
    "id": "A8-Qw9-ExHI8"
   },
   "source": [
    "2.2 Выведите информацию о рецептах, добавленных в датасет не позже 2010 года."
   ]
  },
  {
   "cell_type": "code",
   "execution_count": 17,
   "outputs": [
    {
     "data": {
      "text/plain": "                                               name      id  minutes  \\\n0             george s at the cove  black bean soup   44123       90   \n1                healthy for them  yogurt popsicles   67664       10   \n2                      i can t believe it s spinach   38798       30   \n3                              italian  gut busters   35173       45   \n4          love is in the air  beef fondue   sauces   84797       25   \n...                                             ...     ...      ...   \n29993                     zuni caf zucchini pickles  316950     2895   \n29995  zurie s holey rustic olive and cheddar bread  267661       80   \n29996          zwetschgenkuchen  bavarian plum cake  386977      240   \n29997   zwiebelkuchen   southwest german onion cake  103312       75   \n29999        cookies by design   cookies on a stick  298512       29   \n\n       contributor_id  submitted  n_steps  \\\n0               35193 2002-10-25      NaN   \n1               91970 2003-07-26      NaN   \n2                1533 2002-08-29      NaN   \n3               22724 2002-07-27      NaN   \n4                4470 2004-02-23  4.00000   \n...               ...        ...      ...   \n29993           62264 2008-07-31      NaN   \n29995          200862 2007-11-25 16.00000   \n29996          177443 2009-08-24      NaN   \n29997          161745 2004-11-03      NaN   \n29999          506822 2008-04-15  9.00000   \n\n                                             description  n_ingredients  \n0      an original recipe created by chef scott meska...       18.00000  \n1      my children and their friends ask for my homem...            NaN  \n2                these were so go, it surprised even me.        8.00000  \n3      my sister-in-law made these for us at a family...            NaN  \n4      i think a fondue is a very romantic casual din...            NaN  \n...                                                  ...            ...  \n29993  refrigerator pickles for some of the zucchini ...        8.00000  \n29995  this is based on a french recipe but i changed...       10.00000  \n29996  this is a traditional fresh plum cake, thought...       11.00000  \n29997  this is a traditional late summer early fall s...            NaN  \n29999  i've heard of the 'cookies by design' company,...       10.00000  \n\n[26125 rows x 8 columns]",
      "text/html": "<div>\n<style scoped>\n    .dataframe tbody tr th:only-of-type {\n        vertical-align: middle;\n    }\n\n    .dataframe tbody tr th {\n        vertical-align: top;\n    }\n\n    .dataframe thead th {\n        text-align: right;\n    }\n</style>\n<table border=\"1\" class=\"dataframe\">\n  <thead>\n    <tr style=\"text-align: right;\">\n      <th></th>\n      <th>name</th>\n      <th>id</th>\n      <th>minutes</th>\n      <th>contributor_id</th>\n      <th>submitted</th>\n      <th>n_steps</th>\n      <th>description</th>\n      <th>n_ingredients</th>\n    </tr>\n  </thead>\n  <tbody>\n    <tr>\n      <th>0</th>\n      <td>george s at the cove  black bean soup</td>\n      <td>44123</td>\n      <td>90</td>\n      <td>35193</td>\n      <td>2002-10-25</td>\n      <td>NaN</td>\n      <td>an original recipe created by chef scott meska...</td>\n      <td>18.00000</td>\n    </tr>\n    <tr>\n      <th>1</th>\n      <td>healthy for them  yogurt popsicles</td>\n      <td>67664</td>\n      <td>10</td>\n      <td>91970</td>\n      <td>2003-07-26</td>\n      <td>NaN</td>\n      <td>my children and their friends ask for my homem...</td>\n      <td>NaN</td>\n    </tr>\n    <tr>\n      <th>2</th>\n      <td>i can t believe it s spinach</td>\n      <td>38798</td>\n      <td>30</td>\n      <td>1533</td>\n      <td>2002-08-29</td>\n      <td>NaN</td>\n      <td>these were so go, it surprised even me.</td>\n      <td>8.00000</td>\n    </tr>\n    <tr>\n      <th>3</th>\n      <td>italian  gut busters</td>\n      <td>35173</td>\n      <td>45</td>\n      <td>22724</td>\n      <td>2002-07-27</td>\n      <td>NaN</td>\n      <td>my sister-in-law made these for us at a family...</td>\n      <td>NaN</td>\n    </tr>\n    <tr>\n      <th>4</th>\n      <td>love is in the air  beef fondue   sauces</td>\n      <td>84797</td>\n      <td>25</td>\n      <td>4470</td>\n      <td>2004-02-23</td>\n      <td>4.00000</td>\n      <td>i think a fondue is a very romantic casual din...</td>\n      <td>NaN</td>\n    </tr>\n    <tr>\n      <th>...</th>\n      <td>...</td>\n      <td>...</td>\n      <td>...</td>\n      <td>...</td>\n      <td>...</td>\n      <td>...</td>\n      <td>...</td>\n      <td>...</td>\n    </tr>\n    <tr>\n      <th>29993</th>\n      <td>zuni caf zucchini pickles</td>\n      <td>316950</td>\n      <td>2895</td>\n      <td>62264</td>\n      <td>2008-07-31</td>\n      <td>NaN</td>\n      <td>refrigerator pickles for some of the zucchini ...</td>\n      <td>8.00000</td>\n    </tr>\n    <tr>\n      <th>29995</th>\n      <td>zurie s holey rustic olive and cheddar bread</td>\n      <td>267661</td>\n      <td>80</td>\n      <td>200862</td>\n      <td>2007-11-25</td>\n      <td>16.00000</td>\n      <td>this is based on a french recipe but i changed...</td>\n      <td>10.00000</td>\n    </tr>\n    <tr>\n      <th>29996</th>\n      <td>zwetschgenkuchen  bavarian plum cake</td>\n      <td>386977</td>\n      <td>240</td>\n      <td>177443</td>\n      <td>2009-08-24</td>\n      <td>NaN</td>\n      <td>this is a traditional fresh plum cake, thought...</td>\n      <td>11.00000</td>\n    </tr>\n    <tr>\n      <th>29997</th>\n      <td>zwiebelkuchen   southwest german onion cake</td>\n      <td>103312</td>\n      <td>75</td>\n      <td>161745</td>\n      <td>2004-11-03</td>\n      <td>NaN</td>\n      <td>this is a traditional late summer early fall s...</td>\n      <td>NaN</td>\n    </tr>\n    <tr>\n      <th>29999</th>\n      <td>cookies by design   cookies on a stick</td>\n      <td>298512</td>\n      <td>29</td>\n      <td>506822</td>\n      <td>2008-04-15</td>\n      <td>9.00000</td>\n      <td>i've heard of the 'cookies by design' company,...</td>\n      <td>10.00000</td>\n    </tr>\n  </tbody>\n</table>\n<p>26125 rows × 8 columns</p>\n</div>"
     },
     "execution_count": 17,
     "metadata": {},
     "output_type": "execute_result"
    }
   ],
   "source": [
    "recipes[recipes[\"submitted\"] <= \"2010\"]"
   ],
   "metadata": {
    "collapsed": false
   }
  },
  {
   "cell_type": "markdown",
   "metadata": {
    "id": "Empm5OSQxHI9"
   },
   "source": [
    "### Работа со строковыми данными в `pandas`"
   ]
  },
  {
   "cell_type": "markdown",
   "metadata": {
    "id": "NAqtGpDDxHI9"
   },
   "source": [
    "3.1  Добавьте в таблицу `recipes` столбец `description_length`, в котором хранится длина описания рецепта из столбца `description`."
   ]
  },
  {
   "cell_type": "code",
   "execution_count": 18,
   "outputs": [
    {
     "data": {
      "text/plain": "                                               name      id  minutes  \\\n0             george s at the cove  black bean soup   44123       90   \n1                healthy for them  yogurt popsicles   67664       10   \n2                      i can t believe it s spinach   38798       30   \n3                              italian  gut busters   35173       45   \n4          love is in the air  beef fondue   sauces   84797       25   \n...                                             ...     ...      ...   \n29995  zurie s holey rustic olive and cheddar bread  267661       80   \n29996          zwetschgenkuchen  bavarian plum cake  386977      240   \n29997   zwiebelkuchen   southwest german onion cake  103312       75   \n29998                                   zydeco soup  486161       60   \n29999        cookies by design   cookies on a stick  298512       29   \n\n       contributor_id  submitted  n_steps  \\\n0               35193 2002-10-25      NaN   \n1               91970 2003-07-26      NaN   \n2                1533 2002-08-29      NaN   \n3               22724 2002-07-27      NaN   \n4                4470 2004-02-23  4.00000   \n...               ...        ...      ...   \n29995          200862 2007-11-25 16.00000   \n29996          177443 2009-08-24      NaN   \n29997          161745 2004-11-03      NaN   \n29998          227978 2012-08-29      NaN   \n29999          506822 2008-04-15  9.00000   \n\n                                             description  n_ingredients  \\\n0      an original recipe created by chef scott meska...       18.00000   \n1      my children and their friends ask for my homem...            NaN   \n2                these were so go, it surprised even me.        8.00000   \n3      my sister-in-law made these for us at a family...            NaN   \n4      i think a fondue is a very romantic casual din...            NaN   \n...                                                  ...            ...   \n29995  this is based on a french recipe but i changed...       10.00000   \n29996  this is a traditional fresh plum cake, thought...       11.00000   \n29997  this is a traditional late summer early fall s...            NaN   \n29998  this is a delicious soup that i originally fou...            NaN   \n29999  i've heard of the 'cookies by design' company,...       10.00000   \n\n       description_length  \n0               330.00000  \n1               255.00000  \n2                39.00000  \n3               154.00000  \n4               587.00000  \n...                   ...  \n29995           484.00000  \n29996           286.00000  \n29997           311.00000  \n29998           648.00000  \n29999           125.00000  \n\n[30000 rows x 9 columns]",
      "text/html": "<div>\n<style scoped>\n    .dataframe tbody tr th:only-of-type {\n        vertical-align: middle;\n    }\n\n    .dataframe tbody tr th {\n        vertical-align: top;\n    }\n\n    .dataframe thead th {\n        text-align: right;\n    }\n</style>\n<table border=\"1\" class=\"dataframe\">\n  <thead>\n    <tr style=\"text-align: right;\">\n      <th></th>\n      <th>name</th>\n      <th>id</th>\n      <th>minutes</th>\n      <th>contributor_id</th>\n      <th>submitted</th>\n      <th>n_steps</th>\n      <th>description</th>\n      <th>n_ingredients</th>\n      <th>description_length</th>\n    </tr>\n  </thead>\n  <tbody>\n    <tr>\n      <th>0</th>\n      <td>george s at the cove  black bean soup</td>\n      <td>44123</td>\n      <td>90</td>\n      <td>35193</td>\n      <td>2002-10-25</td>\n      <td>NaN</td>\n      <td>an original recipe created by chef scott meska...</td>\n      <td>18.00000</td>\n      <td>330.00000</td>\n    </tr>\n    <tr>\n      <th>1</th>\n      <td>healthy for them  yogurt popsicles</td>\n      <td>67664</td>\n      <td>10</td>\n      <td>91970</td>\n      <td>2003-07-26</td>\n      <td>NaN</td>\n      <td>my children and their friends ask for my homem...</td>\n      <td>NaN</td>\n      <td>255.00000</td>\n    </tr>\n    <tr>\n      <th>2</th>\n      <td>i can t believe it s spinach</td>\n      <td>38798</td>\n      <td>30</td>\n      <td>1533</td>\n      <td>2002-08-29</td>\n      <td>NaN</td>\n      <td>these were so go, it surprised even me.</td>\n      <td>8.00000</td>\n      <td>39.00000</td>\n    </tr>\n    <tr>\n      <th>3</th>\n      <td>italian  gut busters</td>\n      <td>35173</td>\n      <td>45</td>\n      <td>22724</td>\n      <td>2002-07-27</td>\n      <td>NaN</td>\n      <td>my sister-in-law made these for us at a family...</td>\n      <td>NaN</td>\n      <td>154.00000</td>\n    </tr>\n    <tr>\n      <th>4</th>\n      <td>love is in the air  beef fondue   sauces</td>\n      <td>84797</td>\n      <td>25</td>\n      <td>4470</td>\n      <td>2004-02-23</td>\n      <td>4.00000</td>\n      <td>i think a fondue is a very romantic casual din...</td>\n      <td>NaN</td>\n      <td>587.00000</td>\n    </tr>\n    <tr>\n      <th>...</th>\n      <td>...</td>\n      <td>...</td>\n      <td>...</td>\n      <td>...</td>\n      <td>...</td>\n      <td>...</td>\n      <td>...</td>\n      <td>...</td>\n      <td>...</td>\n    </tr>\n    <tr>\n      <th>29995</th>\n      <td>zurie s holey rustic olive and cheddar bread</td>\n      <td>267661</td>\n      <td>80</td>\n      <td>200862</td>\n      <td>2007-11-25</td>\n      <td>16.00000</td>\n      <td>this is based on a french recipe but i changed...</td>\n      <td>10.00000</td>\n      <td>484.00000</td>\n    </tr>\n    <tr>\n      <th>29996</th>\n      <td>zwetschgenkuchen  bavarian plum cake</td>\n      <td>386977</td>\n      <td>240</td>\n      <td>177443</td>\n      <td>2009-08-24</td>\n      <td>NaN</td>\n      <td>this is a traditional fresh plum cake, thought...</td>\n      <td>11.00000</td>\n      <td>286.00000</td>\n    </tr>\n    <tr>\n      <th>29997</th>\n      <td>zwiebelkuchen   southwest german onion cake</td>\n      <td>103312</td>\n      <td>75</td>\n      <td>161745</td>\n      <td>2004-11-03</td>\n      <td>NaN</td>\n      <td>this is a traditional late summer early fall s...</td>\n      <td>NaN</td>\n      <td>311.00000</td>\n    </tr>\n    <tr>\n      <th>29998</th>\n      <td>zydeco soup</td>\n      <td>486161</td>\n      <td>60</td>\n      <td>227978</td>\n      <td>2012-08-29</td>\n      <td>NaN</td>\n      <td>this is a delicious soup that i originally fou...</td>\n      <td>NaN</td>\n      <td>648.00000</td>\n    </tr>\n    <tr>\n      <th>29999</th>\n      <td>cookies by design   cookies on a stick</td>\n      <td>298512</td>\n      <td>29</td>\n      <td>506822</td>\n      <td>2008-04-15</td>\n      <td>9.00000</td>\n      <td>i've heard of the 'cookies by design' company,...</td>\n      <td>10.00000</td>\n      <td>125.00000</td>\n    </tr>\n  </tbody>\n</table>\n<p>30000 rows × 9 columns</p>\n</div>"
     },
     "execution_count": 18,
     "metadata": {},
     "output_type": "execute_result"
    }
   ],
   "source": [
    "recipes[\"description_length\"] = recipes[\"description\"].str.len()\n",
    "\n",
    "recipes"
   ],
   "metadata": {
    "collapsed": false
   }
  },
  {
   "cell_type": "markdown",
   "metadata": {
    "id": "l2Vmnys_xHI9"
   },
   "source": [
    "3.2 Измените название каждого рецепта в таблице `recipes` таким образом, чтобы каждое слово в названии начиналось с прописной буквы."
   ]
  },
  {
   "cell_type": "code",
   "execution_count": 19,
   "outputs": [
    {
     "data": {
      "text/plain": "                                               name      id  minutes  \\\n0             George s at the cove  black bean soup   44123       90   \n1                Healthy for them  yogurt popsicles   67664       10   \n2                      I can t believe it s spinach   38798       30   \n3                              Italian  gut busters   35173       45   \n4          Love is in the air  beef fondue   sauces   84797       25   \n...                                             ...     ...      ...   \n29995  Zurie s holey rustic olive and cheddar bread  267661       80   \n29996          Zwetschgenkuchen  bavarian plum cake  386977      240   \n29997   Zwiebelkuchen   southwest german onion cake  103312       75   \n29998                                   Zydeco soup  486161       60   \n29999        Cookies by design   cookies on a stick  298512       29   \n\n       contributor_id  submitted  n_steps  \\\n0               35193 2002-10-25      NaN   \n1               91970 2003-07-26      NaN   \n2                1533 2002-08-29      NaN   \n3               22724 2002-07-27      NaN   \n4                4470 2004-02-23  4.00000   \n...               ...        ...      ...   \n29995          200862 2007-11-25 16.00000   \n29996          177443 2009-08-24      NaN   \n29997          161745 2004-11-03      NaN   \n29998          227978 2012-08-29      NaN   \n29999          506822 2008-04-15  9.00000   \n\n                                             description  n_ingredients  \\\n0      an original recipe created by chef scott meska...       18.00000   \n1      my children and their friends ask for my homem...            NaN   \n2                these were so go, it surprised even me.        8.00000   \n3      my sister-in-law made these for us at a family...            NaN   \n4      i think a fondue is a very romantic casual din...            NaN   \n...                                                  ...            ...   \n29995  this is based on a french recipe but i changed...       10.00000   \n29996  this is a traditional fresh plum cake, thought...       11.00000   \n29997  this is a traditional late summer early fall s...            NaN   \n29998  this is a delicious soup that i originally fou...            NaN   \n29999  i've heard of the 'cookies by design' company,...       10.00000   \n\n       description_length  \n0               330.00000  \n1               255.00000  \n2                39.00000  \n3               154.00000  \n4               587.00000  \n...                   ...  \n29995           484.00000  \n29996           286.00000  \n29997           311.00000  \n29998           648.00000  \n29999           125.00000  \n\n[30000 rows x 9 columns]",
      "text/html": "<div>\n<style scoped>\n    .dataframe tbody tr th:only-of-type {\n        vertical-align: middle;\n    }\n\n    .dataframe tbody tr th {\n        vertical-align: top;\n    }\n\n    .dataframe thead th {\n        text-align: right;\n    }\n</style>\n<table border=\"1\" class=\"dataframe\">\n  <thead>\n    <tr style=\"text-align: right;\">\n      <th></th>\n      <th>name</th>\n      <th>id</th>\n      <th>minutes</th>\n      <th>contributor_id</th>\n      <th>submitted</th>\n      <th>n_steps</th>\n      <th>description</th>\n      <th>n_ingredients</th>\n      <th>description_length</th>\n    </tr>\n  </thead>\n  <tbody>\n    <tr>\n      <th>0</th>\n      <td>George s at the cove  black bean soup</td>\n      <td>44123</td>\n      <td>90</td>\n      <td>35193</td>\n      <td>2002-10-25</td>\n      <td>NaN</td>\n      <td>an original recipe created by chef scott meska...</td>\n      <td>18.00000</td>\n      <td>330.00000</td>\n    </tr>\n    <tr>\n      <th>1</th>\n      <td>Healthy for them  yogurt popsicles</td>\n      <td>67664</td>\n      <td>10</td>\n      <td>91970</td>\n      <td>2003-07-26</td>\n      <td>NaN</td>\n      <td>my children and their friends ask for my homem...</td>\n      <td>NaN</td>\n      <td>255.00000</td>\n    </tr>\n    <tr>\n      <th>2</th>\n      <td>I can t believe it s spinach</td>\n      <td>38798</td>\n      <td>30</td>\n      <td>1533</td>\n      <td>2002-08-29</td>\n      <td>NaN</td>\n      <td>these were so go, it surprised even me.</td>\n      <td>8.00000</td>\n      <td>39.00000</td>\n    </tr>\n    <tr>\n      <th>3</th>\n      <td>Italian  gut busters</td>\n      <td>35173</td>\n      <td>45</td>\n      <td>22724</td>\n      <td>2002-07-27</td>\n      <td>NaN</td>\n      <td>my sister-in-law made these for us at a family...</td>\n      <td>NaN</td>\n      <td>154.00000</td>\n    </tr>\n    <tr>\n      <th>4</th>\n      <td>Love is in the air  beef fondue   sauces</td>\n      <td>84797</td>\n      <td>25</td>\n      <td>4470</td>\n      <td>2004-02-23</td>\n      <td>4.00000</td>\n      <td>i think a fondue is a very romantic casual din...</td>\n      <td>NaN</td>\n      <td>587.00000</td>\n    </tr>\n    <tr>\n      <th>...</th>\n      <td>...</td>\n      <td>...</td>\n      <td>...</td>\n      <td>...</td>\n      <td>...</td>\n      <td>...</td>\n      <td>...</td>\n      <td>...</td>\n      <td>...</td>\n    </tr>\n    <tr>\n      <th>29995</th>\n      <td>Zurie s holey rustic olive and cheddar bread</td>\n      <td>267661</td>\n      <td>80</td>\n      <td>200862</td>\n      <td>2007-11-25</td>\n      <td>16.00000</td>\n      <td>this is based on a french recipe but i changed...</td>\n      <td>10.00000</td>\n      <td>484.00000</td>\n    </tr>\n    <tr>\n      <th>29996</th>\n      <td>Zwetschgenkuchen  bavarian plum cake</td>\n      <td>386977</td>\n      <td>240</td>\n      <td>177443</td>\n      <td>2009-08-24</td>\n      <td>NaN</td>\n      <td>this is a traditional fresh plum cake, thought...</td>\n      <td>11.00000</td>\n      <td>286.00000</td>\n    </tr>\n    <tr>\n      <th>29997</th>\n      <td>Zwiebelkuchen   southwest german onion cake</td>\n      <td>103312</td>\n      <td>75</td>\n      <td>161745</td>\n      <td>2004-11-03</td>\n      <td>NaN</td>\n      <td>this is a traditional late summer early fall s...</td>\n      <td>NaN</td>\n      <td>311.00000</td>\n    </tr>\n    <tr>\n      <th>29998</th>\n      <td>Zydeco soup</td>\n      <td>486161</td>\n      <td>60</td>\n      <td>227978</td>\n      <td>2012-08-29</td>\n      <td>NaN</td>\n      <td>this is a delicious soup that i originally fou...</td>\n      <td>NaN</td>\n      <td>648.00000</td>\n    </tr>\n    <tr>\n      <th>29999</th>\n      <td>Cookies by design   cookies on a stick</td>\n      <td>298512</td>\n      <td>29</td>\n      <td>506822</td>\n      <td>2008-04-15</td>\n      <td>9.00000</td>\n      <td>i've heard of the 'cookies by design' company,...</td>\n      <td>10.00000</td>\n      <td>125.00000</td>\n    </tr>\n  </tbody>\n</table>\n<p>30000 rows × 9 columns</p>\n</div>"
     },
     "execution_count": 19,
     "metadata": {},
     "output_type": "execute_result"
    }
   ],
   "source": [
    "recipes[\"name\"] = recipes[\"name\"].str.capitalize()  # lower()\n",
    "\n",
    "recipes"
   ],
   "metadata": {
    "collapsed": false
   }
  },
  {
   "cell_type": "markdown",
   "metadata": {
    "id": "u92n8693xHI-"
   },
   "source": [
    "3.3 Добавьте в таблицу `recipes` столбец `name_word_count`, в котором хранится количество слов из названии рецепта (считайте, что слова в названии разделяются только пробелами). Обратите внимание, что между словами может располагаться несколько пробелов подряд."
   ]
  },
  {
   "cell_type": "code",
   "execution_count": 20,
   "outputs": [
    {
     "data": {
      "text/plain": "                                               name      id  minutes  \\\n0             George s at the cove  black bean soup   44123       90   \n1                Healthy for them  yogurt popsicles   67664       10   \n2                      I can t believe it s spinach   38798       30   \n3                              Italian  gut busters   35173       45   \n4          Love is in the air  beef fondue   sauces   84797       25   \n...                                             ...     ...      ...   \n29995  Zurie s holey rustic olive and cheddar bread  267661       80   \n29996          Zwetschgenkuchen  bavarian plum cake  386977      240   \n29997   Zwiebelkuchen   southwest german onion cake  103312       75   \n29998                                   Zydeco soup  486161       60   \n29999        Cookies by design   cookies on a stick  298512       29   \n\n       contributor_id  submitted  n_steps  \\\n0               35193 2002-10-25      NaN   \n1               91970 2003-07-26      NaN   \n2                1533 2002-08-29      NaN   \n3               22724 2002-07-27      NaN   \n4                4470 2004-02-23  4.00000   \n...               ...        ...      ...   \n29995          200862 2007-11-25 16.00000   \n29996          177443 2009-08-24      NaN   \n29997          161745 2004-11-03      NaN   \n29998          227978 2012-08-29      NaN   \n29999          506822 2008-04-15  9.00000   \n\n                                             description  n_ingredients  \\\n0      an original recipe created by chef scott meska...       18.00000   \n1      my children and their friends ask for my homem...            NaN   \n2                these were so go, it surprised even me.        8.00000   \n3      my sister-in-law made these for us at a family...            NaN   \n4      i think a fondue is a very romantic casual din...            NaN   \n...                                                  ...            ...   \n29995  this is based on a french recipe but i changed...       10.00000   \n29996  this is a traditional fresh plum cake, thought...       11.00000   \n29997  this is a traditional late summer early fall s...            NaN   \n29998  this is a delicious soup that i originally fou...            NaN   \n29999  i've heard of the 'cookies by design' company,...       10.00000   \n\n       description_length  name_word_count  \n0               330.00000                8  \n1               255.00000                5  \n2                39.00000                7  \n3               154.00000                3  \n4               587.00000                8  \n...                   ...              ...  \n29995           484.00000                8  \n29996           286.00000                4  \n29997           311.00000                5  \n29998           648.00000                2  \n29999           125.00000                7  \n\n[30000 rows x 10 columns]",
      "text/html": "<div>\n<style scoped>\n    .dataframe tbody tr th:only-of-type {\n        vertical-align: middle;\n    }\n\n    .dataframe tbody tr th {\n        vertical-align: top;\n    }\n\n    .dataframe thead th {\n        text-align: right;\n    }\n</style>\n<table border=\"1\" class=\"dataframe\">\n  <thead>\n    <tr style=\"text-align: right;\">\n      <th></th>\n      <th>name</th>\n      <th>id</th>\n      <th>minutes</th>\n      <th>contributor_id</th>\n      <th>submitted</th>\n      <th>n_steps</th>\n      <th>description</th>\n      <th>n_ingredients</th>\n      <th>description_length</th>\n      <th>name_word_count</th>\n    </tr>\n  </thead>\n  <tbody>\n    <tr>\n      <th>0</th>\n      <td>George s at the cove  black bean soup</td>\n      <td>44123</td>\n      <td>90</td>\n      <td>35193</td>\n      <td>2002-10-25</td>\n      <td>NaN</td>\n      <td>an original recipe created by chef scott meska...</td>\n      <td>18.00000</td>\n      <td>330.00000</td>\n      <td>8</td>\n    </tr>\n    <tr>\n      <th>1</th>\n      <td>Healthy for them  yogurt popsicles</td>\n      <td>67664</td>\n      <td>10</td>\n      <td>91970</td>\n      <td>2003-07-26</td>\n      <td>NaN</td>\n      <td>my children and their friends ask for my homem...</td>\n      <td>NaN</td>\n      <td>255.00000</td>\n      <td>5</td>\n    </tr>\n    <tr>\n      <th>2</th>\n      <td>I can t believe it s spinach</td>\n      <td>38798</td>\n      <td>30</td>\n      <td>1533</td>\n      <td>2002-08-29</td>\n      <td>NaN</td>\n      <td>these were so go, it surprised even me.</td>\n      <td>8.00000</td>\n      <td>39.00000</td>\n      <td>7</td>\n    </tr>\n    <tr>\n      <th>3</th>\n      <td>Italian  gut busters</td>\n      <td>35173</td>\n      <td>45</td>\n      <td>22724</td>\n      <td>2002-07-27</td>\n      <td>NaN</td>\n      <td>my sister-in-law made these for us at a family...</td>\n      <td>NaN</td>\n      <td>154.00000</td>\n      <td>3</td>\n    </tr>\n    <tr>\n      <th>4</th>\n      <td>Love is in the air  beef fondue   sauces</td>\n      <td>84797</td>\n      <td>25</td>\n      <td>4470</td>\n      <td>2004-02-23</td>\n      <td>4.00000</td>\n      <td>i think a fondue is a very romantic casual din...</td>\n      <td>NaN</td>\n      <td>587.00000</td>\n      <td>8</td>\n    </tr>\n    <tr>\n      <th>...</th>\n      <td>...</td>\n      <td>...</td>\n      <td>...</td>\n      <td>...</td>\n      <td>...</td>\n      <td>...</td>\n      <td>...</td>\n      <td>...</td>\n      <td>...</td>\n      <td>...</td>\n    </tr>\n    <tr>\n      <th>29995</th>\n      <td>Zurie s holey rustic olive and cheddar bread</td>\n      <td>267661</td>\n      <td>80</td>\n      <td>200862</td>\n      <td>2007-11-25</td>\n      <td>16.00000</td>\n      <td>this is based on a french recipe but i changed...</td>\n      <td>10.00000</td>\n      <td>484.00000</td>\n      <td>8</td>\n    </tr>\n    <tr>\n      <th>29996</th>\n      <td>Zwetschgenkuchen  bavarian plum cake</td>\n      <td>386977</td>\n      <td>240</td>\n      <td>177443</td>\n      <td>2009-08-24</td>\n      <td>NaN</td>\n      <td>this is a traditional fresh plum cake, thought...</td>\n      <td>11.00000</td>\n      <td>286.00000</td>\n      <td>4</td>\n    </tr>\n    <tr>\n      <th>29997</th>\n      <td>Zwiebelkuchen   southwest german onion cake</td>\n      <td>103312</td>\n      <td>75</td>\n      <td>161745</td>\n      <td>2004-11-03</td>\n      <td>NaN</td>\n      <td>this is a traditional late summer early fall s...</td>\n      <td>NaN</td>\n      <td>311.00000</td>\n      <td>5</td>\n    </tr>\n    <tr>\n      <th>29998</th>\n      <td>Zydeco soup</td>\n      <td>486161</td>\n      <td>60</td>\n      <td>227978</td>\n      <td>2012-08-29</td>\n      <td>NaN</td>\n      <td>this is a delicious soup that i originally fou...</td>\n      <td>NaN</td>\n      <td>648.00000</td>\n      <td>2</td>\n    </tr>\n    <tr>\n      <th>29999</th>\n      <td>Cookies by design   cookies on a stick</td>\n      <td>298512</td>\n      <td>29</td>\n      <td>506822</td>\n      <td>2008-04-15</td>\n      <td>9.00000</td>\n      <td>i've heard of the 'cookies by design' company,...</td>\n      <td>10.00000</td>\n      <td>125.00000</td>\n      <td>7</td>\n    </tr>\n  </tbody>\n</table>\n<p>30000 rows × 10 columns</p>\n</div>"
     },
     "execution_count": 20,
     "metadata": {},
     "output_type": "execute_result"
    }
   ],
   "source": [
    "recipes[\"name_word_count\"] = [len(x.split()) for x in recipes[\"name\"]]  # recipes[\"name\"].str.split().str.len()\n",
    "\n",
    "recipes"
   ],
   "metadata": {
    "collapsed": false
   }
  },
  {
   "cell_type": "markdown",
   "metadata": {
    "id": "tCnzaoQwxHI-"
   },
   "source": [
    "### Группировки таблиц `pd.DataFrame`"
   ]
  },
  {
   "cell_type": "markdown",
   "metadata": {
    "id": "GoisLW4AxHI-"
   },
   "source": [
    "4.1 Посчитайте количество рецептов, представленных каждым из участников (`contributor_id`). Какой участник добавил максимальное кол-во рецептов?"
   ]
  },
  {
   "cell_type": "code",
   "execution_count": 21,
   "outputs": [
    {
     "data": {
      "text/plain": "contributor_id\n1530            5\n1533          186\n1534           50\n1535           40\n1538            8\n             ... \n2001968497      2\n2002059754      1\n2002234079      1\n2002234259      1\n2002247884      1\nName: name, Length: 8404, dtype: int64"
     },
     "execution_count": 21,
     "metadata": {},
     "output_type": "execute_result"
    }
   ],
   "source": [
    "recipes.groupby(\"contributor_id\")[\"name\"].count()"
   ],
   "metadata": {
    "collapsed": false
   }
  },
  {
   "cell_type": "code",
   "execution_count": 22,
   "outputs": [
    {
     "name": "stdout",
     "output_type": "stream",
     "text": [
      "Contributor_id участника с наибольших кол-вом рецептов: 89831\n",
      "Он добавил: 421 рецептов\n"
     ]
    }
   ],
   "source": [
    "max_participant = recipes.groupby(\"contributor_id\")[\"name\"].count().idxmax()  # contributor_id участника с наибольших кол-вом рецептов\n",
    "\n",
    "max_participant_quantity = recipes.groupby(\"contributor_id\")[\"name\"].count()[max_participant]  # сколько рецептов он добавил\n",
    "\n",
    "print(f\"Contributor_id участника с наибольших кол-вом рецептов: {max_participant}\\n\"\n",
    "      f\"Он добавил: {max_participant_quantity} рецептов\")"
   ],
   "metadata": {
    "collapsed": false
   }
  },
  {
   "cell_type": "markdown",
   "metadata": {
    "id": "7_IB8XIVxHI_"
   },
   "source": [
    "4.2 Посчитайте средний рейтинг к каждому из рецептов. Для скольких рецептов отсутствуют отзывы? Обратите внимание, что отзыв с нулевым рейтингом или не заполненным текстовым описанием не считается отсутствующим."
   ]
  },
  {
   "cell_type": "code",
   "execution_count": 23,
   "outputs": [
    {
     "data": {
      "text/plain": "                                          name      id  minutes  \\\n0        George s at the cove  black bean soup   44123       90   \n1        George s at the cove  black bean soup   44123       90   \n2        George s at the cove  black bean soup   44123       90   \n3           Healthy for them  yogurt popsicles   67664       10   \n4           Healthy for them  yogurt popsicles   67664       10   \n...                                        ...     ...      ...   \n126691                             Zydeco soup  486161       60   \n126692                             Zydeco soup  486161       60   \n126693                             Zydeco soup  486161       60   \n126694                             Zydeco soup  486161       60   \n126695  Cookies by design   cookies on a stick  298512       29   \n\n        contributor_id  submitted  n_steps  \\\n0                35193 2002-10-25      NaN   \n1                35193 2002-10-25      NaN   \n2                35193 2002-10-25      NaN   \n3                91970 2003-07-26      NaN   \n4                91970 2003-07-26      NaN   \n...                ...        ...      ...   \n126691          227978 2012-08-29      NaN   \n126692          227978 2012-08-29      NaN   \n126693          227978 2012-08-29      NaN   \n126694          227978 2012-08-29      NaN   \n126695          506822 2008-04-15  9.00000   \n\n                                              description  n_ingredients  \\\n0       an original recipe created by chef scott meska...       18.00000   \n1       an original recipe created by chef scott meska...       18.00000   \n2       an original recipe created by chef scott meska...       18.00000   \n3       my children and their friends ask for my homem...            NaN   \n4       my children and their friends ask for my homem...            NaN   \n...                                                   ...            ...   \n126691  this is a delicious soup that i originally fou...            NaN   \n126692  this is a delicious soup that i originally fou...            NaN   \n126693  this is a delicious soup that i originally fou...            NaN   \n126694  this is a delicious soup that i originally fou...            NaN   \n126695  i've heard of the 'cookies by design' company,...       10.00000   \n\n        description_length  name_word_count  user_id  recipe_id        date  \\\n0                330.00000                8   743566      44123  2008-01-28   \n1                330.00000                8    76503      44123  2003-06-03   \n2                330.00000                8    34206      44123  2003-03-23   \n3                255.00000                5   494084      67664  2012-09-26   \n4                255.00000                5   303445      67664  2012-03-31   \n...                    ...              ...      ...        ...         ...   \n126691           648.00000                2   305531     486161  2013-07-18   \n126692           648.00000                2  1271506     486161  2012-09-10   \n126693           648.00000                2   724631     486161  2014-01-07   \n126694           648.00000                2   133174     486161  2013-07-18   \n126695           125.00000                7   804234     298512  2008-05-02   \n\n        rating                                             review  \n0            5  I lived in San Diego for 19 years and  would g...  \n1            5  This soup is the Bomb! Don't hesitate to try.....  \n2            5  I just can't say enough about how wonderful th...  \n3            5  These are great!  I use 100% (organic) juice a...  \n4            5  Very, very good.  My son loves these.  He like...  \n...        ...                                                ...  \n126691       5  Delish! I made this as directed but used a smo...  \n126692       5  Now the only substitution I made was African B...  \n126693       5  Very tasty soup, moderate spiciness (even afte...  \n126694       5  Very yummy indeed.  A spicy sausage was used i...  \n126695       1  I would rate this a zero if I could. I followe...  \n\n[126696 rows x 15 columns]",
      "text/html": "<div>\n<style scoped>\n    .dataframe tbody tr th:only-of-type {\n        vertical-align: middle;\n    }\n\n    .dataframe tbody tr th {\n        vertical-align: top;\n    }\n\n    .dataframe thead th {\n        text-align: right;\n    }\n</style>\n<table border=\"1\" class=\"dataframe\">\n  <thead>\n    <tr style=\"text-align: right;\">\n      <th></th>\n      <th>name</th>\n      <th>id</th>\n      <th>minutes</th>\n      <th>contributor_id</th>\n      <th>submitted</th>\n      <th>n_steps</th>\n      <th>description</th>\n      <th>n_ingredients</th>\n      <th>description_length</th>\n      <th>name_word_count</th>\n      <th>user_id</th>\n      <th>recipe_id</th>\n      <th>date</th>\n      <th>rating</th>\n      <th>review</th>\n    </tr>\n  </thead>\n  <tbody>\n    <tr>\n      <th>0</th>\n      <td>George s at the cove  black bean soup</td>\n      <td>44123</td>\n      <td>90</td>\n      <td>35193</td>\n      <td>2002-10-25</td>\n      <td>NaN</td>\n      <td>an original recipe created by chef scott meska...</td>\n      <td>18.00000</td>\n      <td>330.00000</td>\n      <td>8</td>\n      <td>743566</td>\n      <td>44123</td>\n      <td>2008-01-28</td>\n      <td>5</td>\n      <td>I lived in San Diego for 19 years and  would g...</td>\n    </tr>\n    <tr>\n      <th>1</th>\n      <td>George s at the cove  black bean soup</td>\n      <td>44123</td>\n      <td>90</td>\n      <td>35193</td>\n      <td>2002-10-25</td>\n      <td>NaN</td>\n      <td>an original recipe created by chef scott meska...</td>\n      <td>18.00000</td>\n      <td>330.00000</td>\n      <td>8</td>\n      <td>76503</td>\n      <td>44123</td>\n      <td>2003-06-03</td>\n      <td>5</td>\n      <td>This soup is the Bomb! Don't hesitate to try.....</td>\n    </tr>\n    <tr>\n      <th>2</th>\n      <td>George s at the cove  black bean soup</td>\n      <td>44123</td>\n      <td>90</td>\n      <td>35193</td>\n      <td>2002-10-25</td>\n      <td>NaN</td>\n      <td>an original recipe created by chef scott meska...</td>\n      <td>18.00000</td>\n      <td>330.00000</td>\n      <td>8</td>\n      <td>34206</td>\n      <td>44123</td>\n      <td>2003-03-23</td>\n      <td>5</td>\n      <td>I just can't say enough about how wonderful th...</td>\n    </tr>\n    <tr>\n      <th>3</th>\n      <td>Healthy for them  yogurt popsicles</td>\n      <td>67664</td>\n      <td>10</td>\n      <td>91970</td>\n      <td>2003-07-26</td>\n      <td>NaN</td>\n      <td>my children and their friends ask for my homem...</td>\n      <td>NaN</td>\n      <td>255.00000</td>\n      <td>5</td>\n      <td>494084</td>\n      <td>67664</td>\n      <td>2012-09-26</td>\n      <td>5</td>\n      <td>These are great!  I use 100% (organic) juice a...</td>\n    </tr>\n    <tr>\n      <th>4</th>\n      <td>Healthy for them  yogurt popsicles</td>\n      <td>67664</td>\n      <td>10</td>\n      <td>91970</td>\n      <td>2003-07-26</td>\n      <td>NaN</td>\n      <td>my children and their friends ask for my homem...</td>\n      <td>NaN</td>\n      <td>255.00000</td>\n      <td>5</td>\n      <td>303445</td>\n      <td>67664</td>\n      <td>2012-03-31</td>\n      <td>5</td>\n      <td>Very, very good.  My son loves these.  He like...</td>\n    </tr>\n    <tr>\n      <th>...</th>\n      <td>...</td>\n      <td>...</td>\n      <td>...</td>\n      <td>...</td>\n      <td>...</td>\n      <td>...</td>\n      <td>...</td>\n      <td>...</td>\n      <td>...</td>\n      <td>...</td>\n      <td>...</td>\n      <td>...</td>\n      <td>...</td>\n      <td>...</td>\n      <td>...</td>\n    </tr>\n    <tr>\n      <th>126691</th>\n      <td>Zydeco soup</td>\n      <td>486161</td>\n      <td>60</td>\n      <td>227978</td>\n      <td>2012-08-29</td>\n      <td>NaN</td>\n      <td>this is a delicious soup that i originally fou...</td>\n      <td>NaN</td>\n      <td>648.00000</td>\n      <td>2</td>\n      <td>305531</td>\n      <td>486161</td>\n      <td>2013-07-18</td>\n      <td>5</td>\n      <td>Delish! I made this as directed but used a smo...</td>\n    </tr>\n    <tr>\n      <th>126692</th>\n      <td>Zydeco soup</td>\n      <td>486161</td>\n      <td>60</td>\n      <td>227978</td>\n      <td>2012-08-29</td>\n      <td>NaN</td>\n      <td>this is a delicious soup that i originally fou...</td>\n      <td>NaN</td>\n      <td>648.00000</td>\n      <td>2</td>\n      <td>1271506</td>\n      <td>486161</td>\n      <td>2012-09-10</td>\n      <td>5</td>\n      <td>Now the only substitution I made was African B...</td>\n    </tr>\n    <tr>\n      <th>126693</th>\n      <td>Zydeco soup</td>\n      <td>486161</td>\n      <td>60</td>\n      <td>227978</td>\n      <td>2012-08-29</td>\n      <td>NaN</td>\n      <td>this is a delicious soup that i originally fou...</td>\n      <td>NaN</td>\n      <td>648.00000</td>\n      <td>2</td>\n      <td>724631</td>\n      <td>486161</td>\n      <td>2014-01-07</td>\n      <td>5</td>\n      <td>Very tasty soup, moderate spiciness (even afte...</td>\n    </tr>\n    <tr>\n      <th>126694</th>\n      <td>Zydeco soup</td>\n      <td>486161</td>\n      <td>60</td>\n      <td>227978</td>\n      <td>2012-08-29</td>\n      <td>NaN</td>\n      <td>this is a delicious soup that i originally fou...</td>\n      <td>NaN</td>\n      <td>648.00000</td>\n      <td>2</td>\n      <td>133174</td>\n      <td>486161</td>\n      <td>2013-07-18</td>\n      <td>5</td>\n      <td>Very yummy indeed.  A spicy sausage was used i...</td>\n    </tr>\n    <tr>\n      <th>126695</th>\n      <td>Cookies by design   cookies on a stick</td>\n      <td>298512</td>\n      <td>29</td>\n      <td>506822</td>\n      <td>2008-04-15</td>\n      <td>9.00000</td>\n      <td>i've heard of the 'cookies by design' company,...</td>\n      <td>10.00000</td>\n      <td>125.00000</td>\n      <td>7</td>\n      <td>804234</td>\n      <td>298512</td>\n      <td>2008-05-02</td>\n      <td>1</td>\n      <td>I would rate this a zero if I could. I followe...</td>\n    </tr>\n  </tbody>\n</table>\n<p>126696 rows × 15 columns</p>\n</div>"
     },
     "execution_count": 23,
     "metadata": {},
     "output_type": "execute_result"
    }
   ],
   "source": [
    "recipes_with_reviews_inner = pd.merge(recipes, reviews, left_on=\"id\", right_on=\"recipe_id\")\n",
    "\n",
    "recipes_with_reviews_inner # Все рецепты с имеющимися отзывами"
   ],
   "metadata": {
    "collapsed": false
   }
  },
  {
   "cell_type": "code",
   "execution_count": 24,
   "outputs": [
    {
     "data": {
      "text/plain": "recipe_id\n48       1.00000\n55       4.75000\n66       4.94444\n91       4.75000\n94       5.00000\n           ...  \n536547   5.00000\n536610   0.00000\n536728   4.00000\n536729   4.75000\n536747   0.00000\nName: rating, Length: 28100, dtype: float64"
     },
     "execution_count": 24,
     "metadata": {},
     "output_type": "execute_result"
    }
   ],
   "source": [
    "recipes_with_reviews_inner.groupby(\"recipe_id\")[\"rating\"].mean() # Средний рейтинг каждого из рецептов"
   ],
   "metadata": {
    "collapsed": false
   }
  },
  {
   "cell_type": "code",
   "execution_count": 25,
   "outputs": [
    {
     "data": {
      "text/plain": "                                          name      id  minutes  \\\n0        George s at the cove  black bean soup   44123       90   \n1        George s at the cove  black bean soup   44123       90   \n2        George s at the cove  black bean soup   44123       90   \n3           Healthy for them  yogurt popsicles   67664       10   \n4           Healthy for them  yogurt popsicles   67664       10   \n...                                        ...     ...      ...   \n128591                             Zydeco soup  486161       60   \n128592                             Zydeco soup  486161       60   \n128593                             Zydeco soup  486161       60   \n128594                             Zydeco soup  486161       60   \n128595  Cookies by design   cookies on a stick  298512       29   \n\n        contributor_id  submitted  n_steps  \\\n0                35193 2002-10-25      NaN   \n1                35193 2002-10-25      NaN   \n2                35193 2002-10-25      NaN   \n3                91970 2003-07-26      NaN   \n4                91970 2003-07-26      NaN   \n...                ...        ...      ...   \n128591          227978 2012-08-29      NaN   \n128592          227978 2012-08-29      NaN   \n128593          227978 2012-08-29      NaN   \n128594          227978 2012-08-29      NaN   \n128595          506822 2008-04-15  9.00000   \n\n                                              description  n_ingredients  \\\n0       an original recipe created by chef scott meska...       18.00000   \n1       an original recipe created by chef scott meska...       18.00000   \n2       an original recipe created by chef scott meska...       18.00000   \n3       my children and their friends ask for my homem...            NaN   \n4       my children and their friends ask for my homem...            NaN   \n...                                                   ...            ...   \n128591  this is a delicious soup that i originally fou...            NaN   \n128592  this is a delicious soup that i originally fou...            NaN   \n128593  this is a delicious soup that i originally fou...            NaN   \n128594  this is a delicious soup that i originally fou...            NaN   \n128595  i've heard of the 'cookies by design' company,...       10.00000   \n\n        description_length  name_word_count       user_id    recipe_id  \\\n0                330.00000                8  743566.00000  44123.00000   \n1                330.00000                8   76503.00000  44123.00000   \n2                330.00000                8   34206.00000  44123.00000   \n3                255.00000                5  494084.00000  67664.00000   \n4                255.00000                5  303445.00000  67664.00000   \n...                    ...              ...           ...          ...   \n128591           648.00000                2  305531.00000 486161.00000   \n128592           648.00000                2 1271506.00000 486161.00000   \n128593           648.00000                2  724631.00000 486161.00000   \n128594           648.00000                2  133174.00000 486161.00000   \n128595           125.00000                7  804234.00000 298512.00000   \n\n              date  rating                                             review  \n0       2008-01-28 5.00000  I lived in San Diego for 19 years and  would g...  \n1       2003-06-03 5.00000  This soup is the Bomb! Don't hesitate to try.....  \n2       2003-03-23 5.00000  I just can't say enough about how wonderful th...  \n3       2012-09-26 5.00000  These are great!  I use 100% (organic) juice a...  \n4       2012-03-31 5.00000  Very, very good.  My son loves these.  He like...  \n...            ...     ...                                                ...  \n128591  2013-07-18 5.00000  Delish! I made this as directed but used a smo...  \n128592  2012-09-10 5.00000  Now the only substitution I made was African B...  \n128593  2014-01-07 5.00000  Very tasty soup, moderate spiciness (even afte...  \n128594  2013-07-18 5.00000  Very yummy indeed.  A spicy sausage was used i...  \n128595  2008-05-02 1.00000  I would rate this a zero if I could. I followe...  \n\n[128596 rows x 15 columns]",
      "text/html": "<div>\n<style scoped>\n    .dataframe tbody tr th:only-of-type {\n        vertical-align: middle;\n    }\n\n    .dataframe tbody tr th {\n        vertical-align: top;\n    }\n\n    .dataframe thead th {\n        text-align: right;\n    }\n</style>\n<table border=\"1\" class=\"dataframe\">\n  <thead>\n    <tr style=\"text-align: right;\">\n      <th></th>\n      <th>name</th>\n      <th>id</th>\n      <th>minutes</th>\n      <th>contributor_id</th>\n      <th>submitted</th>\n      <th>n_steps</th>\n      <th>description</th>\n      <th>n_ingredients</th>\n      <th>description_length</th>\n      <th>name_word_count</th>\n      <th>user_id</th>\n      <th>recipe_id</th>\n      <th>date</th>\n      <th>rating</th>\n      <th>review</th>\n    </tr>\n  </thead>\n  <tbody>\n    <tr>\n      <th>0</th>\n      <td>George s at the cove  black bean soup</td>\n      <td>44123</td>\n      <td>90</td>\n      <td>35193</td>\n      <td>2002-10-25</td>\n      <td>NaN</td>\n      <td>an original recipe created by chef scott meska...</td>\n      <td>18.00000</td>\n      <td>330.00000</td>\n      <td>8</td>\n      <td>743566.00000</td>\n      <td>44123.00000</td>\n      <td>2008-01-28</td>\n      <td>5.00000</td>\n      <td>I lived in San Diego for 19 years and  would g...</td>\n    </tr>\n    <tr>\n      <th>1</th>\n      <td>George s at the cove  black bean soup</td>\n      <td>44123</td>\n      <td>90</td>\n      <td>35193</td>\n      <td>2002-10-25</td>\n      <td>NaN</td>\n      <td>an original recipe created by chef scott meska...</td>\n      <td>18.00000</td>\n      <td>330.00000</td>\n      <td>8</td>\n      <td>76503.00000</td>\n      <td>44123.00000</td>\n      <td>2003-06-03</td>\n      <td>5.00000</td>\n      <td>This soup is the Bomb! Don't hesitate to try.....</td>\n    </tr>\n    <tr>\n      <th>2</th>\n      <td>George s at the cove  black bean soup</td>\n      <td>44123</td>\n      <td>90</td>\n      <td>35193</td>\n      <td>2002-10-25</td>\n      <td>NaN</td>\n      <td>an original recipe created by chef scott meska...</td>\n      <td>18.00000</td>\n      <td>330.00000</td>\n      <td>8</td>\n      <td>34206.00000</td>\n      <td>44123.00000</td>\n      <td>2003-03-23</td>\n      <td>5.00000</td>\n      <td>I just can't say enough about how wonderful th...</td>\n    </tr>\n    <tr>\n      <th>3</th>\n      <td>Healthy for them  yogurt popsicles</td>\n      <td>67664</td>\n      <td>10</td>\n      <td>91970</td>\n      <td>2003-07-26</td>\n      <td>NaN</td>\n      <td>my children and their friends ask for my homem...</td>\n      <td>NaN</td>\n      <td>255.00000</td>\n      <td>5</td>\n      <td>494084.00000</td>\n      <td>67664.00000</td>\n      <td>2012-09-26</td>\n      <td>5.00000</td>\n      <td>These are great!  I use 100% (organic) juice a...</td>\n    </tr>\n    <tr>\n      <th>4</th>\n      <td>Healthy for them  yogurt popsicles</td>\n      <td>67664</td>\n      <td>10</td>\n      <td>91970</td>\n      <td>2003-07-26</td>\n      <td>NaN</td>\n      <td>my children and their friends ask for my homem...</td>\n      <td>NaN</td>\n      <td>255.00000</td>\n      <td>5</td>\n      <td>303445.00000</td>\n      <td>67664.00000</td>\n      <td>2012-03-31</td>\n      <td>5.00000</td>\n      <td>Very, very good.  My son loves these.  He like...</td>\n    </tr>\n    <tr>\n      <th>...</th>\n      <td>...</td>\n      <td>...</td>\n      <td>...</td>\n      <td>...</td>\n      <td>...</td>\n      <td>...</td>\n      <td>...</td>\n      <td>...</td>\n      <td>...</td>\n      <td>...</td>\n      <td>...</td>\n      <td>...</td>\n      <td>...</td>\n      <td>...</td>\n      <td>...</td>\n    </tr>\n    <tr>\n      <th>128591</th>\n      <td>Zydeco soup</td>\n      <td>486161</td>\n      <td>60</td>\n      <td>227978</td>\n      <td>2012-08-29</td>\n      <td>NaN</td>\n      <td>this is a delicious soup that i originally fou...</td>\n      <td>NaN</td>\n      <td>648.00000</td>\n      <td>2</td>\n      <td>305531.00000</td>\n      <td>486161.00000</td>\n      <td>2013-07-18</td>\n      <td>5.00000</td>\n      <td>Delish! I made this as directed but used a smo...</td>\n    </tr>\n    <tr>\n      <th>128592</th>\n      <td>Zydeco soup</td>\n      <td>486161</td>\n      <td>60</td>\n      <td>227978</td>\n      <td>2012-08-29</td>\n      <td>NaN</td>\n      <td>this is a delicious soup that i originally fou...</td>\n      <td>NaN</td>\n      <td>648.00000</td>\n      <td>2</td>\n      <td>1271506.00000</td>\n      <td>486161.00000</td>\n      <td>2012-09-10</td>\n      <td>5.00000</td>\n      <td>Now the only substitution I made was African B...</td>\n    </tr>\n    <tr>\n      <th>128593</th>\n      <td>Zydeco soup</td>\n      <td>486161</td>\n      <td>60</td>\n      <td>227978</td>\n      <td>2012-08-29</td>\n      <td>NaN</td>\n      <td>this is a delicious soup that i originally fou...</td>\n      <td>NaN</td>\n      <td>648.00000</td>\n      <td>2</td>\n      <td>724631.00000</td>\n      <td>486161.00000</td>\n      <td>2014-01-07</td>\n      <td>5.00000</td>\n      <td>Very tasty soup, moderate spiciness (even afte...</td>\n    </tr>\n    <tr>\n      <th>128594</th>\n      <td>Zydeco soup</td>\n      <td>486161</td>\n      <td>60</td>\n      <td>227978</td>\n      <td>2012-08-29</td>\n      <td>NaN</td>\n      <td>this is a delicious soup that i originally fou...</td>\n      <td>NaN</td>\n      <td>648.00000</td>\n      <td>2</td>\n      <td>133174.00000</td>\n      <td>486161.00000</td>\n      <td>2013-07-18</td>\n      <td>5.00000</td>\n      <td>Very yummy indeed.  A spicy sausage was used i...</td>\n    </tr>\n    <tr>\n      <th>128595</th>\n      <td>Cookies by design   cookies on a stick</td>\n      <td>298512</td>\n      <td>29</td>\n      <td>506822</td>\n      <td>2008-04-15</td>\n      <td>9.00000</td>\n      <td>i've heard of the 'cookies by design' company,...</td>\n      <td>10.00000</td>\n      <td>125.00000</td>\n      <td>7</td>\n      <td>804234.00000</td>\n      <td>298512.00000</td>\n      <td>2008-05-02</td>\n      <td>1.00000</td>\n      <td>I would rate this a zero if I could. I followe...</td>\n    </tr>\n  </tbody>\n</table>\n<p>128596 rows × 15 columns</p>\n</div>"
     },
     "execution_count": 25,
     "metadata": {},
     "output_type": "execute_result"
    }
   ],
   "source": [
    "recipes_with_reviews = pd.merge(recipes, reviews, left_on=\"id\", right_on=\"recipe_id\", how=\"outer\")\n",
    "\n",
    "recipes_with_reviews # Все рецепты, включая те, которые без отзывов"
   ],
   "metadata": {
    "collapsed": false
   }
  },
  {
   "cell_type": "code",
   "execution_count": 26,
   "outputs": [
    {
     "data": {
      "text/plain": "1900"
     },
     "execution_count": 26,
     "metadata": {},
     "output_type": "execute_result"
    }
   ],
   "source": [
    "recipes_with_reviews_diff = pd.concat([recipes_with_reviews, recipes_with_reviews_inner]).drop_duplicates(keep=False)\n",
    "\n",
    "len(recipes_with_reviews_diff.groupby(\"id\")) # Кол-во рецептов без отзывов\n"
   ],
   "metadata": {
    "collapsed": false
   }
  },
  {
   "cell_type": "markdown",
   "metadata": {
    "id": "aDXvfFlPxHI_"
   },
   "source": [
    "4.3 Посчитайте количество рецептов с разбивкой по годам создания."
   ]
  },
  {
   "cell_type": "code",
   "execution_count": 27,
   "outputs": [
    {
     "data": {
      "text/plain": "submitted\n1999     275\n2000     104\n2001     589\n2002    2644\n2003    2334\n2004    2153\n2005    3130\n2006    3473\n2007    4429\n2008    4029\n2009    2963\n2010    1538\n2011     922\n2012     659\n2013     490\n2014     139\n2015      42\n2016      24\n2017      39\n2018      24\nName: name, dtype: int64"
     },
     "execution_count": 27,
     "metadata": {},
     "output_type": "execute_result"
    }
   ],
   "source": [
    "recipes.groupby(recipes[\"submitted\"].dt.year).count()[\"name\"]"
   ],
   "metadata": {
    "collapsed": false
   }
  },
  {
   "cell_type": "markdown",
   "metadata": {
    "id": "WEN9vNaixHI_"
   },
   "source": [
    "### Объединение таблиц `pd.DataFrame`"
   ]
  },
  {
   "cell_type": "markdown",
   "metadata": {
    "id": "WgLHQRkWxHJA"
   },
   "source": [
    "5.1 При помощи объединения таблиц, создайте `DataFrame`, состоящий из четырех столбцов: `id`, `name`, `user_id`, `rating`. Рецепты, на которые не оставлен ни один отзыв, должны отсутствовать в полученной таблице. Подтвердите правильность работы вашего кода, выбрав рецепт, не имеющий отзывов, и попытавшись найти строку, соответствующую этому рецепту, в полученном `DataFrame`."
   ]
  },
  {
   "cell_type": "code",
   "execution_count": 28,
   "outputs": [
    {
     "data": {
      "text/plain": "            id                                    name  user_id  rating\n0        44123   George s at the cove  black bean soup   743566       5\n1        44123   George s at the cove  black bean soup    76503       5\n2        44123   George s at the cove  black bean soup    34206       5\n3        67664      Healthy for them  yogurt popsicles   494084       5\n4        67664      Healthy for them  yogurt popsicles   303445       5\n...        ...                                     ...      ...     ...\n126691  486161                             Zydeco soup   305531       5\n126692  486161                             Zydeco soup  1271506       5\n126693  486161                             Zydeco soup   724631       5\n126694  486161                             Zydeco soup   133174       5\n126695  298512  Cookies by design   cookies on a stick   804234       1\n\n[126696 rows x 4 columns]",
      "text/html": "<div>\n<style scoped>\n    .dataframe tbody tr th:only-of-type {\n        vertical-align: middle;\n    }\n\n    .dataframe tbody tr th {\n        vertical-align: top;\n    }\n\n    .dataframe thead th {\n        text-align: right;\n    }\n</style>\n<table border=\"1\" class=\"dataframe\">\n  <thead>\n    <tr style=\"text-align: right;\">\n      <th></th>\n      <th>id</th>\n      <th>name</th>\n      <th>user_id</th>\n      <th>rating</th>\n    </tr>\n  </thead>\n  <tbody>\n    <tr>\n      <th>0</th>\n      <td>44123</td>\n      <td>George s at the cove  black bean soup</td>\n      <td>743566</td>\n      <td>5</td>\n    </tr>\n    <tr>\n      <th>1</th>\n      <td>44123</td>\n      <td>George s at the cove  black bean soup</td>\n      <td>76503</td>\n      <td>5</td>\n    </tr>\n    <tr>\n      <th>2</th>\n      <td>44123</td>\n      <td>George s at the cove  black bean soup</td>\n      <td>34206</td>\n      <td>5</td>\n    </tr>\n    <tr>\n      <th>3</th>\n      <td>67664</td>\n      <td>Healthy for them  yogurt popsicles</td>\n      <td>494084</td>\n      <td>5</td>\n    </tr>\n    <tr>\n      <th>4</th>\n      <td>67664</td>\n      <td>Healthy for them  yogurt popsicles</td>\n      <td>303445</td>\n      <td>5</td>\n    </tr>\n    <tr>\n      <th>...</th>\n      <td>...</td>\n      <td>...</td>\n      <td>...</td>\n      <td>...</td>\n    </tr>\n    <tr>\n      <th>126691</th>\n      <td>486161</td>\n      <td>Zydeco soup</td>\n      <td>305531</td>\n      <td>5</td>\n    </tr>\n    <tr>\n      <th>126692</th>\n      <td>486161</td>\n      <td>Zydeco soup</td>\n      <td>1271506</td>\n      <td>5</td>\n    </tr>\n    <tr>\n      <th>126693</th>\n      <td>486161</td>\n      <td>Zydeco soup</td>\n      <td>724631</td>\n      <td>5</td>\n    </tr>\n    <tr>\n      <th>126694</th>\n      <td>486161</td>\n      <td>Zydeco soup</td>\n      <td>133174</td>\n      <td>5</td>\n    </tr>\n    <tr>\n      <th>126695</th>\n      <td>298512</td>\n      <td>Cookies by design   cookies on a stick</td>\n      <td>804234</td>\n      <td>1</td>\n    </tr>\n  </tbody>\n</table>\n<p>126696 rows × 4 columns</p>\n</div>"
     },
     "execution_count": 28,
     "metadata": {},
     "output_type": "execute_result"
    }
   ],
   "source": [
    "merged_dataframe = pd.merge(recipes, reviews, left_on=\"id\", right_on=\"recipe_id\", how=\"inner\")[[\"id\", \"name\", \"user_id\", \"rating\"]]\n",
    "\n",
    "merged_dataframe"
   ],
   "metadata": {
    "collapsed": false
   }
  },
  {
   "cell_type": "code",
   "execution_count": 29,
   "outputs": [
    {
     "data": {
      "text/plain": "Empty DataFrame\nColumns: [id, name, user_id, rating]\nIndex: []",
      "text/html": "<div>\n<style scoped>\n    .dataframe tbody tr th:only-of-type {\n        vertical-align: middle;\n    }\n\n    .dataframe tbody tr th {\n        vertical-align: top;\n    }\n\n    .dataframe thead th {\n        text-align: right;\n    }\n</style>\n<table border=\"1\" class=\"dataframe\">\n  <thead>\n    <tr style=\"text-align: right;\">\n      <th></th>\n      <th>id</th>\n      <th>name</th>\n      <th>user_id</th>\n      <th>rating</th>\n    </tr>\n  </thead>\n  <tbody>\n  </tbody>\n</table>\n</div>"
     },
     "execution_count": 29,
     "metadata": {},
     "output_type": "execute_result"
    }
   ],
   "source": [
    "# Проверка: ID рецепта без отзывов = 223349\n",
    "\n",
    "merged_dataframe[merged_dataframe[\"id\"] == 223349]"
   ],
   "metadata": {
    "collapsed": false
   }
  },
  {
   "cell_type": "markdown",
   "metadata": {
    "id": "nx8GX7kFxHJA"
   },
   "source": [
    "5.2 При помощи объединения таблиц и группировок, создайте `DataFrame`, состоящий из трех столбцов: `recipe_id`, `name`, `review_count`, где столбец `review_count` содержит кол-во отзывов, оставленных на рецепт `recipe_id`. У рецептов, на которые не оставлен ни один отзыв, в столбце `review_count` должен быть указан 0. Подтвердите правильность работы вашего кода, выбрав рецепт, не имеющий отзывов, и найдя строку, соответствующую этому рецепту, в полученном `DataFrame`."
   ]
  },
  {
   "cell_type": "code",
   "execution_count": 31,
   "outputs": [
    {
     "data": {
      "text/plain": "        name  minutes  contributor_id  submitted  n_steps  description  \\\nid                                                                       \n48         2        2               2          2        2            0   \n55         4        4               4          4        0            0   \n66        18       18              18         18        0           18   \n91         4        4               4          4        0            4   \n94         4        4               4          4        4            0   \n...      ...      ...             ...        ...      ...          ...   \n536547     1        1               1          1        1            1   \n536610     1        1               1          1        1            1   \n536728     1        1               1          1        0            1   \n536729     4        4               4          4        4            4   \n536747     4        4               4          4        4            4   \n\n        n_ingredients  description_length  name_word_count  user_id  \\\nid                                                                    \n48                  2                   0                2        2   \n55                  4                   0                4        4   \n66                 18                  18               18       18   \n91                  0                   4                4        4   \n94                  0                   0                4        4   \n...               ...                 ...              ...      ...   \n536547              1                   1                1        1   \n536610              0                   1                1        1   \n536728              1                   1                1        1   \n536729              0                   4                4        4   \n536747              4                   4                4        4   \n\n        recipe_id  date  rating  review  \nid                                       \n48              2     2       2       2  \n55              4     4       4       4  \n66             18    18      18      18  \n91              4     4       4       4  \n94              4     4       4       4  \n...           ...   ...     ...     ...  \n536547          1     1       1       1  \n536610          1     1       1       1  \n536728          1     1       1       1  \n536729          4     4       4       4  \n536747          4     4       4       4  \n\n[30000 rows x 14 columns]",
      "text/html": "<div>\n<style scoped>\n    .dataframe tbody tr th:only-of-type {\n        vertical-align: middle;\n    }\n\n    .dataframe tbody tr th {\n        vertical-align: top;\n    }\n\n    .dataframe thead th {\n        text-align: right;\n    }\n</style>\n<table border=\"1\" class=\"dataframe\">\n  <thead>\n    <tr style=\"text-align: right;\">\n      <th></th>\n      <th>name</th>\n      <th>minutes</th>\n      <th>contributor_id</th>\n      <th>submitted</th>\n      <th>n_steps</th>\n      <th>description</th>\n      <th>n_ingredients</th>\n      <th>description_length</th>\n      <th>name_word_count</th>\n      <th>user_id</th>\n      <th>recipe_id</th>\n      <th>date</th>\n      <th>rating</th>\n      <th>review</th>\n    </tr>\n    <tr>\n      <th>id</th>\n      <th></th>\n      <th></th>\n      <th></th>\n      <th></th>\n      <th></th>\n      <th></th>\n      <th></th>\n      <th></th>\n      <th></th>\n      <th></th>\n      <th></th>\n      <th></th>\n      <th></th>\n      <th></th>\n    </tr>\n  </thead>\n  <tbody>\n    <tr>\n      <th>48</th>\n      <td>2</td>\n      <td>2</td>\n      <td>2</td>\n      <td>2</td>\n      <td>2</td>\n      <td>0</td>\n      <td>2</td>\n      <td>0</td>\n      <td>2</td>\n      <td>2</td>\n      <td>2</td>\n      <td>2</td>\n      <td>2</td>\n      <td>2</td>\n    </tr>\n    <tr>\n      <th>55</th>\n      <td>4</td>\n      <td>4</td>\n      <td>4</td>\n      <td>4</td>\n      <td>0</td>\n      <td>0</td>\n      <td>4</td>\n      <td>0</td>\n      <td>4</td>\n      <td>4</td>\n      <td>4</td>\n      <td>4</td>\n      <td>4</td>\n      <td>4</td>\n    </tr>\n    <tr>\n      <th>66</th>\n      <td>18</td>\n      <td>18</td>\n      <td>18</td>\n      <td>18</td>\n      <td>0</td>\n      <td>18</td>\n      <td>18</td>\n      <td>18</td>\n      <td>18</td>\n      <td>18</td>\n      <td>18</td>\n      <td>18</td>\n      <td>18</td>\n      <td>18</td>\n    </tr>\n    <tr>\n      <th>91</th>\n      <td>4</td>\n      <td>4</td>\n      <td>4</td>\n      <td>4</td>\n      <td>0</td>\n      <td>4</td>\n      <td>0</td>\n      <td>4</td>\n      <td>4</td>\n      <td>4</td>\n      <td>4</td>\n      <td>4</td>\n      <td>4</td>\n      <td>4</td>\n    </tr>\n    <tr>\n      <th>94</th>\n      <td>4</td>\n      <td>4</td>\n      <td>4</td>\n      <td>4</td>\n      <td>4</td>\n      <td>0</td>\n      <td>0</td>\n      <td>0</td>\n      <td>4</td>\n      <td>4</td>\n      <td>4</td>\n      <td>4</td>\n      <td>4</td>\n      <td>4</td>\n    </tr>\n    <tr>\n      <th>...</th>\n      <td>...</td>\n      <td>...</td>\n      <td>...</td>\n      <td>...</td>\n      <td>...</td>\n      <td>...</td>\n      <td>...</td>\n      <td>...</td>\n      <td>...</td>\n      <td>...</td>\n      <td>...</td>\n      <td>...</td>\n      <td>...</td>\n      <td>...</td>\n    </tr>\n    <tr>\n      <th>536547</th>\n      <td>1</td>\n      <td>1</td>\n      <td>1</td>\n      <td>1</td>\n      <td>1</td>\n      <td>1</td>\n      <td>1</td>\n      <td>1</td>\n      <td>1</td>\n      <td>1</td>\n      <td>1</td>\n      <td>1</td>\n      <td>1</td>\n      <td>1</td>\n    </tr>\n    <tr>\n      <th>536610</th>\n      <td>1</td>\n      <td>1</td>\n      <td>1</td>\n      <td>1</td>\n      <td>1</td>\n      <td>1</td>\n      <td>0</td>\n      <td>1</td>\n      <td>1</td>\n      <td>1</td>\n      <td>1</td>\n      <td>1</td>\n      <td>1</td>\n      <td>1</td>\n    </tr>\n    <tr>\n      <th>536728</th>\n      <td>1</td>\n      <td>1</td>\n      <td>1</td>\n      <td>1</td>\n      <td>0</td>\n      <td>1</td>\n      <td>1</td>\n      <td>1</td>\n      <td>1</td>\n      <td>1</td>\n      <td>1</td>\n      <td>1</td>\n      <td>1</td>\n      <td>1</td>\n    </tr>\n    <tr>\n      <th>536729</th>\n      <td>4</td>\n      <td>4</td>\n      <td>4</td>\n      <td>4</td>\n      <td>4</td>\n      <td>4</td>\n      <td>0</td>\n      <td>4</td>\n      <td>4</td>\n      <td>4</td>\n      <td>4</td>\n      <td>4</td>\n      <td>4</td>\n      <td>4</td>\n    </tr>\n    <tr>\n      <th>536747</th>\n      <td>4</td>\n      <td>4</td>\n      <td>4</td>\n      <td>4</td>\n      <td>4</td>\n      <td>4</td>\n      <td>4</td>\n      <td>4</td>\n      <td>4</td>\n      <td>4</td>\n      <td>4</td>\n      <td>4</td>\n      <td>4</td>\n      <td>4</td>\n    </tr>\n  </tbody>\n</table>\n<p>30000 rows × 14 columns</p>\n</div>"
     },
     "execution_count": 31,
     "metadata": {},
     "output_type": "execute_result"
    }
   ],
   "source": [
    "merged_dataframe_2 = pd.merge(recipes, reviews, left_on=\"id\", right_on=\"recipe_id\", how=\"outer\")\n",
    "\n",
    "merged_dataframe_2 = merged_dataframe_2.groupby(\"id\").count()\n",
    "\n",
    "merged_dataframe_2"
   ],
   "metadata": {
    "collapsed": false
   }
  },
  {
   "cell_type": "code",
   "execution_count": 32,
   "outputs": [
    {
     "data": {
      "text/plain": "id\n48                                  Boston cream pie\n55        Betty crocker s southwestern guacamole dip\n66                       Black coffee barbecue sauce\n91                    Brown rice and vegetable pilaf\n94                             Blueberry buttertarts\n                             ...                    \n536547                           Cauliflower ceviche\n536610                 Miracle home made puff pastry\n536728                         Gluten free  vegemite\n536729                  Creole watermelon feta salad\n536747                            Lemon pom pom cake\nName: name, Length: 30000, dtype: object"
     },
     "execution_count": 32,
     "metadata": {},
     "output_type": "execute_result"
    }
   ],
   "source": [
    "# Новый dataframe для извлечения названий рецептов при группировке по id\n",
    "outer_merged_dataframe = pd.merge(recipes, reviews, left_on=\"id\", right_on=\"recipe_id\", how=\"outer\")\n",
    "\n",
    "outer_merged_dataframe.groupby(\"id\").first()[\"name\"]\n"
   ],
   "metadata": {
    "collapsed": false
   }
  },
  {
   "cell_type": "code",
   "execution_count": 33,
   "outputs": [
    {
     "data": {
      "text/plain": "       recipe_id                                        name  review_count\n0             48                            Boston cream pie             2\n1             55  Betty crocker s southwestern guacamole dip             4\n2             66                 Black coffee barbecue sauce            18\n3             91              Brown rice and vegetable pilaf             4\n4             94                       Blueberry buttertarts             4\n...          ...                                         ...           ...\n29995     536547                         Cauliflower ceviche             1\n29996     536610               Miracle home made puff pastry             1\n29997     536728                       Gluten free  vegemite             1\n29998     536729                Creole watermelon feta salad             4\n29999     536747                          Lemon pom pom cake             4\n\n[30000 rows x 3 columns]",
      "text/html": "<div>\n<style scoped>\n    .dataframe tbody tr th:only-of-type {\n        vertical-align: middle;\n    }\n\n    .dataframe tbody tr th {\n        vertical-align: top;\n    }\n\n    .dataframe thead th {\n        text-align: right;\n    }\n</style>\n<table border=\"1\" class=\"dataframe\">\n  <thead>\n    <tr style=\"text-align: right;\">\n      <th></th>\n      <th>recipe_id</th>\n      <th>name</th>\n      <th>review_count</th>\n    </tr>\n  </thead>\n  <tbody>\n    <tr>\n      <th>0</th>\n      <td>48</td>\n      <td>Boston cream pie</td>\n      <td>2</td>\n    </tr>\n    <tr>\n      <th>1</th>\n      <td>55</td>\n      <td>Betty crocker s southwestern guacamole dip</td>\n      <td>4</td>\n    </tr>\n    <tr>\n      <th>2</th>\n      <td>66</td>\n      <td>Black coffee barbecue sauce</td>\n      <td>18</td>\n    </tr>\n    <tr>\n      <th>3</th>\n      <td>91</td>\n      <td>Brown rice and vegetable pilaf</td>\n      <td>4</td>\n    </tr>\n    <tr>\n      <th>4</th>\n      <td>94</td>\n      <td>Blueberry buttertarts</td>\n      <td>4</td>\n    </tr>\n    <tr>\n      <th>...</th>\n      <td>...</td>\n      <td>...</td>\n      <td>...</td>\n    </tr>\n    <tr>\n      <th>29995</th>\n      <td>536547</td>\n      <td>Cauliflower ceviche</td>\n      <td>1</td>\n    </tr>\n    <tr>\n      <th>29996</th>\n      <td>536610</td>\n      <td>Miracle home made puff pastry</td>\n      <td>1</td>\n    </tr>\n    <tr>\n      <th>29997</th>\n      <td>536728</td>\n      <td>Gluten free  vegemite</td>\n      <td>1</td>\n    </tr>\n    <tr>\n      <th>29998</th>\n      <td>536729</td>\n      <td>Creole watermelon feta salad</td>\n      <td>4</td>\n    </tr>\n    <tr>\n      <th>29999</th>\n      <td>536747</td>\n      <td>Lemon pom pom cake</td>\n      <td>4</td>\n    </tr>\n  </tbody>\n</table>\n<p>30000 rows × 3 columns</p>\n</div>"
     },
     "execution_count": 33,
     "metadata": {},
     "output_type": "execute_result"
    }
   ],
   "source": [
    "# получаем названия рецепта, сохранив значение при группировке методом .first()\n",
    "merged_dataframe_2[\"name\"] = outer_merged_dataframe.groupby(\"id\").first()[\"name\"]\n",
    "\n",
    "merged_dataframe_2 = merged_dataframe_2.reset_index()[[\"id\", \"name\", \"review\"]]\n",
    "\n",
    "merged_dataframe_2 = merged_dataframe_2.rename(columns={\"id\": \"recipe_id\", \"review\": \"review_count\"})\n",
    "\n",
    "merged_dataframe_2"
   ],
   "metadata": {
    "collapsed": false
   }
  },
  {
   "cell_type": "code",
   "execution_count": 34,
   "outputs": [
    {
     "data": {
      "text/plain": "       recipe_id                           name  review_count\n16052     223349  Pasta  with shrimp   eggplant             0",
      "text/html": "<div>\n<style scoped>\n    .dataframe tbody tr th:only-of-type {\n        vertical-align: middle;\n    }\n\n    .dataframe tbody tr th {\n        vertical-align: top;\n    }\n\n    .dataframe thead th {\n        text-align: right;\n    }\n</style>\n<table border=\"1\" class=\"dataframe\">\n  <thead>\n    <tr style=\"text-align: right;\">\n      <th></th>\n      <th>recipe_id</th>\n      <th>name</th>\n      <th>review_count</th>\n    </tr>\n  </thead>\n  <tbody>\n    <tr>\n      <th>16052</th>\n      <td>223349</td>\n      <td>Pasta  with shrimp   eggplant</td>\n      <td>0</td>\n    </tr>\n  </tbody>\n</table>\n</div>"
     },
     "execution_count": 34,
     "metadata": {},
     "output_type": "execute_result"
    }
   ],
   "source": [
    "# Проверка: ID рецепта без отзывов = 223349\n",
    "merged_dataframe_2[merged_dataframe_2[\"recipe_id\"] == 223349]"
   ],
   "metadata": {
    "collapsed": false
   }
  },
  {
   "cell_type": "markdown",
   "metadata": {
    "id": "2qLwbRtWxHJA"
   },
   "source": [
    "5.3. Выясните, рецепты, добавленные в каком году, имеют наименьший средний рейтинг?"
   ]
  },
  {
   "cell_type": "code",
   "execution_count": 35,
   "outputs": [
    {
     "data": {
      "text/plain": "submitted\n1999   4.27489\n2000   4.28458\n2001   4.39395\n2002   4.40465\n2003   4.43915\n2004   4.46378\n2005   4.40969\n2006   4.41631\n2007   4.42007\n2008   4.38742\n2009   4.36045\n2010   4.40628\n2011   4.37585\n2012   4.41274\n2013   4.33651\n2014   4.53824\n2015   4.20732\n2016   3.53846\n2017   2.75000\n2018   3.38889\nName: rating, dtype: float64"
     },
     "execution_count": 35,
     "metadata": {},
     "output_type": "execute_result"
    }
   ],
   "source": [
    "merged_dataframe_3 = pd.merge(recipes, reviews, left_on=\"id\", right_on=\"recipe_id\") # Все рецепты с отзывами\n",
    "\n",
    "rating_by_year = merged_dataframe_3.groupby(merged_dataframe_3[\"submitted\"].dt.year)[\"rating\"].mean()\n",
    "\n",
    "rating_by_year"
   ],
   "metadata": {
    "collapsed": false
   }
  },
  {
   "cell_type": "code",
   "execution_count": 36,
   "outputs": [
    {
     "data": {
      "text/plain": "2017"
     },
     "execution_count": 36,
     "metadata": {},
     "output_type": "execute_result"
    }
   ],
   "source": [
    "# В каком году рецепты имеют наименьший рейтинг\n",
    "rating_by_year.idxmin()"
   ],
   "metadata": {
    "collapsed": false
   }
  },
  {
   "cell_type": "markdown",
   "metadata": {
    "id": "Ae6uUQkUxHJB"
   },
   "source": [
    "### Сохранение таблиц `pd.DataFrame`|"
   ]
  },
  {
   "cell_type": "markdown",
   "metadata": {
    "id": "Ix3mANf7xHJB"
   },
   "source": [
    "6.1 Отсортируйте таблицу в порядке убывания величины столбца `name_word_count` и сохраните результаты выполнения заданий 3.1-3.3 в csv файл."
   ]
  },
  {
   "cell_type": "code",
   "execution_count": 37,
   "outputs": [],
   "source": [
    "sorted_recipes = recipes.sort_values(\"name_word_count\", ascending=False)\n",
    "\n",
    "sorted_recipes.to_csv(\"./data/sorted_recipes.csv\", encoding=\"utf-8\")"
   ],
   "metadata": {
    "collapsed": false
   }
  },
  {
   "cell_type": "markdown",
   "metadata": {
    "id": "gKCB7ActxHJB"
   },
   "source": [
    "6.2 Воспользовавшись `pd.ExcelWriter`, cохраните результаты 5.1 и 5.2 в файл: на лист с названием `Рецепты с оценками` сохраните результаты выполнения 5.1; на лист с названием `Количество отзывов по рецептам` сохраните результаты выполнения 5.2."
   ]
  },
  {
   "cell_type": "code",
   "execution_count": 38,
   "metadata": {
    "id": "4svDPXlpxHJC"
   },
   "outputs": [],
   "source": [
    "with pd.ExcelWriter(\"./data/excel_merged.xlsx\") as writer:\n",
    "    merged_dataframe.to_excel(writer, sheet_name=\"Рецепты с оценками\")\n",
    "    merged_dataframe_2.to_excel(writer, sheet_name=\"Количество отзывов по рецептам\")"
   ]
  },
  {
   "cell_type": "code",
   "execution_count": 38,
   "outputs": [],
   "source": [],
   "metadata": {
    "collapsed": false
   }
  }
 ],
 "metadata": {
  "kernelspec": {
   "display_name": "Python 3",
   "language": "python",
   "name": "python3"
  },
  "language_info": {
   "codemirror_mode": {
    "name": "ipython",
    "version": 3
   },
   "file_extension": ".py",
   "mimetype": "text/x-python",
   "name": "python",
   "nbconvert_exporter": "python",
   "pygments_lexer": "ipython3",
   "version": "3.7.4"
  },
  "colab": {
   "provenance": []
  }
 },
 "nbformat": 4,
 "nbformat_minor": 0
}
